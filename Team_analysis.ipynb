{
 "cells": [
  {
   "cell_type": "code",
   "execution_count": 28,
   "id": "304984ad",
   "metadata": {},
   "outputs": [],
   "source": [
    "import pandas as pd\n",
    "import numpy as np\n",
    "import matplotlib.pyplot as plt\n",
    "import plotly.express as px\n"
   ]
  },
  {
   "cell_type": "code",
   "execution_count": 29,
   "id": "ddc555d5",
   "metadata": {},
   "outputs": [],
   "source": [
    "first_four = pd.read_csv('files/first_four.csv')\n",
    "first_four = first_four[['Rk', 'Team', 'Seed', 'Date', 'PTS', 'Opp', 'Opp Seed',\n",
    "       'Result', 'Round', 'Region', 'FG', 'FGA', 'FG%', '2P', '2PA',\n",
    "       '2P%', '3P', '3PA', '3P%', 'FT', 'FTA', 'FT%']]\n",
    "round_one = pd.read_csv('files/round_of_64.csv')\n",
    "round_one = round_one[['Rk', 'Team', 'Seed', 'Date', 'PTS', 'Opp', 'Opp Seed',\n",
    "       'Result', 'Round', 'Region', 'FG', 'FGA', 'FG%', '2P', '2PA',\n",
    "       '2P%', '3P', '3PA', '3P%', 'FT', 'FTA', 'FT%']]"
   ]
  },
  {
   "cell_type": "markdown",
   "id": "914bc7ab",
   "metadata": {},
   "source": [
    "## History Team Stats "
   ]
  },
  {
   "cell_type": "code",
   "execution_count": 30,
   "id": "0fbdb5c3",
   "metadata": {},
   "outputs": [],
   "source": [
    "history_stats = pd.read_csv('files/school-stats.csv')"
   ]
  },
  {
   "cell_type": "code",
   "execution_count": 31,
   "id": "c1e722c8",
   "metadata": {},
   "outputs": [],
   "source": [
    "history_stats = history_stats[['School', 'Yrs', 'W-L%' ,  'CREG', 'CTRN' , 'NCAA', 'FF', 'NC' ]]\n",
    "history_stats = history_stats.fillna(0)"
   ]
  },
  {
   "cell_type": "code",
   "execution_count": 32,
   "id": "ed5f6e2f",
   "metadata": {},
   "outputs": [],
   "source": [
    "def convert_float_to_int(value):\n",
    "    if isinstance(value, float):\n",
    "        return int(value)\n",
    "    else:\n",
    "        return value"
   ]
  },
  {
   "cell_type": "code",
   "execution_count": 33,
   "id": "fc8dacdf",
   "metadata": {},
   "outputs": [],
   "source": [
    "# Apply the function to a specific column using .apply()\n",
    "history_stats['NCAA'] = history_stats['NCAA'].apply(convert_float_to_int)\n",
    "history_stats['FF'] = history_stats['FF'].apply(convert_float_to_int)\n",
    "history_stats['NC'] = history_stats['NC'].apply(convert_float_to_int)"
   ]
  },
  {
   "cell_type": "code",
   "execution_count": 34,
   "id": "7c331eec",
   "metadata": {},
   "outputs": [],
   "source": [
    "# Rename multiple columns using a dictionary\n",
    "new_column_names = {'W-L%': 'Overall_W-L%', 'CREG': 'SZNCHAMPS', 'CTRN': 'TORNCHAMPS', 'NC': 'NATCHAMPS'}\n",
    "history_stats.rename(columns=new_column_names, inplace=True)"
   ]
  },
  {
   "cell_type": "code",
   "execution_count": 35,
   "id": "24c0ee5d",
   "metadata": {},
   "outputs": [
    {
     "data": {
      "text/html": [
       "<div>\n",
       "<style scoped>\n",
       "    .dataframe tbody tr th:only-of-type {\n",
       "        vertical-align: middle;\n",
       "    }\n",
       "\n",
       "    .dataframe tbody tr th {\n",
       "        vertical-align: top;\n",
       "    }\n",
       "\n",
       "    .dataframe thead th {\n",
       "        text-align: right;\n",
       "    }\n",
       "</style>\n",
       "<table border=\"1\" class=\"dataframe\">\n",
       "  <thead>\n",
       "    <tr style=\"text-align: right;\">\n",
       "      <th></th>\n",
       "      <th>School</th>\n",
       "      <th>Yrs</th>\n",
       "      <th>Overall_W-L%</th>\n",
       "      <th>SZNCHAMPS</th>\n",
       "      <th>TORNCHAMPS</th>\n",
       "      <th>NCAA</th>\n",
       "      <th>FF</th>\n",
       "      <th>NATCHAMPS</th>\n",
       "    </tr>\n",
       "  </thead>\n",
       "  <tbody>\n",
       "    <tr>\n",
       "      <th>0</th>\n",
       "      <td>Abilene Christian</td>\n",
       "      <td>14</td>\n",
       "      <td>0.534</td>\n",
       "      <td>0</td>\n",
       "      <td>2</td>\n",
       "      <td>2</td>\n",
       "      <td>0</td>\n",
       "      <td>0</td>\n",
       "    </tr>\n",
       "    <tr>\n",
       "      <th>1</th>\n",
       "      <td>Air Force</td>\n",
       "      <td>67</td>\n",
       "      <td>0.431</td>\n",
       "      <td>1</td>\n",
       "      <td>0</td>\n",
       "      <td>4</td>\n",
       "      <td>0</td>\n",
       "      <td>0</td>\n",
       "    </tr>\n",
       "    <tr>\n",
       "      <th>2</th>\n",
       "      <td>Akron</td>\n",
       "      <td>73</td>\n",
       "      <td>0.598</td>\n",
       "      <td>9</td>\n",
       "      <td>6</td>\n",
       "      <td>6</td>\n",
       "      <td>0</td>\n",
       "      <td>0</td>\n",
       "    </tr>\n",
       "    <tr>\n",
       "      <th>3</th>\n",
       "      <td>Alabama</td>\n",
       "      <td>111</td>\n",
       "      <td>0.620</td>\n",
       "      <td>12</td>\n",
       "      <td>9</td>\n",
       "      <td>25</td>\n",
       "      <td>0</td>\n",
       "      <td>0</td>\n",
       "    </tr>\n",
       "    <tr>\n",
       "      <th>4</th>\n",
       "      <td>Alabama A&amp;M</td>\n",
       "      <td>25</td>\n",
       "      <td>0.383</td>\n",
       "      <td>1</td>\n",
       "      <td>1</td>\n",
       "      <td>1</td>\n",
       "      <td>0</td>\n",
       "      <td>0</td>\n",
       "    </tr>\n",
       "    <tr>\n",
       "      <th>...</th>\n",
       "      <td>...</td>\n",
       "      <td>...</td>\n",
       "      <td>...</td>\n",
       "      <td>...</td>\n",
       "      <td>...</td>\n",
       "      <td>...</td>\n",
       "      <td>...</td>\n",
       "      <td>...</td>\n",
       "    </tr>\n",
       "    <tr>\n",
       "      <th>486</th>\n",
       "      <td>Wright State</td>\n",
       "      <td>37</td>\n",
       "      <td>0.559</td>\n",
       "      <td>4</td>\n",
       "      <td>4</td>\n",
       "      <td>4</td>\n",
       "      <td>0</td>\n",
       "      <td>0</td>\n",
       "    </tr>\n",
       "    <tr>\n",
       "      <th>487</th>\n",
       "      <td>Wyoming</td>\n",
       "      <td>119</td>\n",
       "      <td>0.559</td>\n",
       "      <td>21</td>\n",
       "      <td>3</td>\n",
       "      <td>16</td>\n",
       "      <td>1</td>\n",
       "      <td>1</td>\n",
       "    </tr>\n",
       "    <tr>\n",
       "      <th>488</th>\n",
       "      <td>Xavier</td>\n",
       "      <td>103</td>\n",
       "      <td>0.597</td>\n",
       "      <td>18</td>\n",
       "      <td>9</td>\n",
       "      <td>29</td>\n",
       "      <td>0</td>\n",
       "      <td>0</td>\n",
       "    </tr>\n",
       "    <tr>\n",
       "      <th>489</th>\n",
       "      <td>Yale</td>\n",
       "      <td>128</td>\n",
       "      <td>0.508</td>\n",
       "      <td>16</td>\n",
       "      <td>3</td>\n",
       "      <td>7</td>\n",
       "      <td>0</td>\n",
       "      <td>0</td>\n",
       "    </tr>\n",
       "    <tr>\n",
       "      <th>490</th>\n",
       "      <td>Youngstown State</td>\n",
       "      <td>44</td>\n",
       "      <td>0.410</td>\n",
       "      <td>1</td>\n",
       "      <td>0</td>\n",
       "      <td>0</td>\n",
       "      <td>0</td>\n",
       "      <td>0</td>\n",
       "    </tr>\n",
       "  </tbody>\n",
       "</table>\n",
       "<p>491 rows × 8 columns</p>\n",
       "</div>"
      ],
      "text/plain": [
       "                School  Yrs  Overall_W-L%  SZNCHAMPS  TORNCHAMPS  NCAA  FF  \\\n",
       "0    Abilene Christian   14         0.534          0           2     2   0   \n",
       "1            Air Force   67         0.431          1           0     4   0   \n",
       "2                Akron   73         0.598          9           6     6   0   \n",
       "3              Alabama  111         0.620         12           9    25   0   \n",
       "4          Alabama A&M   25         0.383          1           1     1   0   \n",
       "..                 ...  ...           ...        ...         ...   ...  ..   \n",
       "486       Wright State   37         0.559          4           4     4   0   \n",
       "487            Wyoming  119         0.559         21           3    16   1   \n",
       "488             Xavier  103         0.597         18           9    29   0   \n",
       "489               Yale  128         0.508         16           3     7   0   \n",
       "490   Youngstown State   44         0.410          1           0     0   0   \n",
       "\n",
       "     NATCHAMPS  \n",
       "0            0  \n",
       "1            0  \n",
       "2            0  \n",
       "3            0  \n",
       "4            0  \n",
       "..         ...  \n",
       "486          0  \n",
       "487          1  \n",
       "488          0  \n",
       "489          0  \n",
       "490          0  \n",
       "\n",
       "[491 rows x 8 columns]"
      ]
     },
     "execution_count": 35,
     "metadata": {},
     "output_type": "execute_result"
    }
   ],
   "source": [
    "history_stats"
   ]
  },
  {
   "cell_type": "markdown",
   "id": "44bc7c48",
   "metadata": {},
   "source": [
    "## School Rank Stats"
   ]
  },
  {
   "cell_type": "code",
   "execution_count": 36,
   "id": "b3b7cfa5",
   "metadata": {},
   "outputs": [],
   "source": [
    "school_rank = pd.read_csv('files/ncaa_school_rank.csv')"
   ]
  },
  {
   "cell_type": "code",
   "execution_count": 37,
   "id": "7effa2db",
   "metadata": {},
   "outputs": [],
   "source": [
    "school_rank = school_rank.drop(columns = ['Unnamed: 3', 'Unnamed: 11', 'Unnamed: 9'])"
   ]
  },
  {
   "cell_type": "code",
   "execution_count": 38,
   "id": "2fed1731",
   "metadata": {},
   "outputs": [],
   "source": [
    "school_rank['W_L%'] = (school_rank['W'] / (school_rank['W'] + school_rank['L'])) "
   ]
  },
  {
   "cell_type": "code",
   "execution_count": 39,
   "id": "d1e9bf70",
   "metadata": {},
   "outputs": [],
   "source": [
    "school_rank = school_rank[['School', 'W_L%','MOV', 'SOS' , 'SRS','ORtg', 'DRtg', 'NRtg' ]]"
   ]
  },
  {
   "cell_type": "code",
   "execution_count": 40,
   "id": "f89d1725",
   "metadata": {},
   "outputs": [],
   "source": [
    "# Rename multiple columns using a dictionary\n",
    "new_column_names = {'W_L%': 'SZN_W-L%'}\n",
    "school_rank.rename(columns=new_column_names, inplace=True)"
   ]
  },
  {
   "cell_type": "code",
   "execution_count": 41,
   "id": "10208c27",
   "metadata": {},
   "outputs": [
    {
     "data": {
      "text/html": [
       "<div>\n",
       "<style scoped>\n",
       "    .dataframe tbody tr th:only-of-type {\n",
       "        vertical-align: middle;\n",
       "    }\n",
       "\n",
       "    .dataframe tbody tr th {\n",
       "        vertical-align: top;\n",
       "    }\n",
       "\n",
       "    .dataframe thead th {\n",
       "        text-align: right;\n",
       "    }\n",
       "</style>\n",
       "<table border=\"1\" class=\"dataframe\">\n",
       "  <thead>\n",
       "    <tr style=\"text-align: right;\">\n",
       "      <th></th>\n",
       "      <th>School</th>\n",
       "      <th>SZN_W-L%</th>\n",
       "      <th>MOV</th>\n",
       "      <th>SOS</th>\n",
       "      <th>SRS</th>\n",
       "      <th>ORtg</th>\n",
       "      <th>DRtg</th>\n",
       "      <th>NRtg</th>\n",
       "    </tr>\n",
       "  </thead>\n",
       "  <tbody>\n",
       "    <tr>\n",
       "      <th>0</th>\n",
       "      <td>Alabama</td>\n",
       "      <td>0.837838</td>\n",
       "      <td>13.54</td>\n",
       "      <td>9.65</td>\n",
       "      <td>23.19</td>\n",
       "      <td>116.59</td>\n",
       "      <td>84.21</td>\n",
       "      <td>32.38</td>\n",
       "    </tr>\n",
       "    <tr>\n",
       "      <th>1</th>\n",
       "      <td>Connecticut</td>\n",
       "      <td>0.794872</td>\n",
       "      <td>14.44</td>\n",
       "      <td>8.51</td>\n",
       "      <td>22.95</td>\n",
       "      <td>120.24</td>\n",
       "      <td>87.74</td>\n",
       "      <td>32.50</td>\n",
       "    </tr>\n",
       "    <tr>\n",
       "      <th>2</th>\n",
       "      <td>Houston</td>\n",
       "      <td>0.891892</td>\n",
       "      <td>17.41</td>\n",
       "      <td>4.79</td>\n",
       "      <td>22.20</td>\n",
       "      <td>118.29</td>\n",
       "      <td>84.87</td>\n",
       "      <td>33.42</td>\n",
       "    </tr>\n",
       "    <tr>\n",
       "      <th>3</th>\n",
       "      <td>UCLA</td>\n",
       "      <td>0.837838</td>\n",
       "      <td>13.46</td>\n",
       "      <td>8.66</td>\n",
       "      <td>22.11</td>\n",
       "      <td>116.30</td>\n",
       "      <td>84.44</td>\n",
       "      <td>31.86</td>\n",
       "    </tr>\n",
       "    <tr>\n",
       "      <th>4</th>\n",
       "      <td>Tennessee</td>\n",
       "      <td>0.694444</td>\n",
       "      <td>12.86</td>\n",
       "      <td>7.98</td>\n",
       "      <td>20.84</td>\n",
       "      <td>113.02</td>\n",
       "      <td>82.38</td>\n",
       "      <td>30.64</td>\n",
       "    </tr>\n",
       "    <tr>\n",
       "      <th>...</th>\n",
       "      <td>...</td>\n",
       "      <td>...</td>\n",
       "      <td>...</td>\n",
       "      <td>...</td>\n",
       "      <td>...</td>\n",
       "      <td>...</td>\n",
       "      <td>...</td>\n",
       "      <td>...</td>\n",
       "    </tr>\n",
       "    <tr>\n",
       "      <th>358</th>\n",
       "      <td>Mississippi Valley State</td>\n",
       "      <td>0.156250</td>\n",
       "      <td>-13.72</td>\n",
       "      <td>-4.56</td>\n",
       "      <td>-18.28</td>\n",
       "      <td>87.04</td>\n",
       "      <td>113.04</td>\n",
       "      <td>-26.00</td>\n",
       "    </tr>\n",
       "    <tr>\n",
       "      <th>359</th>\n",
       "      <td>IUPUI</td>\n",
       "      <td>0.156250</td>\n",
       "      <td>-11.47</td>\n",
       "      <td>-5.57</td>\n",
       "      <td>-19.00</td>\n",
       "      <td>91.01</td>\n",
       "      <td>118.47</td>\n",
       "      <td>-27.46</td>\n",
       "    </tr>\n",
       "    <tr>\n",
       "      <th>360</th>\n",
       "      <td>Green Bay</td>\n",
       "      <td>0.093750</td>\n",
       "      <td>-17.16</td>\n",
       "      <td>-3.14</td>\n",
       "      <td>-20.30</td>\n",
       "      <td>86.19</td>\n",
       "      <td>116.34</td>\n",
       "      <td>-30.15</td>\n",
       "    </tr>\n",
       "    <tr>\n",
       "      <th>361</th>\n",
       "      <td>Hartford</td>\n",
       "      <td>0.178571</td>\n",
       "      <td>-8.36</td>\n",
       "      <td>-7.96</td>\n",
       "      <td>-23.12</td>\n",
       "      <td>84.31</td>\n",
       "      <td>118.29</td>\n",
       "      <td>-33.98</td>\n",
       "    </tr>\n",
       "    <tr>\n",
       "      <th>362</th>\n",
       "      <td>Long Island University</td>\n",
       "      <td>0.103448</td>\n",
       "      <td>-13.24</td>\n",
       "      <td>-6.61</td>\n",
       "      <td>-24.46</td>\n",
       "      <td>83.42</td>\n",
       "      <td>116.48</td>\n",
       "      <td>-33.06</td>\n",
       "    </tr>\n",
       "  </tbody>\n",
       "</table>\n",
       "<p>363 rows × 8 columns</p>\n",
       "</div>"
      ],
      "text/plain": [
       "                       School  SZN_W-L%    MOV   SOS    SRS    ORtg    DRtg  \\\n",
       "0                     Alabama  0.837838  13.54  9.65  23.19  116.59   84.21   \n",
       "1                 Connecticut  0.794872  14.44  8.51  22.95  120.24   87.74   \n",
       "2                     Houston  0.891892  17.41  4.79  22.20  118.29   84.87   \n",
       "3                        UCLA  0.837838  13.46  8.66  22.11  116.30   84.44   \n",
       "4                   Tennessee  0.694444  12.86  7.98  20.84  113.02   82.38   \n",
       "..                        ...       ...    ...   ...    ...     ...     ...   \n",
       "358  Mississippi Valley State  0.156250 -13.72 -4.56 -18.28   87.04  113.04   \n",
       "359                     IUPUI  0.156250 -11.47 -5.57 -19.00   91.01  118.47   \n",
       "360                 Green Bay  0.093750 -17.16 -3.14 -20.30   86.19  116.34   \n",
       "361                  Hartford  0.178571  -8.36 -7.96 -23.12   84.31  118.29   \n",
       "362    Long Island University  0.103448 -13.24 -6.61 -24.46   83.42  116.48   \n",
       "\n",
       "      NRtg  \n",
       "0    32.38  \n",
       "1    32.50  \n",
       "2    33.42  \n",
       "3    31.86  \n",
       "4    30.64  \n",
       "..     ...  \n",
       "358 -26.00  \n",
       "359 -27.46  \n",
       "360 -30.15  \n",
       "361 -33.98  \n",
       "362 -33.06  \n",
       "\n",
       "[363 rows x 8 columns]"
      ]
     },
     "execution_count": 41,
     "metadata": {},
     "output_type": "execute_result"
    }
   ],
   "source": [
    "school_rank"
   ]
  },
  {
   "cell_type": "markdown",
   "id": "dad596e3",
   "metadata": {},
   "source": [
    "## Coach Stats"
   ]
  },
  {
   "cell_type": "code",
   "execution_count": 42,
   "id": "06f4578d",
   "metadata": {},
   "outputs": [],
   "source": [
    "coach = pd.read_csv('files/coach.csv')"
   ]
  },
  {
   "cell_type": "code",
   "execution_count": 43,
   "id": "a31e2e89",
   "metadata": {},
   "outputs": [],
   "source": [
    "coach_stats = coach[['Coach', 'School', 'W-L%', 'W-L%.2', 'NCAA.1', 'S16.1', 'FF.1', 'Chmp.1' ]]"
   ]
  },
  {
   "cell_type": "code",
   "execution_count": 44,
   "id": "e347539b",
   "metadata": {},
   "outputs": [],
   "source": [
    "import pandas as pd\n",
    "\n",
    "# Assuming coach_stats is your DataFrame\n",
    "coach_stats_copy = coach_stats.copy()\n",
    "\n",
    "# Rename multiple columns using a dictionary\n",
    "new_column_names = {'W-L%': 'SZNC_W-L%', 'W-L%.2': 'OC_W-L%', 'NCAA.1': 'C_NCAA', 'S16.1': 'C_S16', 'FF.1': 'C_FF', 'Chmp.1': 'C_CHAMP'}\n",
    "coach_stats_copy.rename(columns=new_column_names, inplace=True)\n",
    "\n",
    "# Now coach_stats_copy has the renamed columns\n",
    "coach_stats_copy = coach_stats_copy.fillna(0)\n"
   ]
  },
  {
   "cell_type": "code",
   "execution_count": 45,
   "id": "28122ede",
   "metadata": {},
   "outputs": [
    {
     "data": {
      "text/html": [
       "<div>\n",
       "<style scoped>\n",
       "    .dataframe tbody tr th:only-of-type {\n",
       "        vertical-align: middle;\n",
       "    }\n",
       "\n",
       "    .dataframe tbody tr th {\n",
       "        vertical-align: top;\n",
       "    }\n",
       "\n",
       "    .dataframe thead th {\n",
       "        text-align: right;\n",
       "    }\n",
       "</style>\n",
       "<table border=\"1\" class=\"dataframe\">\n",
       "  <thead>\n",
       "    <tr style=\"text-align: right;\">\n",
       "      <th></th>\n",
       "      <th>Coach</th>\n",
       "      <th>School</th>\n",
       "      <th>SZNC_W-L%</th>\n",
       "      <th>OC_W-L%</th>\n",
       "      <th>C_NCAA</th>\n",
       "      <th>C_S16</th>\n",
       "      <th>C_FF</th>\n",
       "      <th>C_CHAMP</th>\n",
       "    </tr>\n",
       "  </thead>\n",
       "  <tbody>\n",
       "    <tr>\n",
       "      <th>0</th>\n",
       "      <td>Amir Abdur-Rahim</td>\n",
       "      <td>Kennesaw State</td>\n",
       "      <td>0.743</td>\n",
       "      <td>0.378</td>\n",
       "      <td>1.0</td>\n",
       "      <td>0.0</td>\n",
       "      <td>0.0</td>\n",
       "      <td>0.0</td>\n",
       "    </tr>\n",
       "    <tr>\n",
       "      <th>1</th>\n",
       "      <td>Lennie Acuff</td>\n",
       "      <td>Lipscomb</td>\n",
       "      <td>0.606</td>\n",
       "      <td>0.520</td>\n",
       "      <td>0.0</td>\n",
       "      <td>0.0</td>\n",
       "      <td>0.0</td>\n",
       "      <td>0.0</td>\n",
       "    </tr>\n",
       "    <tr>\n",
       "      <th>2</th>\n",
       "      <td>Mark Adams</td>\n",
       "      <td>Texas Tech</td>\n",
       "      <td>0.516</td>\n",
       "      <td>0.431</td>\n",
       "      <td>1.0</td>\n",
       "      <td>1.0</td>\n",
       "      <td>0.0</td>\n",
       "      <td>0.0</td>\n",
       "    </tr>\n",
       "    <tr>\n",
       "      <th>3</th>\n",
       "      <td>John Aiken</td>\n",
       "      <td>McNeese State</td>\n",
       "      <td>0.324</td>\n",
       "      <td>0.328</td>\n",
       "      <td>0.0</td>\n",
       "      <td>0.0</td>\n",
       "      <td>0.0</td>\n",
       "      <td>0.0</td>\n",
       "    </tr>\n",
       "    <tr>\n",
       "      <th>4</th>\n",
       "      <td>Griff Aldrich</td>\n",
       "      <td>Longwood</td>\n",
       "      <td>0.625</td>\n",
       "      <td>0.550</td>\n",
       "      <td>1.0</td>\n",
       "      <td>0.0</td>\n",
       "      <td>0.0</td>\n",
       "      <td>0.0</td>\n",
       "    </tr>\n",
       "    <tr>\n",
       "      <th>...</th>\n",
       "      <td>...</td>\n",
       "      <td>...</td>\n",
       "      <td>...</td>\n",
       "      <td>...</td>\n",
       "      <td>...</td>\n",
       "      <td>...</td>\n",
       "      <td>...</td>\n",
       "      <td>...</td>\n",
       "    </tr>\n",
       "    <tr>\n",
       "      <th>368</th>\n",
       "      <td>Luke Yaklich</td>\n",
       "      <td>UIC</td>\n",
       "      <td>0.375</td>\n",
       "      <td>0.417</td>\n",
       "      <td>0.0</td>\n",
       "      <td>0.0</td>\n",
       "      <td>0.0</td>\n",
       "      <td>0.0</td>\n",
       "    </tr>\n",
       "    <tr>\n",
       "      <th>369</th>\n",
       "      <td>Greg Young</td>\n",
       "      <td>UT Arlington</td>\n",
       "      <td>0.360</td>\n",
       "      <td>0.370</td>\n",
       "      <td>0.0</td>\n",
       "      <td>0.0</td>\n",
       "      <td>0.0</td>\n",
       "      <td>0.0</td>\n",
       "    </tr>\n",
       "    <tr>\n",
       "      <th>370</th>\n",
       "      <td>Jay Young</td>\n",
       "      <td>Fairfield</td>\n",
       "      <td>0.419</td>\n",
       "      <td>0.407</td>\n",
       "      <td>0.0</td>\n",
       "      <td>0.0</td>\n",
       "      <td>0.0</td>\n",
       "      <td>0.0</td>\n",
       "    </tr>\n",
       "    <tr>\n",
       "      <th>371</th>\n",
       "      <td>Mike Young</td>\n",
       "      <td>Virginia Tech</td>\n",
       "      <td>0.559</td>\n",
       "      <td>0.558</td>\n",
       "      <td>7.0</td>\n",
       "      <td>0.0</td>\n",
       "      <td>0.0</td>\n",
       "      <td>0.0</td>\n",
       "    </tr>\n",
       "    <tr>\n",
       "      <th>372</th>\n",
       "      <td>Jaret von Rosenberg</td>\n",
       "      <td>Texas A&amp;M-Commerce</td>\n",
       "      <td>0.406</td>\n",
       "      <td>0.406</td>\n",
       "      <td>0.0</td>\n",
       "      <td>0.0</td>\n",
       "      <td>0.0</td>\n",
       "      <td>0.0</td>\n",
       "    </tr>\n",
       "  </tbody>\n",
       "</table>\n",
       "<p>373 rows × 8 columns</p>\n",
       "</div>"
      ],
      "text/plain": [
       "                   Coach              School  SZNC_W-L%  OC_W-L%  C_NCAA  \\\n",
       "0       Amir Abdur-Rahim      Kennesaw State      0.743    0.378     1.0   \n",
       "1           Lennie Acuff            Lipscomb      0.606    0.520     0.0   \n",
       "2             Mark Adams          Texas Tech      0.516    0.431     1.0   \n",
       "3             John Aiken       McNeese State      0.324    0.328     0.0   \n",
       "4          Griff Aldrich            Longwood      0.625    0.550     1.0   \n",
       "..                   ...                 ...        ...      ...     ...   \n",
       "368         Luke Yaklich                 UIC      0.375    0.417     0.0   \n",
       "369           Greg Young        UT Arlington      0.360    0.370     0.0   \n",
       "370            Jay Young           Fairfield      0.419    0.407     0.0   \n",
       "371           Mike Young       Virginia Tech      0.559    0.558     7.0   \n",
       "372  Jaret von Rosenberg  Texas A&M-Commerce      0.406    0.406     0.0   \n",
       "\n",
       "     C_S16  C_FF  C_CHAMP  \n",
       "0      0.0   0.0      0.0  \n",
       "1      0.0   0.0      0.0  \n",
       "2      1.0   0.0      0.0  \n",
       "3      0.0   0.0      0.0  \n",
       "4      0.0   0.0      0.0  \n",
       "..     ...   ...      ...  \n",
       "368    0.0   0.0      0.0  \n",
       "369    0.0   0.0      0.0  \n",
       "370    0.0   0.0      0.0  \n",
       "371    0.0   0.0      0.0  \n",
       "372    0.0   0.0      0.0  \n",
       "\n",
       "[373 rows x 8 columns]"
      ]
     },
     "execution_count": 45,
     "metadata": {},
     "output_type": "execute_result"
    }
   ],
   "source": [
    "coach_stats_copy"
   ]
  },
  {
   "cell_type": "code",
   "execution_count": 46,
   "id": "fc0a51c2",
   "metadata": {},
   "outputs": [],
   "source": [
    "# Apply the function to a specific column using .apply()\n",
    "coach_stats_copy['C_NCAA'] = coach_stats_copy['C_NCAA'] .apply(convert_float_to_int)\n",
    "coach_stats_copy['C_S16'] = coach_stats_copy['C_S16'].apply(convert_float_to_int)\n",
    "coach_stats_copy['C_FF'] = coach_stats_copy['C_FF'].apply(convert_float_to_int)\n",
    "coach_stats_copy['C_CHAMP'] = coach_stats_copy['C_CHAMP'].apply(convert_float_to_int)"
   ]
  },
  {
   "cell_type": "code",
   "execution_count": 47,
   "id": "fad7ecf6",
   "metadata": {},
   "outputs": [
    {
     "data": {
      "text/html": [
       "<div>\n",
       "<style scoped>\n",
       "    .dataframe tbody tr th:only-of-type {\n",
       "        vertical-align: middle;\n",
       "    }\n",
       "\n",
       "    .dataframe tbody tr th {\n",
       "        vertical-align: top;\n",
       "    }\n",
       "\n",
       "    .dataframe thead th {\n",
       "        text-align: right;\n",
       "    }\n",
       "</style>\n",
       "<table border=\"1\" class=\"dataframe\">\n",
       "  <thead>\n",
       "    <tr style=\"text-align: right;\">\n",
       "      <th></th>\n",
       "      <th>Coach</th>\n",
       "      <th>School</th>\n",
       "      <th>SZNC_W-L%</th>\n",
       "      <th>OC_W-L%</th>\n",
       "      <th>C_NCAA</th>\n",
       "      <th>C_S16</th>\n",
       "      <th>C_FF</th>\n",
       "      <th>C_CHAMP</th>\n",
       "    </tr>\n",
       "  </thead>\n",
       "  <tbody>\n",
       "    <tr>\n",
       "      <th>0</th>\n",
       "      <td>Amir Abdur-Rahim</td>\n",
       "      <td>Kennesaw State</td>\n",
       "      <td>0.743</td>\n",
       "      <td>0.378</td>\n",
       "      <td>1</td>\n",
       "      <td>0</td>\n",
       "      <td>0</td>\n",
       "      <td>0</td>\n",
       "    </tr>\n",
       "    <tr>\n",
       "      <th>1</th>\n",
       "      <td>Lennie Acuff</td>\n",
       "      <td>Lipscomb</td>\n",
       "      <td>0.606</td>\n",
       "      <td>0.520</td>\n",
       "      <td>0</td>\n",
       "      <td>0</td>\n",
       "      <td>0</td>\n",
       "      <td>0</td>\n",
       "    </tr>\n",
       "    <tr>\n",
       "      <th>2</th>\n",
       "      <td>Mark Adams</td>\n",
       "      <td>Texas Tech</td>\n",
       "      <td>0.516</td>\n",
       "      <td>0.431</td>\n",
       "      <td>1</td>\n",
       "      <td>1</td>\n",
       "      <td>0</td>\n",
       "      <td>0</td>\n",
       "    </tr>\n",
       "    <tr>\n",
       "      <th>3</th>\n",
       "      <td>John Aiken</td>\n",
       "      <td>McNeese State</td>\n",
       "      <td>0.324</td>\n",
       "      <td>0.328</td>\n",
       "      <td>0</td>\n",
       "      <td>0</td>\n",
       "      <td>0</td>\n",
       "      <td>0</td>\n",
       "    </tr>\n",
       "    <tr>\n",
       "      <th>4</th>\n",
       "      <td>Griff Aldrich</td>\n",
       "      <td>Longwood</td>\n",
       "      <td>0.625</td>\n",
       "      <td>0.550</td>\n",
       "      <td>1</td>\n",
       "      <td>0</td>\n",
       "      <td>0</td>\n",
       "      <td>0</td>\n",
       "    </tr>\n",
       "    <tr>\n",
       "      <th>...</th>\n",
       "      <td>...</td>\n",
       "      <td>...</td>\n",
       "      <td>...</td>\n",
       "      <td>...</td>\n",
       "      <td>...</td>\n",
       "      <td>...</td>\n",
       "      <td>...</td>\n",
       "      <td>...</td>\n",
       "    </tr>\n",
       "    <tr>\n",
       "      <th>368</th>\n",
       "      <td>Luke Yaklich</td>\n",
       "      <td>UIC</td>\n",
       "      <td>0.375</td>\n",
       "      <td>0.417</td>\n",
       "      <td>0</td>\n",
       "      <td>0</td>\n",
       "      <td>0</td>\n",
       "      <td>0</td>\n",
       "    </tr>\n",
       "    <tr>\n",
       "      <th>369</th>\n",
       "      <td>Greg Young</td>\n",
       "      <td>UT Arlington</td>\n",
       "      <td>0.360</td>\n",
       "      <td>0.370</td>\n",
       "      <td>0</td>\n",
       "      <td>0</td>\n",
       "      <td>0</td>\n",
       "      <td>0</td>\n",
       "    </tr>\n",
       "    <tr>\n",
       "      <th>370</th>\n",
       "      <td>Jay Young</td>\n",
       "      <td>Fairfield</td>\n",
       "      <td>0.419</td>\n",
       "      <td>0.407</td>\n",
       "      <td>0</td>\n",
       "      <td>0</td>\n",
       "      <td>0</td>\n",
       "      <td>0</td>\n",
       "    </tr>\n",
       "    <tr>\n",
       "      <th>371</th>\n",
       "      <td>Mike Young</td>\n",
       "      <td>Virginia Tech</td>\n",
       "      <td>0.559</td>\n",
       "      <td>0.558</td>\n",
       "      <td>7</td>\n",
       "      <td>0</td>\n",
       "      <td>0</td>\n",
       "      <td>0</td>\n",
       "    </tr>\n",
       "    <tr>\n",
       "      <th>372</th>\n",
       "      <td>Jaret von Rosenberg</td>\n",
       "      <td>Texas A&amp;M-Commerce</td>\n",
       "      <td>0.406</td>\n",
       "      <td>0.406</td>\n",
       "      <td>0</td>\n",
       "      <td>0</td>\n",
       "      <td>0</td>\n",
       "      <td>0</td>\n",
       "    </tr>\n",
       "  </tbody>\n",
       "</table>\n",
       "<p>373 rows × 8 columns</p>\n",
       "</div>"
      ],
      "text/plain": [
       "                   Coach              School  SZNC_W-L%  OC_W-L%  C_NCAA  \\\n",
       "0       Amir Abdur-Rahim      Kennesaw State      0.743    0.378       1   \n",
       "1           Lennie Acuff            Lipscomb      0.606    0.520       0   \n",
       "2             Mark Adams          Texas Tech      0.516    0.431       1   \n",
       "3             John Aiken       McNeese State      0.324    0.328       0   \n",
       "4          Griff Aldrich            Longwood      0.625    0.550       1   \n",
       "..                   ...                 ...        ...      ...     ...   \n",
       "368         Luke Yaklich                 UIC      0.375    0.417       0   \n",
       "369           Greg Young        UT Arlington      0.360    0.370       0   \n",
       "370            Jay Young           Fairfield      0.419    0.407       0   \n",
       "371           Mike Young       Virginia Tech      0.559    0.558       7   \n",
       "372  Jaret von Rosenberg  Texas A&M-Commerce      0.406    0.406       0   \n",
       "\n",
       "     C_S16  C_FF  C_CHAMP  \n",
       "0        0     0        0  \n",
       "1        0     0        0  \n",
       "2        1     0        0  \n",
       "3        0     0        0  \n",
       "4        0     0        0  \n",
       "..     ...   ...      ...  \n",
       "368      0     0        0  \n",
       "369      0     0        0  \n",
       "370      0     0        0  \n",
       "371      0     0        0  \n",
       "372      0     0        0  \n",
       "\n",
       "[373 rows x 8 columns]"
      ]
     },
     "execution_count": 47,
     "metadata": {},
     "output_type": "execute_result"
    }
   ],
   "source": [
    "coach_stats_copy"
   ]
  },
  {
   "cell_type": "markdown",
   "id": "cd6b8feb",
   "metadata": {},
   "source": [
    "## AP Poll Stats and Visualization"
   ]
  },
  {
   "cell_type": "code",
   "execution_count": 48,
   "id": "9511a853",
   "metadata": {},
   "outputs": [],
   "source": [
    "ap_polls = pd.read_csv('files/ap_polls_ncaa.csv')"
   ]
  },
  {
   "cell_type": "code",
   "execution_count": 49,
   "id": "9b061f8e",
   "metadata": {},
   "outputs": [
    {
     "data": {
      "text/html": [
       "<div>\n",
       "<style scoped>\n",
       "    .dataframe tbody tr th:only-of-type {\n",
       "        vertical-align: middle;\n",
       "    }\n",
       "\n",
       "    .dataframe tbody tr th {\n",
       "        vertical-align: top;\n",
       "    }\n",
       "\n",
       "    .dataframe thead th {\n",
       "        text-align: right;\n",
       "    }\n",
       "</style>\n",
       "<table border=\"1\" class=\"dataframe\">\n",
       "  <thead>\n",
       "    <tr style=\"text-align: right;\">\n",
       "      <th></th>\n",
       "      <th>School</th>\n",
       "      <th>Conf</th>\n",
       "      <th>Pre</th>\n",
       "      <th>11/14</th>\n",
       "      <th>11/21</th>\n",
       "      <th>11/28</th>\n",
       "      <th>12/5</th>\n",
       "      <th>12/12</th>\n",
       "      <th>12/19</th>\n",
       "      <th>12/26</th>\n",
       "      <th>...</th>\n",
       "      <th>1/9</th>\n",
       "      <th>1/16</th>\n",
       "      <th>1/23</th>\n",
       "      <th>1/30</th>\n",
       "      <th>2/6</th>\n",
       "      <th>2/13</th>\n",
       "      <th>2/20</th>\n",
       "      <th>2/27</th>\n",
       "      <th>3/6</th>\n",
       "      <th>Final</th>\n",
       "    </tr>\n",
       "  </thead>\n",
       "  <tbody>\n",
       "    <tr>\n",
       "      <th>0</th>\n",
       "      <td>Alabama</td>\n",
       "      <td>SEC</td>\n",
       "      <td>20.0</td>\n",
       "      <td>18.0</td>\n",
       "      <td>18.0</td>\n",
       "      <td>11.0</td>\n",
       "      <td>8.0</td>\n",
       "      <td>4.0</td>\n",
       "      <td>9.0</td>\n",
       "      <td>8.0</td>\n",
       "      <td>...</td>\n",
       "      <td>4.0</td>\n",
       "      <td>4.0</td>\n",
       "      <td>2.0</td>\n",
       "      <td>4.0</td>\n",
       "      <td>3.0</td>\n",
       "      <td>1.0</td>\n",
       "      <td>2.0</td>\n",
       "      <td>2.0</td>\n",
       "      <td>4.0</td>\n",
       "      <td>1.0</td>\n",
       "    </tr>\n",
       "    <tr>\n",
       "      <th>1</th>\n",
       "      <td>Arizona</td>\n",
       "      <td>Pac-12</td>\n",
       "      <td>17.0</td>\n",
       "      <td>14.0</td>\n",
       "      <td>14.0</td>\n",
       "      <td>4.0</td>\n",
       "      <td>10.0</td>\n",
       "      <td>9.0</td>\n",
       "      <td>5.0</td>\n",
       "      <td>5.0</td>\n",
       "      <td>...</td>\n",
       "      <td>9.0</td>\n",
       "      <td>11.0</td>\n",
       "      <td>6.0</td>\n",
       "      <td>5.0</td>\n",
       "      <td>4.0</td>\n",
       "      <td>8.0</td>\n",
       "      <td>7.0</td>\n",
       "      <td>8.0</td>\n",
       "      <td>8.0</td>\n",
       "      <td>8.0</td>\n",
       "    </tr>\n",
       "    <tr>\n",
       "      <th>2</th>\n",
       "      <td>Arizona State</td>\n",
       "      <td>Pac-12</td>\n",
       "      <td>NaN</td>\n",
       "      <td>NaN</td>\n",
       "      <td>NaN</td>\n",
       "      <td>NaN</td>\n",
       "      <td>NaN</td>\n",
       "      <td>NaN</td>\n",
       "      <td>25.0</td>\n",
       "      <td>NaN</td>\n",
       "      <td>...</td>\n",
       "      <td>NaN</td>\n",
       "      <td>NaN</td>\n",
       "      <td>NaN</td>\n",
       "      <td>NaN</td>\n",
       "      <td>NaN</td>\n",
       "      <td>NaN</td>\n",
       "      <td>NaN</td>\n",
       "      <td>NaN</td>\n",
       "      <td>NaN</td>\n",
       "      <td>NaN</td>\n",
       "    </tr>\n",
       "    <tr>\n",
       "      <th>3</th>\n",
       "      <td>Arkansas</td>\n",
       "      <td>SEC</td>\n",
       "      <td>10.0</td>\n",
       "      <td>9.0</td>\n",
       "      <td>9.0</td>\n",
       "      <td>11.0</td>\n",
       "      <td>9.0</td>\n",
       "      <td>10.0</td>\n",
       "      <td>10.0</td>\n",
       "      <td>9.0</td>\n",
       "      <td>...</td>\n",
       "      <td>15.0</td>\n",
       "      <td>25.0</td>\n",
       "      <td>NaN</td>\n",
       "      <td>NaN</td>\n",
       "      <td>NaN</td>\n",
       "      <td>NaN</td>\n",
       "      <td>NaN</td>\n",
       "      <td>NaN</td>\n",
       "      <td>NaN</td>\n",
       "      <td>NaN</td>\n",
       "    </tr>\n",
       "    <tr>\n",
       "      <th>4</th>\n",
       "      <td>Auburn</td>\n",
       "      <td>SEC</td>\n",
       "      <td>15.0</td>\n",
       "      <td>13.0</td>\n",
       "      <td>13.0</td>\n",
       "      <td>15.0</td>\n",
       "      <td>11.0</td>\n",
       "      <td>19.0</td>\n",
       "      <td>23.0</td>\n",
       "      <td>20.0</td>\n",
       "      <td>...</td>\n",
       "      <td>21.0</td>\n",
       "      <td>16.0</td>\n",
       "      <td>15.0</td>\n",
       "      <td>25.0</td>\n",
       "      <td>NaN</td>\n",
       "      <td>NaN</td>\n",
       "      <td>NaN</td>\n",
       "      <td>NaN</td>\n",
       "      <td>NaN</td>\n",
       "      <td>NaN</td>\n",
       "    </tr>\n",
       "  </tbody>\n",
       "</table>\n",
       "<p>5 rows × 21 columns</p>\n",
       "</div>"
      ],
      "text/plain": [
       "          School    Conf   Pre  11/14  11/21  11/28  12/5  12/12  12/19  \\\n",
       "0        Alabama     SEC  20.0   18.0   18.0   11.0   8.0    4.0    9.0   \n",
       "1        Arizona  Pac-12  17.0   14.0   14.0    4.0  10.0    9.0    5.0   \n",
       "2  Arizona State  Pac-12   NaN    NaN    NaN    NaN   NaN    NaN   25.0   \n",
       "3       Arkansas     SEC  10.0    9.0    9.0   11.0   9.0   10.0   10.0   \n",
       "4         Auburn     SEC  15.0   13.0   13.0   15.0  11.0   19.0   23.0   \n",
       "\n",
       "   12/26  ...   1/9  1/16  1/23  1/30  2/6  2/13  2/20  2/27  3/6  Final  \n",
       "0    8.0  ...   4.0   4.0   2.0   4.0  3.0   1.0   2.0   2.0  4.0    1.0  \n",
       "1    5.0  ...   9.0  11.0   6.0   5.0  4.0   8.0   7.0   8.0  8.0    8.0  \n",
       "2    NaN  ...   NaN   NaN   NaN   NaN  NaN   NaN   NaN   NaN  NaN    NaN  \n",
       "3    9.0  ...  15.0  25.0   NaN   NaN  NaN   NaN   NaN   NaN  NaN    NaN  \n",
       "4   20.0  ...  21.0  16.0  15.0  25.0  NaN   NaN   NaN   NaN  NaN    NaN  \n",
       "\n",
       "[5 rows x 21 columns]"
      ]
     },
     "execution_count": 49,
     "metadata": {},
     "output_type": "execute_result"
    }
   ],
   "source": [
    "ap_polls.head()"
   ]
  },
  {
   "cell_type": "code",
   "execution_count": 50,
   "id": "11e158fb",
   "metadata": {},
   "outputs": [
    {
     "data": {
      "application/vnd.plotly.v1+json": {
       "config": {
        "plotlyServerURL": "https://plot.ly"
       },
       "data": [
        {
         "hovertemplate": "School=Alabama<br>Date=%{x}<br>AP Poll Value=%{y}<extra></extra>",
         "legendgroup": "Alabama",
         "line": {
          "color": "#636efa",
          "dash": "solid"
         },
         "marker": {
          "symbol": "circle"
         },
         "mode": "markers+lines",
         "name": "Alabama",
         "orientation": "v",
         "showlegend": true,
         "type": "scatter",
         "x": [
          "Pre",
          "11/14",
          "11/21",
          "11/28",
          "12/5",
          "12/12",
          "12/19",
          "12/26",
          "1/2",
          "1/9",
          "1/16",
          "1/23",
          "1/30",
          "2/6",
          "2/13",
          "2/20",
          "2/27",
          "3/6",
          "Final"
         ],
         "xaxis": "x",
         "y": [
          20,
          18,
          18,
          11,
          8,
          4,
          9,
          8,
          7,
          4,
          4,
          2,
          4,
          3,
          1,
          2,
          2,
          4,
          1
         ],
         "yaxis": "y"
        },
        {
         "hovertemplate": "School=Houston<br>Date=%{x}<br>AP Poll Value=%{y}<extra></extra>",
         "legendgroup": "Houston",
         "line": {
          "color": "#EF553B",
          "dash": "solid"
         },
         "marker": {
          "symbol": "circle"
         },
         "mode": "markers+lines",
         "name": "Houston",
         "orientation": "v",
         "showlegend": true,
         "type": "scatter",
         "x": [
          "Pre",
          "11/14",
          "11/21",
          "11/28",
          "12/5",
          "12/12",
          "12/19",
          "12/26",
          "1/2",
          "1/9",
          "1/16",
          "1/23",
          "1/30",
          "2/6",
          "2/13",
          "2/20",
          "2/27",
          "3/6",
          "Final"
         ],
         "xaxis": "x",
         "y": [
          3,
          3,
          2,
          1,
          1,
          5,
          3,
          3,
          2,
          1,
          1,
          3,
          3,
          2,
          2,
          1,
          1,
          1,
          2
         ],
         "yaxis": "y"
        },
        {
         "hovertemplate": "School=Kansas<br>Date=%{x}<br>AP Poll Value=%{y}<extra></extra>",
         "legendgroup": "Kansas",
         "line": {
          "color": "#00cc96",
          "dash": "solid"
         },
         "marker": {
          "symbol": "circle"
         },
         "mode": "markers+lines",
         "name": "Kansas",
         "orientation": "v",
         "showlegend": true,
         "type": "scatter",
         "x": [
          "Pre",
          "11/14",
          "11/21",
          "11/28",
          "12/5",
          "12/12",
          "12/19",
          "12/26",
          "1/2",
          "1/9",
          "1/16",
          "1/23",
          "1/30",
          "2/6",
          "2/13",
          "2/20",
          "2/27",
          "3/6",
          "Final"
         ],
         "xaxis": "x",
         "y": [
          5,
          6,
          3,
          9,
          6,
          8,
          4,
          4,
          3,
          2,
          2,
          9,
          8,
          9,
          5,
          3,
          3,
          3,
          4
         ],
         "yaxis": "y"
        },
        {
         "hovertemplate": "School=Purdue<br>Date=%{x}<br>AP Poll Value=%{y}<extra></extra>",
         "legendgroup": "Purdue",
         "line": {
          "color": "#ab63fa",
          "dash": "solid"
         },
         "marker": {
          "symbol": "circle"
         },
         "mode": "markers+lines",
         "name": "Purdue",
         "orientation": "v",
         "showlegend": true,
         "type": "scatter",
         "x": [
          "Pre",
          "11/14",
          "11/21",
          "11/28",
          "12/5",
          "12/12",
          "12/19",
          "12/26",
          "1/2",
          "1/9",
          "1/16",
          "1/23",
          "1/30",
          "2/6",
          "2/13",
          "2/20",
          "2/27",
          "3/6",
          "Final"
         ],
         "xaxis": "x",
         "y": [
          null,
          null,
          24,
          5,
          4,
          1,
          1,
          1,
          1,
          3,
          3,
          1,
          1,
          1,
          3,
          5,
          5,
          5,
          3
         ],
         "yaxis": "y"
        }
       ],
       "layout": {
        "legend": {
         "title": {
          "text": "School"
         },
         "tracegroupgap": 0
        },
        "template": {
         "data": {
          "bar": [
           {
            "error_x": {
             "color": "#2a3f5f"
            },
            "error_y": {
             "color": "#2a3f5f"
            },
            "marker": {
             "line": {
              "color": "#E5ECF6",
              "width": 0.5
             },
             "pattern": {
              "fillmode": "overlay",
              "size": 10,
              "solidity": 0.2
             }
            },
            "type": "bar"
           }
          ],
          "barpolar": [
           {
            "marker": {
             "line": {
              "color": "#E5ECF6",
              "width": 0.5
             },
             "pattern": {
              "fillmode": "overlay",
              "size": 10,
              "solidity": 0.2
             }
            },
            "type": "barpolar"
           }
          ],
          "carpet": [
           {
            "aaxis": {
             "endlinecolor": "#2a3f5f",
             "gridcolor": "white",
             "linecolor": "white",
             "minorgridcolor": "white",
             "startlinecolor": "#2a3f5f"
            },
            "baxis": {
             "endlinecolor": "#2a3f5f",
             "gridcolor": "white",
             "linecolor": "white",
             "minorgridcolor": "white",
             "startlinecolor": "#2a3f5f"
            },
            "type": "carpet"
           }
          ],
          "choropleth": [
           {
            "colorbar": {
             "outlinewidth": 0,
             "ticks": ""
            },
            "type": "choropleth"
           }
          ],
          "contour": [
           {
            "colorbar": {
             "outlinewidth": 0,
             "ticks": ""
            },
            "colorscale": [
             [
              0,
              "#0d0887"
             ],
             [
              0.1111111111111111,
              "#46039f"
             ],
             [
              0.2222222222222222,
              "#7201a8"
             ],
             [
              0.3333333333333333,
              "#9c179e"
             ],
             [
              0.4444444444444444,
              "#bd3786"
             ],
             [
              0.5555555555555556,
              "#d8576b"
             ],
             [
              0.6666666666666666,
              "#ed7953"
             ],
             [
              0.7777777777777778,
              "#fb9f3a"
             ],
             [
              0.8888888888888888,
              "#fdca26"
             ],
             [
              1,
              "#f0f921"
             ]
            ],
            "type": "contour"
           }
          ],
          "contourcarpet": [
           {
            "colorbar": {
             "outlinewidth": 0,
             "ticks": ""
            },
            "type": "contourcarpet"
           }
          ],
          "heatmap": [
           {
            "colorbar": {
             "outlinewidth": 0,
             "ticks": ""
            },
            "colorscale": [
             [
              0,
              "#0d0887"
             ],
             [
              0.1111111111111111,
              "#46039f"
             ],
             [
              0.2222222222222222,
              "#7201a8"
             ],
             [
              0.3333333333333333,
              "#9c179e"
             ],
             [
              0.4444444444444444,
              "#bd3786"
             ],
             [
              0.5555555555555556,
              "#d8576b"
             ],
             [
              0.6666666666666666,
              "#ed7953"
             ],
             [
              0.7777777777777778,
              "#fb9f3a"
             ],
             [
              0.8888888888888888,
              "#fdca26"
             ],
             [
              1,
              "#f0f921"
             ]
            ],
            "type": "heatmap"
           }
          ],
          "heatmapgl": [
           {
            "colorbar": {
             "outlinewidth": 0,
             "ticks": ""
            },
            "colorscale": [
             [
              0,
              "#0d0887"
             ],
             [
              0.1111111111111111,
              "#46039f"
             ],
             [
              0.2222222222222222,
              "#7201a8"
             ],
             [
              0.3333333333333333,
              "#9c179e"
             ],
             [
              0.4444444444444444,
              "#bd3786"
             ],
             [
              0.5555555555555556,
              "#d8576b"
             ],
             [
              0.6666666666666666,
              "#ed7953"
             ],
             [
              0.7777777777777778,
              "#fb9f3a"
             ],
             [
              0.8888888888888888,
              "#fdca26"
             ],
             [
              1,
              "#f0f921"
             ]
            ],
            "type": "heatmapgl"
           }
          ],
          "histogram": [
           {
            "marker": {
             "pattern": {
              "fillmode": "overlay",
              "size": 10,
              "solidity": 0.2
             }
            },
            "type": "histogram"
           }
          ],
          "histogram2d": [
           {
            "colorbar": {
             "outlinewidth": 0,
             "ticks": ""
            },
            "colorscale": [
             [
              0,
              "#0d0887"
             ],
             [
              0.1111111111111111,
              "#46039f"
             ],
             [
              0.2222222222222222,
              "#7201a8"
             ],
             [
              0.3333333333333333,
              "#9c179e"
             ],
             [
              0.4444444444444444,
              "#bd3786"
             ],
             [
              0.5555555555555556,
              "#d8576b"
             ],
             [
              0.6666666666666666,
              "#ed7953"
             ],
             [
              0.7777777777777778,
              "#fb9f3a"
             ],
             [
              0.8888888888888888,
              "#fdca26"
             ],
             [
              1,
              "#f0f921"
             ]
            ],
            "type": "histogram2d"
           }
          ],
          "histogram2dcontour": [
           {
            "colorbar": {
             "outlinewidth": 0,
             "ticks": ""
            },
            "colorscale": [
             [
              0,
              "#0d0887"
             ],
             [
              0.1111111111111111,
              "#46039f"
             ],
             [
              0.2222222222222222,
              "#7201a8"
             ],
             [
              0.3333333333333333,
              "#9c179e"
             ],
             [
              0.4444444444444444,
              "#bd3786"
             ],
             [
              0.5555555555555556,
              "#d8576b"
             ],
             [
              0.6666666666666666,
              "#ed7953"
             ],
             [
              0.7777777777777778,
              "#fb9f3a"
             ],
             [
              0.8888888888888888,
              "#fdca26"
             ],
             [
              1,
              "#f0f921"
             ]
            ],
            "type": "histogram2dcontour"
           }
          ],
          "mesh3d": [
           {
            "colorbar": {
             "outlinewidth": 0,
             "ticks": ""
            },
            "type": "mesh3d"
           }
          ],
          "parcoords": [
           {
            "line": {
             "colorbar": {
              "outlinewidth": 0,
              "ticks": ""
             }
            },
            "type": "parcoords"
           }
          ],
          "pie": [
           {
            "automargin": true,
            "type": "pie"
           }
          ],
          "scatter": [
           {
            "fillpattern": {
             "fillmode": "overlay",
             "size": 10,
             "solidity": 0.2
            },
            "type": "scatter"
           }
          ],
          "scatter3d": [
           {
            "line": {
             "colorbar": {
              "outlinewidth": 0,
              "ticks": ""
             }
            },
            "marker": {
             "colorbar": {
              "outlinewidth": 0,
              "ticks": ""
             }
            },
            "type": "scatter3d"
           }
          ],
          "scattercarpet": [
           {
            "marker": {
             "colorbar": {
              "outlinewidth": 0,
              "ticks": ""
             }
            },
            "type": "scattercarpet"
           }
          ],
          "scattergeo": [
           {
            "marker": {
             "colorbar": {
              "outlinewidth": 0,
              "ticks": ""
             }
            },
            "type": "scattergeo"
           }
          ],
          "scattergl": [
           {
            "marker": {
             "colorbar": {
              "outlinewidth": 0,
              "ticks": ""
             }
            },
            "type": "scattergl"
           }
          ],
          "scattermapbox": [
           {
            "marker": {
             "colorbar": {
              "outlinewidth": 0,
              "ticks": ""
             }
            },
            "type": "scattermapbox"
           }
          ],
          "scatterpolar": [
           {
            "marker": {
             "colorbar": {
              "outlinewidth": 0,
              "ticks": ""
             }
            },
            "type": "scatterpolar"
           }
          ],
          "scatterpolargl": [
           {
            "marker": {
             "colorbar": {
              "outlinewidth": 0,
              "ticks": ""
             }
            },
            "type": "scatterpolargl"
           }
          ],
          "scatterternary": [
           {
            "marker": {
             "colorbar": {
              "outlinewidth": 0,
              "ticks": ""
             }
            },
            "type": "scatterternary"
           }
          ],
          "surface": [
           {
            "colorbar": {
             "outlinewidth": 0,
             "ticks": ""
            },
            "colorscale": [
             [
              0,
              "#0d0887"
             ],
             [
              0.1111111111111111,
              "#46039f"
             ],
             [
              0.2222222222222222,
              "#7201a8"
             ],
             [
              0.3333333333333333,
              "#9c179e"
             ],
             [
              0.4444444444444444,
              "#bd3786"
             ],
             [
              0.5555555555555556,
              "#d8576b"
             ],
             [
              0.6666666666666666,
              "#ed7953"
             ],
             [
              0.7777777777777778,
              "#fb9f3a"
             ],
             [
              0.8888888888888888,
              "#fdca26"
             ],
             [
              1,
              "#f0f921"
             ]
            ],
            "type": "surface"
           }
          ],
          "table": [
           {
            "cells": {
             "fill": {
              "color": "#EBF0F8"
             },
             "line": {
              "color": "white"
             }
            },
            "header": {
             "fill": {
              "color": "#C8D4E3"
             },
             "line": {
              "color": "white"
             }
            },
            "type": "table"
           }
          ]
         },
         "layout": {
          "annotationdefaults": {
           "arrowcolor": "#2a3f5f",
           "arrowhead": 0,
           "arrowwidth": 1
          },
          "autotypenumbers": "strict",
          "coloraxis": {
           "colorbar": {
            "outlinewidth": 0,
            "ticks": ""
           }
          },
          "colorscale": {
           "diverging": [
            [
             0,
             "#8e0152"
            ],
            [
             0.1,
             "#c51b7d"
            ],
            [
             0.2,
             "#de77ae"
            ],
            [
             0.3,
             "#f1b6da"
            ],
            [
             0.4,
             "#fde0ef"
            ],
            [
             0.5,
             "#f7f7f7"
            ],
            [
             0.6,
             "#e6f5d0"
            ],
            [
             0.7,
             "#b8e186"
            ],
            [
             0.8,
             "#7fbc41"
            ],
            [
             0.9,
             "#4d9221"
            ],
            [
             1,
             "#276419"
            ]
           ],
           "sequential": [
            [
             0,
             "#0d0887"
            ],
            [
             0.1111111111111111,
             "#46039f"
            ],
            [
             0.2222222222222222,
             "#7201a8"
            ],
            [
             0.3333333333333333,
             "#9c179e"
            ],
            [
             0.4444444444444444,
             "#bd3786"
            ],
            [
             0.5555555555555556,
             "#d8576b"
            ],
            [
             0.6666666666666666,
             "#ed7953"
            ],
            [
             0.7777777777777778,
             "#fb9f3a"
            ],
            [
             0.8888888888888888,
             "#fdca26"
            ],
            [
             1,
             "#f0f921"
            ]
           ],
           "sequentialminus": [
            [
             0,
             "#0d0887"
            ],
            [
             0.1111111111111111,
             "#46039f"
            ],
            [
             0.2222222222222222,
             "#7201a8"
            ],
            [
             0.3333333333333333,
             "#9c179e"
            ],
            [
             0.4444444444444444,
             "#bd3786"
            ],
            [
             0.5555555555555556,
             "#d8576b"
            ],
            [
             0.6666666666666666,
             "#ed7953"
            ],
            [
             0.7777777777777778,
             "#fb9f3a"
            ],
            [
             0.8888888888888888,
             "#fdca26"
            ],
            [
             1,
             "#f0f921"
            ]
           ]
          },
          "colorway": [
           "#636efa",
           "#EF553B",
           "#00cc96",
           "#ab63fa",
           "#FFA15A",
           "#19d3f3",
           "#FF6692",
           "#B6E880",
           "#FF97FF",
           "#FECB52"
          ],
          "font": {
           "color": "#2a3f5f"
          },
          "geo": {
           "bgcolor": "white",
           "lakecolor": "white",
           "landcolor": "#E5ECF6",
           "showlakes": true,
           "showland": true,
           "subunitcolor": "white"
          },
          "hoverlabel": {
           "align": "left"
          },
          "hovermode": "closest",
          "mapbox": {
           "style": "light"
          },
          "paper_bgcolor": "white",
          "plot_bgcolor": "#E5ECF6",
          "polar": {
           "angularaxis": {
            "gridcolor": "white",
            "linecolor": "white",
            "ticks": ""
           },
           "bgcolor": "#E5ECF6",
           "radialaxis": {
            "gridcolor": "white",
            "linecolor": "white",
            "ticks": ""
           }
          },
          "scene": {
           "xaxis": {
            "backgroundcolor": "#E5ECF6",
            "gridcolor": "white",
            "gridwidth": 2,
            "linecolor": "white",
            "showbackground": true,
            "ticks": "",
            "zerolinecolor": "white"
           },
           "yaxis": {
            "backgroundcolor": "#E5ECF6",
            "gridcolor": "white",
            "gridwidth": 2,
            "linecolor": "white",
            "showbackground": true,
            "ticks": "",
            "zerolinecolor": "white"
           },
           "zaxis": {
            "backgroundcolor": "#E5ECF6",
            "gridcolor": "white",
            "gridwidth": 2,
            "linecolor": "white",
            "showbackground": true,
            "ticks": "",
            "zerolinecolor": "white"
           }
          },
          "shapedefaults": {
           "line": {
            "color": "#2a3f5f"
           }
          },
          "ternary": {
           "aaxis": {
            "gridcolor": "white",
            "linecolor": "white",
            "ticks": ""
           },
           "baxis": {
            "gridcolor": "white",
            "linecolor": "white",
            "ticks": ""
           },
           "bgcolor": "#E5ECF6",
           "caxis": {
            "gridcolor": "white",
            "linecolor": "white",
            "ticks": ""
           }
          },
          "title": {
           "x": 0.05
          },
          "xaxis": {
           "automargin": true,
           "gridcolor": "white",
           "linecolor": "white",
           "ticks": "",
           "title": {
            "standoff": 15
           },
           "zerolinecolor": "white",
           "zerolinewidth": 2
          },
          "yaxis": {
           "automargin": true,
           "gridcolor": "white",
           "linecolor": "white",
           "ticks": "",
           "title": {
            "standoff": 15
           },
           "zerolinecolor": "white",
           "zerolinewidth": 2
          }
         }
        },
        "title": {
         "text": "Comparison of Number 1 Seeds According to AP Polls"
        },
        "xaxis": {
         "anchor": "y",
         "domain": [
          0,
          1
         ],
         "tickangle": -45,
         "title": {
          "text": "Date"
         }
        },
        "yaxis": {
         "anchor": "x",
         "domain": [
          0,
          1
         ],
         "title": {
          "text": "AP Poll Value"
         }
        }
       }
      },
      "text/html": [
       "<div>                            <div id=\"eb3397fc-445d-471c-ade2-c8e093c9da63\" class=\"plotly-graph-div\" style=\"height:525px; width:100%;\"></div>            <script type=\"text/javascript\">                require([\"plotly\"], function(Plotly) {                    window.PLOTLYENV=window.PLOTLYENV || {};                                    if (document.getElementById(\"eb3397fc-445d-471c-ade2-c8e093c9da63\")) {                    Plotly.newPlot(                        \"eb3397fc-445d-471c-ade2-c8e093c9da63\",                        [{\"hovertemplate\":\"School=Alabama<br>Date=%{x}<br>AP Poll Value=%{y}<extra></extra>\",\"legendgroup\":\"Alabama\",\"line\":{\"color\":\"#636efa\",\"dash\":\"solid\"},\"marker\":{\"symbol\":\"circle\"},\"mode\":\"markers+lines\",\"name\":\"Alabama\",\"orientation\":\"v\",\"showlegend\":true,\"x\":[\"Pre\",\"11/14\",\"11/21\",\"11/28\",\"12/5\",\"12/12\",\"12/19\",\"12/26\",\"1/2\",\"1/9\",\"1/16\",\"1/23\",\"1/30\",\"2/6\",\"2/13\",\"2/20\",\"2/27\",\"3/6\",\"Final\"],\"xaxis\":\"x\",\"y\":[20.0,18.0,18.0,11.0,8.0,4.0,9.0,8.0,7.0,4.0,4.0,2.0,4.0,3.0,1.0,2.0,2.0,4.0,1.0],\"yaxis\":\"y\",\"type\":\"scatter\"},{\"hovertemplate\":\"School=Houston<br>Date=%{x}<br>AP Poll Value=%{y}<extra></extra>\",\"legendgroup\":\"Houston\",\"line\":{\"color\":\"#EF553B\",\"dash\":\"solid\"},\"marker\":{\"symbol\":\"circle\"},\"mode\":\"markers+lines\",\"name\":\"Houston\",\"orientation\":\"v\",\"showlegend\":true,\"x\":[\"Pre\",\"11/14\",\"11/21\",\"11/28\",\"12/5\",\"12/12\",\"12/19\",\"12/26\",\"1/2\",\"1/9\",\"1/16\",\"1/23\",\"1/30\",\"2/6\",\"2/13\",\"2/20\",\"2/27\",\"3/6\",\"Final\"],\"xaxis\":\"x\",\"y\":[3.0,3.0,2.0,1.0,1.0,5.0,3.0,3.0,2.0,1.0,1.0,3.0,3.0,2.0,2.0,1.0,1.0,1.0,2.0],\"yaxis\":\"y\",\"type\":\"scatter\"},{\"hovertemplate\":\"School=Kansas<br>Date=%{x}<br>AP Poll Value=%{y}<extra></extra>\",\"legendgroup\":\"Kansas\",\"line\":{\"color\":\"#00cc96\",\"dash\":\"solid\"},\"marker\":{\"symbol\":\"circle\"},\"mode\":\"markers+lines\",\"name\":\"Kansas\",\"orientation\":\"v\",\"showlegend\":true,\"x\":[\"Pre\",\"11/14\",\"11/21\",\"11/28\",\"12/5\",\"12/12\",\"12/19\",\"12/26\",\"1/2\",\"1/9\",\"1/16\",\"1/23\",\"1/30\",\"2/6\",\"2/13\",\"2/20\",\"2/27\",\"3/6\",\"Final\"],\"xaxis\":\"x\",\"y\":[5.0,6.0,3.0,9.0,6.0,8.0,4.0,4.0,3.0,2.0,2.0,9.0,8.0,9.0,5.0,3.0,3.0,3.0,4.0],\"yaxis\":\"y\",\"type\":\"scatter\"},{\"hovertemplate\":\"School=Purdue<br>Date=%{x}<br>AP Poll Value=%{y}<extra></extra>\",\"legendgroup\":\"Purdue\",\"line\":{\"color\":\"#ab63fa\",\"dash\":\"solid\"},\"marker\":{\"symbol\":\"circle\"},\"mode\":\"markers+lines\",\"name\":\"Purdue\",\"orientation\":\"v\",\"showlegend\":true,\"x\":[\"Pre\",\"11/14\",\"11/21\",\"11/28\",\"12/5\",\"12/12\",\"12/19\",\"12/26\",\"1/2\",\"1/9\",\"1/16\",\"1/23\",\"1/30\",\"2/6\",\"2/13\",\"2/20\",\"2/27\",\"3/6\",\"Final\"],\"xaxis\":\"x\",\"y\":[null,null,24.0,5.0,4.0,1.0,1.0,1.0,1.0,3.0,3.0,1.0,1.0,1.0,3.0,5.0,5.0,5.0,3.0],\"yaxis\":\"y\",\"type\":\"scatter\"}],                        {\"template\":{\"data\":{\"histogram2dcontour\":[{\"type\":\"histogram2dcontour\",\"colorbar\":{\"outlinewidth\":0,\"ticks\":\"\"},\"colorscale\":[[0.0,\"#0d0887\"],[0.1111111111111111,\"#46039f\"],[0.2222222222222222,\"#7201a8\"],[0.3333333333333333,\"#9c179e\"],[0.4444444444444444,\"#bd3786\"],[0.5555555555555556,\"#d8576b\"],[0.6666666666666666,\"#ed7953\"],[0.7777777777777778,\"#fb9f3a\"],[0.8888888888888888,\"#fdca26\"],[1.0,\"#f0f921\"]]}],\"choropleth\":[{\"type\":\"choropleth\",\"colorbar\":{\"outlinewidth\":0,\"ticks\":\"\"}}],\"histogram2d\":[{\"type\":\"histogram2d\",\"colorbar\":{\"outlinewidth\":0,\"ticks\":\"\"},\"colorscale\":[[0.0,\"#0d0887\"],[0.1111111111111111,\"#46039f\"],[0.2222222222222222,\"#7201a8\"],[0.3333333333333333,\"#9c179e\"],[0.4444444444444444,\"#bd3786\"],[0.5555555555555556,\"#d8576b\"],[0.6666666666666666,\"#ed7953\"],[0.7777777777777778,\"#fb9f3a\"],[0.8888888888888888,\"#fdca26\"],[1.0,\"#f0f921\"]]}],\"heatmap\":[{\"type\":\"heatmap\",\"colorbar\":{\"outlinewidth\":0,\"ticks\":\"\"},\"colorscale\":[[0.0,\"#0d0887\"],[0.1111111111111111,\"#46039f\"],[0.2222222222222222,\"#7201a8\"],[0.3333333333333333,\"#9c179e\"],[0.4444444444444444,\"#bd3786\"],[0.5555555555555556,\"#d8576b\"],[0.6666666666666666,\"#ed7953\"],[0.7777777777777778,\"#fb9f3a\"],[0.8888888888888888,\"#fdca26\"],[1.0,\"#f0f921\"]]}],\"heatmapgl\":[{\"type\":\"heatmapgl\",\"colorbar\":{\"outlinewidth\":0,\"ticks\":\"\"},\"colorscale\":[[0.0,\"#0d0887\"],[0.1111111111111111,\"#46039f\"],[0.2222222222222222,\"#7201a8\"],[0.3333333333333333,\"#9c179e\"],[0.4444444444444444,\"#bd3786\"],[0.5555555555555556,\"#d8576b\"],[0.6666666666666666,\"#ed7953\"],[0.7777777777777778,\"#fb9f3a\"],[0.8888888888888888,\"#fdca26\"],[1.0,\"#f0f921\"]]}],\"contourcarpet\":[{\"type\":\"contourcarpet\",\"colorbar\":{\"outlinewidth\":0,\"ticks\":\"\"}}],\"contour\":[{\"type\":\"contour\",\"colorbar\":{\"outlinewidth\":0,\"ticks\":\"\"},\"colorscale\":[[0.0,\"#0d0887\"],[0.1111111111111111,\"#46039f\"],[0.2222222222222222,\"#7201a8\"],[0.3333333333333333,\"#9c179e\"],[0.4444444444444444,\"#bd3786\"],[0.5555555555555556,\"#d8576b\"],[0.6666666666666666,\"#ed7953\"],[0.7777777777777778,\"#fb9f3a\"],[0.8888888888888888,\"#fdca26\"],[1.0,\"#f0f921\"]]}],\"surface\":[{\"type\":\"surface\",\"colorbar\":{\"outlinewidth\":0,\"ticks\":\"\"},\"colorscale\":[[0.0,\"#0d0887\"],[0.1111111111111111,\"#46039f\"],[0.2222222222222222,\"#7201a8\"],[0.3333333333333333,\"#9c179e\"],[0.4444444444444444,\"#bd3786\"],[0.5555555555555556,\"#d8576b\"],[0.6666666666666666,\"#ed7953\"],[0.7777777777777778,\"#fb9f3a\"],[0.8888888888888888,\"#fdca26\"],[1.0,\"#f0f921\"]]}],\"mesh3d\":[{\"type\":\"mesh3d\",\"colorbar\":{\"outlinewidth\":0,\"ticks\":\"\"}}],\"scatter\":[{\"fillpattern\":{\"fillmode\":\"overlay\",\"size\":10,\"solidity\":0.2},\"type\":\"scatter\"}],\"parcoords\":[{\"type\":\"parcoords\",\"line\":{\"colorbar\":{\"outlinewidth\":0,\"ticks\":\"\"}}}],\"scatterpolargl\":[{\"type\":\"scatterpolargl\",\"marker\":{\"colorbar\":{\"outlinewidth\":0,\"ticks\":\"\"}}}],\"bar\":[{\"error_x\":{\"color\":\"#2a3f5f\"},\"error_y\":{\"color\":\"#2a3f5f\"},\"marker\":{\"line\":{\"color\":\"#E5ECF6\",\"width\":0.5},\"pattern\":{\"fillmode\":\"overlay\",\"size\":10,\"solidity\":0.2}},\"type\":\"bar\"}],\"scattergeo\":[{\"type\":\"scattergeo\",\"marker\":{\"colorbar\":{\"outlinewidth\":0,\"ticks\":\"\"}}}],\"scatterpolar\":[{\"type\":\"scatterpolar\",\"marker\":{\"colorbar\":{\"outlinewidth\":0,\"ticks\":\"\"}}}],\"histogram\":[{\"marker\":{\"pattern\":{\"fillmode\":\"overlay\",\"size\":10,\"solidity\":0.2}},\"type\":\"histogram\"}],\"scattergl\":[{\"type\":\"scattergl\",\"marker\":{\"colorbar\":{\"outlinewidth\":0,\"ticks\":\"\"}}}],\"scatter3d\":[{\"type\":\"scatter3d\",\"line\":{\"colorbar\":{\"outlinewidth\":0,\"ticks\":\"\"}},\"marker\":{\"colorbar\":{\"outlinewidth\":0,\"ticks\":\"\"}}}],\"scattermapbox\":[{\"type\":\"scattermapbox\",\"marker\":{\"colorbar\":{\"outlinewidth\":0,\"ticks\":\"\"}}}],\"scatterternary\":[{\"type\":\"scatterternary\",\"marker\":{\"colorbar\":{\"outlinewidth\":0,\"ticks\":\"\"}}}],\"scattercarpet\":[{\"type\":\"scattercarpet\",\"marker\":{\"colorbar\":{\"outlinewidth\":0,\"ticks\":\"\"}}}],\"carpet\":[{\"aaxis\":{\"endlinecolor\":\"#2a3f5f\",\"gridcolor\":\"white\",\"linecolor\":\"white\",\"minorgridcolor\":\"white\",\"startlinecolor\":\"#2a3f5f\"},\"baxis\":{\"endlinecolor\":\"#2a3f5f\",\"gridcolor\":\"white\",\"linecolor\":\"white\",\"minorgridcolor\":\"white\",\"startlinecolor\":\"#2a3f5f\"},\"type\":\"carpet\"}],\"table\":[{\"cells\":{\"fill\":{\"color\":\"#EBF0F8\"},\"line\":{\"color\":\"white\"}},\"header\":{\"fill\":{\"color\":\"#C8D4E3\"},\"line\":{\"color\":\"white\"}},\"type\":\"table\"}],\"barpolar\":[{\"marker\":{\"line\":{\"color\":\"#E5ECF6\",\"width\":0.5},\"pattern\":{\"fillmode\":\"overlay\",\"size\":10,\"solidity\":0.2}},\"type\":\"barpolar\"}],\"pie\":[{\"automargin\":true,\"type\":\"pie\"}]},\"layout\":{\"autotypenumbers\":\"strict\",\"colorway\":[\"#636efa\",\"#EF553B\",\"#00cc96\",\"#ab63fa\",\"#FFA15A\",\"#19d3f3\",\"#FF6692\",\"#B6E880\",\"#FF97FF\",\"#FECB52\"],\"font\":{\"color\":\"#2a3f5f\"},\"hovermode\":\"closest\",\"hoverlabel\":{\"align\":\"left\"},\"paper_bgcolor\":\"white\",\"plot_bgcolor\":\"#E5ECF6\",\"polar\":{\"bgcolor\":\"#E5ECF6\",\"angularaxis\":{\"gridcolor\":\"white\",\"linecolor\":\"white\",\"ticks\":\"\"},\"radialaxis\":{\"gridcolor\":\"white\",\"linecolor\":\"white\",\"ticks\":\"\"}},\"ternary\":{\"bgcolor\":\"#E5ECF6\",\"aaxis\":{\"gridcolor\":\"white\",\"linecolor\":\"white\",\"ticks\":\"\"},\"baxis\":{\"gridcolor\":\"white\",\"linecolor\":\"white\",\"ticks\":\"\"},\"caxis\":{\"gridcolor\":\"white\",\"linecolor\":\"white\",\"ticks\":\"\"}},\"coloraxis\":{\"colorbar\":{\"outlinewidth\":0,\"ticks\":\"\"}},\"colorscale\":{\"sequential\":[[0.0,\"#0d0887\"],[0.1111111111111111,\"#46039f\"],[0.2222222222222222,\"#7201a8\"],[0.3333333333333333,\"#9c179e\"],[0.4444444444444444,\"#bd3786\"],[0.5555555555555556,\"#d8576b\"],[0.6666666666666666,\"#ed7953\"],[0.7777777777777778,\"#fb9f3a\"],[0.8888888888888888,\"#fdca26\"],[1.0,\"#f0f921\"]],\"sequentialminus\":[[0.0,\"#0d0887\"],[0.1111111111111111,\"#46039f\"],[0.2222222222222222,\"#7201a8\"],[0.3333333333333333,\"#9c179e\"],[0.4444444444444444,\"#bd3786\"],[0.5555555555555556,\"#d8576b\"],[0.6666666666666666,\"#ed7953\"],[0.7777777777777778,\"#fb9f3a\"],[0.8888888888888888,\"#fdca26\"],[1.0,\"#f0f921\"]],\"diverging\":[[0,\"#8e0152\"],[0.1,\"#c51b7d\"],[0.2,\"#de77ae\"],[0.3,\"#f1b6da\"],[0.4,\"#fde0ef\"],[0.5,\"#f7f7f7\"],[0.6,\"#e6f5d0\"],[0.7,\"#b8e186\"],[0.8,\"#7fbc41\"],[0.9,\"#4d9221\"],[1,\"#276419\"]]},\"xaxis\":{\"gridcolor\":\"white\",\"linecolor\":\"white\",\"ticks\":\"\",\"title\":{\"standoff\":15},\"zerolinecolor\":\"white\",\"automargin\":true,\"zerolinewidth\":2},\"yaxis\":{\"gridcolor\":\"white\",\"linecolor\":\"white\",\"ticks\":\"\",\"title\":{\"standoff\":15},\"zerolinecolor\":\"white\",\"automargin\":true,\"zerolinewidth\":2},\"scene\":{\"xaxis\":{\"backgroundcolor\":\"#E5ECF6\",\"gridcolor\":\"white\",\"linecolor\":\"white\",\"showbackground\":true,\"ticks\":\"\",\"zerolinecolor\":\"white\",\"gridwidth\":2},\"yaxis\":{\"backgroundcolor\":\"#E5ECF6\",\"gridcolor\":\"white\",\"linecolor\":\"white\",\"showbackground\":true,\"ticks\":\"\",\"zerolinecolor\":\"white\",\"gridwidth\":2},\"zaxis\":{\"backgroundcolor\":\"#E5ECF6\",\"gridcolor\":\"white\",\"linecolor\":\"white\",\"showbackground\":true,\"ticks\":\"\",\"zerolinecolor\":\"white\",\"gridwidth\":2}},\"shapedefaults\":{\"line\":{\"color\":\"#2a3f5f\"}},\"annotationdefaults\":{\"arrowcolor\":\"#2a3f5f\",\"arrowhead\":0,\"arrowwidth\":1},\"geo\":{\"bgcolor\":\"white\",\"landcolor\":\"#E5ECF6\",\"subunitcolor\":\"white\",\"showland\":true,\"showlakes\":true,\"lakecolor\":\"white\"},\"title\":{\"x\":0.05},\"mapbox\":{\"style\":\"light\"}}},\"xaxis\":{\"anchor\":\"y\",\"domain\":[0.0,1.0],\"title\":{\"text\":\"Date\"},\"tickangle\":-45},\"yaxis\":{\"anchor\":\"x\",\"domain\":[0.0,1.0],\"title\":{\"text\":\"AP Poll Value\"}},\"legend\":{\"title\":{\"text\":\"School\"},\"tracegroupgap\":0},\"title\":{\"text\":\"Comparison of Number 1 Seeds According to AP Polls\"}},                        {\"responsive\": true}                    ).then(function(){\n",
       "                            \n",
       "var gd = document.getElementById('eb3397fc-445d-471c-ade2-c8e093c9da63');\n",
       "var x = new MutationObserver(function (mutations, observer) {{\n",
       "        var display = window.getComputedStyle(gd).display;\n",
       "        if (!display || display === 'none') {{\n",
       "            console.log([gd, 'removed!']);\n",
       "            Plotly.purge(gd);\n",
       "            observer.disconnect();\n",
       "        }}\n",
       "}});\n",
       "\n",
       "// Listen for the removal of the full notebook cells\n",
       "var notebookContainer = gd.closest('#notebook-container');\n",
       "if (notebookContainer) {{\n",
       "    x.observe(notebookContainer, {childList: true});\n",
       "}}\n",
       "\n",
       "// Listen for the clearing of the current output cell\n",
       "var outputEl = gd.closest('.output');\n",
       "if (outputEl) {{\n",
       "    x.observe(outputEl, {childList: true});\n",
       "}}\n",
       "\n",
       "                        })                };                });            </script>        </div>"
      ]
     },
     "metadata": {},
     "output_type": "display_data"
    }
   ],
   "source": [
    "# Filter the DataFrame to include only Alabama, UConn, and San Diego State\n",
    "schools_to_compare = ['Alabama', 'Houston' , 'Purdue', 'Kansas' ]\n",
    "filtered_df = ap_polls[ap_polls['School'].isin(schools_to_compare)]\n",
    "\n",
    "# Melt the filtered DataFrame to long format for Plotly Express\n",
    "df_melted = filtered_df.melt(id_vars=['School', 'Conf'], var_name='Date', value_name='AP Poll Value')\n",
    "\n",
    "# Create a line plot with markers using Plotly Express\n",
    "fig = px.line(df_melted, x='Date', y='AP Poll Value', color='School', title='Comparison of Number 1 Seeds According to AP Polls',\n",
    "              markers=True)\n",
    "fig.update_layout(xaxis_tickangle=-45, xaxis_title='Date', yaxis_title='AP Poll Value', legend_title='School')\n",
    "\n",
    "fig.show()\n"
   ]
  },
  {
   "cell_type": "code",
   "execution_count": 51,
   "id": "2be9963c",
   "metadata": {},
   "outputs": [
    {
     "data": {
      "application/vnd.plotly.v1+json": {
       "config": {
        "plotlyServerURL": "https://plot.ly"
       },
       "data": [
        {
         "hovertemplate": "School=Alabama<br>Date=%{x}<br>AP Poll Value=%{y}<extra></extra>",
         "legendgroup": "Alabama",
         "line": {
          "color": "#636efa",
          "dash": "solid"
         },
         "marker": {
          "symbol": "circle"
         },
         "mode": "markers+lines",
         "name": "Alabama",
         "orientation": "v",
         "showlegend": true,
         "type": "scatter",
         "x": [
          "Pre",
          "11/14",
          "11/21",
          "11/28",
          "12/5",
          "12/12",
          "12/19",
          "12/26",
          "1/2",
          "1/9",
          "1/16",
          "1/23",
          "1/30",
          "2/6",
          "2/13",
          "2/20",
          "2/27",
          "3/6",
          "Final"
         ],
         "xaxis": "x",
         "y": [
          20,
          18,
          18,
          11,
          8,
          4,
          9,
          8,
          7,
          4,
          4,
          2,
          4,
          3,
          1,
          2,
          2,
          4,
          1
         ],
         "yaxis": "y"
        },
        {
         "hovertemplate": "School=San Diego State<br>Date=%{x}<br>AP Poll Value=%{y}<extra></extra>",
         "legendgroup": "San Diego State",
         "line": {
          "color": "#EF553B",
          "dash": "solid"
         },
         "marker": {
          "symbol": "circle"
         },
         "mode": "markers+lines",
         "name": "San Diego State",
         "orientation": "v",
         "showlegend": true,
         "type": "scatter",
         "x": [
          "Pre",
          "11/14",
          "11/21",
          "11/28",
          "12/5",
          "12/12",
          "12/19",
          "12/26",
          "1/2",
          "1/9",
          "1/16",
          "1/23",
          "1/30",
          "2/6",
          "2/13",
          "2/20",
          "2/27",
          "3/6",
          "Final"
         ],
         "xaxis": "x",
         "y": [
          19,
          17,
          17,
          24,
          22,
          null,
          null,
          null,
          null,
          23,
          null,
          null,
          22,
          25,
          21,
          22,
          18,
          20,
          18
         ],
         "yaxis": "y"
        },
        {
         "hovertemplate": "School=UConn<br>Date=%{x}<br>AP Poll Value=%{y}<extra></extra>",
         "legendgroup": "UConn",
         "line": {
          "color": "#00cc96",
          "dash": "solid"
         },
         "marker": {
          "symbol": "circle"
         },
         "mode": "markers+lines",
         "name": "UConn",
         "orientation": "v",
         "showlegend": true,
         "type": "scatter",
         "x": [
          "Pre",
          "11/14",
          "11/21",
          "11/28",
          "12/5",
          "12/12",
          "12/19",
          "12/26",
          "1/2",
          "1/9",
          "1/16",
          "1/23",
          "1/30",
          "2/6",
          "2/13",
          "2/20",
          "2/27",
          "3/6",
          "Final"
         ],
         "xaxis": "x",
         "y": [
          null,
          25,
          20,
          8,
          5,
          3,
          2,
          2,
          4,
          6,
          15,
          19,
          24,
          21,
          20,
          18,
          14,
          11,
          10
         ],
         "yaxis": "y"
        }
       ],
       "layout": {
        "legend": {
         "title": {
          "text": "School"
         },
         "tracegroupgap": 0
        },
        "template": {
         "data": {
          "bar": [
           {
            "error_x": {
             "color": "#2a3f5f"
            },
            "error_y": {
             "color": "#2a3f5f"
            },
            "marker": {
             "line": {
              "color": "#E5ECF6",
              "width": 0.5
             },
             "pattern": {
              "fillmode": "overlay",
              "size": 10,
              "solidity": 0.2
             }
            },
            "type": "bar"
           }
          ],
          "barpolar": [
           {
            "marker": {
             "line": {
              "color": "#E5ECF6",
              "width": 0.5
             },
             "pattern": {
              "fillmode": "overlay",
              "size": 10,
              "solidity": 0.2
             }
            },
            "type": "barpolar"
           }
          ],
          "carpet": [
           {
            "aaxis": {
             "endlinecolor": "#2a3f5f",
             "gridcolor": "white",
             "linecolor": "white",
             "minorgridcolor": "white",
             "startlinecolor": "#2a3f5f"
            },
            "baxis": {
             "endlinecolor": "#2a3f5f",
             "gridcolor": "white",
             "linecolor": "white",
             "minorgridcolor": "white",
             "startlinecolor": "#2a3f5f"
            },
            "type": "carpet"
           }
          ],
          "choropleth": [
           {
            "colorbar": {
             "outlinewidth": 0,
             "ticks": ""
            },
            "type": "choropleth"
           }
          ],
          "contour": [
           {
            "colorbar": {
             "outlinewidth": 0,
             "ticks": ""
            },
            "colorscale": [
             [
              0,
              "#0d0887"
             ],
             [
              0.1111111111111111,
              "#46039f"
             ],
             [
              0.2222222222222222,
              "#7201a8"
             ],
             [
              0.3333333333333333,
              "#9c179e"
             ],
             [
              0.4444444444444444,
              "#bd3786"
             ],
             [
              0.5555555555555556,
              "#d8576b"
             ],
             [
              0.6666666666666666,
              "#ed7953"
             ],
             [
              0.7777777777777778,
              "#fb9f3a"
             ],
             [
              0.8888888888888888,
              "#fdca26"
             ],
             [
              1,
              "#f0f921"
             ]
            ],
            "type": "contour"
           }
          ],
          "contourcarpet": [
           {
            "colorbar": {
             "outlinewidth": 0,
             "ticks": ""
            },
            "type": "contourcarpet"
           }
          ],
          "heatmap": [
           {
            "colorbar": {
             "outlinewidth": 0,
             "ticks": ""
            },
            "colorscale": [
             [
              0,
              "#0d0887"
             ],
             [
              0.1111111111111111,
              "#46039f"
             ],
             [
              0.2222222222222222,
              "#7201a8"
             ],
             [
              0.3333333333333333,
              "#9c179e"
             ],
             [
              0.4444444444444444,
              "#bd3786"
             ],
             [
              0.5555555555555556,
              "#d8576b"
             ],
             [
              0.6666666666666666,
              "#ed7953"
             ],
             [
              0.7777777777777778,
              "#fb9f3a"
             ],
             [
              0.8888888888888888,
              "#fdca26"
             ],
             [
              1,
              "#f0f921"
             ]
            ],
            "type": "heatmap"
           }
          ],
          "heatmapgl": [
           {
            "colorbar": {
             "outlinewidth": 0,
             "ticks": ""
            },
            "colorscale": [
             [
              0,
              "#0d0887"
             ],
             [
              0.1111111111111111,
              "#46039f"
             ],
             [
              0.2222222222222222,
              "#7201a8"
             ],
             [
              0.3333333333333333,
              "#9c179e"
             ],
             [
              0.4444444444444444,
              "#bd3786"
             ],
             [
              0.5555555555555556,
              "#d8576b"
             ],
             [
              0.6666666666666666,
              "#ed7953"
             ],
             [
              0.7777777777777778,
              "#fb9f3a"
             ],
             [
              0.8888888888888888,
              "#fdca26"
             ],
             [
              1,
              "#f0f921"
             ]
            ],
            "type": "heatmapgl"
           }
          ],
          "histogram": [
           {
            "marker": {
             "pattern": {
              "fillmode": "overlay",
              "size": 10,
              "solidity": 0.2
             }
            },
            "type": "histogram"
           }
          ],
          "histogram2d": [
           {
            "colorbar": {
             "outlinewidth": 0,
             "ticks": ""
            },
            "colorscale": [
             [
              0,
              "#0d0887"
             ],
             [
              0.1111111111111111,
              "#46039f"
             ],
             [
              0.2222222222222222,
              "#7201a8"
             ],
             [
              0.3333333333333333,
              "#9c179e"
             ],
             [
              0.4444444444444444,
              "#bd3786"
             ],
             [
              0.5555555555555556,
              "#d8576b"
             ],
             [
              0.6666666666666666,
              "#ed7953"
             ],
             [
              0.7777777777777778,
              "#fb9f3a"
             ],
             [
              0.8888888888888888,
              "#fdca26"
             ],
             [
              1,
              "#f0f921"
             ]
            ],
            "type": "histogram2d"
           }
          ],
          "histogram2dcontour": [
           {
            "colorbar": {
             "outlinewidth": 0,
             "ticks": ""
            },
            "colorscale": [
             [
              0,
              "#0d0887"
             ],
             [
              0.1111111111111111,
              "#46039f"
             ],
             [
              0.2222222222222222,
              "#7201a8"
             ],
             [
              0.3333333333333333,
              "#9c179e"
             ],
             [
              0.4444444444444444,
              "#bd3786"
             ],
             [
              0.5555555555555556,
              "#d8576b"
             ],
             [
              0.6666666666666666,
              "#ed7953"
             ],
             [
              0.7777777777777778,
              "#fb9f3a"
             ],
             [
              0.8888888888888888,
              "#fdca26"
             ],
             [
              1,
              "#f0f921"
             ]
            ],
            "type": "histogram2dcontour"
           }
          ],
          "mesh3d": [
           {
            "colorbar": {
             "outlinewidth": 0,
             "ticks": ""
            },
            "type": "mesh3d"
           }
          ],
          "parcoords": [
           {
            "line": {
             "colorbar": {
              "outlinewidth": 0,
              "ticks": ""
             }
            },
            "type": "parcoords"
           }
          ],
          "pie": [
           {
            "automargin": true,
            "type": "pie"
           }
          ],
          "scatter": [
           {
            "fillpattern": {
             "fillmode": "overlay",
             "size": 10,
             "solidity": 0.2
            },
            "type": "scatter"
           }
          ],
          "scatter3d": [
           {
            "line": {
             "colorbar": {
              "outlinewidth": 0,
              "ticks": ""
             }
            },
            "marker": {
             "colorbar": {
              "outlinewidth": 0,
              "ticks": ""
             }
            },
            "type": "scatter3d"
           }
          ],
          "scattercarpet": [
           {
            "marker": {
             "colorbar": {
              "outlinewidth": 0,
              "ticks": ""
             }
            },
            "type": "scattercarpet"
           }
          ],
          "scattergeo": [
           {
            "marker": {
             "colorbar": {
              "outlinewidth": 0,
              "ticks": ""
             }
            },
            "type": "scattergeo"
           }
          ],
          "scattergl": [
           {
            "marker": {
             "colorbar": {
              "outlinewidth": 0,
              "ticks": ""
             }
            },
            "type": "scattergl"
           }
          ],
          "scattermapbox": [
           {
            "marker": {
             "colorbar": {
              "outlinewidth": 0,
              "ticks": ""
             }
            },
            "type": "scattermapbox"
           }
          ],
          "scatterpolar": [
           {
            "marker": {
             "colorbar": {
              "outlinewidth": 0,
              "ticks": ""
             }
            },
            "type": "scatterpolar"
           }
          ],
          "scatterpolargl": [
           {
            "marker": {
             "colorbar": {
              "outlinewidth": 0,
              "ticks": ""
             }
            },
            "type": "scatterpolargl"
           }
          ],
          "scatterternary": [
           {
            "marker": {
             "colorbar": {
              "outlinewidth": 0,
              "ticks": ""
             }
            },
            "type": "scatterternary"
           }
          ],
          "surface": [
           {
            "colorbar": {
             "outlinewidth": 0,
             "ticks": ""
            },
            "colorscale": [
             [
              0,
              "#0d0887"
             ],
             [
              0.1111111111111111,
              "#46039f"
             ],
             [
              0.2222222222222222,
              "#7201a8"
             ],
             [
              0.3333333333333333,
              "#9c179e"
             ],
             [
              0.4444444444444444,
              "#bd3786"
             ],
             [
              0.5555555555555556,
              "#d8576b"
             ],
             [
              0.6666666666666666,
              "#ed7953"
             ],
             [
              0.7777777777777778,
              "#fb9f3a"
             ],
             [
              0.8888888888888888,
              "#fdca26"
             ],
             [
              1,
              "#f0f921"
             ]
            ],
            "type": "surface"
           }
          ],
          "table": [
           {
            "cells": {
             "fill": {
              "color": "#EBF0F8"
             },
             "line": {
              "color": "white"
             }
            },
            "header": {
             "fill": {
              "color": "#C8D4E3"
             },
             "line": {
              "color": "white"
             }
            },
            "type": "table"
           }
          ]
         },
         "layout": {
          "annotationdefaults": {
           "arrowcolor": "#2a3f5f",
           "arrowhead": 0,
           "arrowwidth": 1
          },
          "autotypenumbers": "strict",
          "coloraxis": {
           "colorbar": {
            "outlinewidth": 0,
            "ticks": ""
           }
          },
          "colorscale": {
           "diverging": [
            [
             0,
             "#8e0152"
            ],
            [
             0.1,
             "#c51b7d"
            ],
            [
             0.2,
             "#de77ae"
            ],
            [
             0.3,
             "#f1b6da"
            ],
            [
             0.4,
             "#fde0ef"
            ],
            [
             0.5,
             "#f7f7f7"
            ],
            [
             0.6,
             "#e6f5d0"
            ],
            [
             0.7,
             "#b8e186"
            ],
            [
             0.8,
             "#7fbc41"
            ],
            [
             0.9,
             "#4d9221"
            ],
            [
             1,
             "#276419"
            ]
           ],
           "sequential": [
            [
             0,
             "#0d0887"
            ],
            [
             0.1111111111111111,
             "#46039f"
            ],
            [
             0.2222222222222222,
             "#7201a8"
            ],
            [
             0.3333333333333333,
             "#9c179e"
            ],
            [
             0.4444444444444444,
             "#bd3786"
            ],
            [
             0.5555555555555556,
             "#d8576b"
            ],
            [
             0.6666666666666666,
             "#ed7953"
            ],
            [
             0.7777777777777778,
             "#fb9f3a"
            ],
            [
             0.8888888888888888,
             "#fdca26"
            ],
            [
             1,
             "#f0f921"
            ]
           ],
           "sequentialminus": [
            [
             0,
             "#0d0887"
            ],
            [
             0.1111111111111111,
             "#46039f"
            ],
            [
             0.2222222222222222,
             "#7201a8"
            ],
            [
             0.3333333333333333,
             "#9c179e"
            ],
            [
             0.4444444444444444,
             "#bd3786"
            ],
            [
             0.5555555555555556,
             "#d8576b"
            ],
            [
             0.6666666666666666,
             "#ed7953"
            ],
            [
             0.7777777777777778,
             "#fb9f3a"
            ],
            [
             0.8888888888888888,
             "#fdca26"
            ],
            [
             1,
             "#f0f921"
            ]
           ]
          },
          "colorway": [
           "#636efa",
           "#EF553B",
           "#00cc96",
           "#ab63fa",
           "#FFA15A",
           "#19d3f3",
           "#FF6692",
           "#B6E880",
           "#FF97FF",
           "#FECB52"
          ],
          "font": {
           "color": "#2a3f5f"
          },
          "geo": {
           "bgcolor": "white",
           "lakecolor": "white",
           "landcolor": "#E5ECF6",
           "showlakes": true,
           "showland": true,
           "subunitcolor": "white"
          },
          "hoverlabel": {
           "align": "left"
          },
          "hovermode": "closest",
          "mapbox": {
           "style": "light"
          },
          "paper_bgcolor": "white",
          "plot_bgcolor": "#E5ECF6",
          "polar": {
           "angularaxis": {
            "gridcolor": "white",
            "linecolor": "white",
            "ticks": ""
           },
           "bgcolor": "#E5ECF6",
           "radialaxis": {
            "gridcolor": "white",
            "linecolor": "white",
            "ticks": ""
           }
          },
          "scene": {
           "xaxis": {
            "backgroundcolor": "#E5ECF6",
            "gridcolor": "white",
            "gridwidth": 2,
            "linecolor": "white",
            "showbackground": true,
            "ticks": "",
            "zerolinecolor": "white"
           },
           "yaxis": {
            "backgroundcolor": "#E5ECF6",
            "gridcolor": "white",
            "gridwidth": 2,
            "linecolor": "white",
            "showbackground": true,
            "ticks": "",
            "zerolinecolor": "white"
           },
           "zaxis": {
            "backgroundcolor": "#E5ECF6",
            "gridcolor": "white",
            "gridwidth": 2,
            "linecolor": "white",
            "showbackground": true,
            "ticks": "",
            "zerolinecolor": "white"
           }
          },
          "shapedefaults": {
           "line": {
            "color": "#2a3f5f"
           }
          },
          "ternary": {
           "aaxis": {
            "gridcolor": "white",
            "linecolor": "white",
            "ticks": ""
           },
           "baxis": {
            "gridcolor": "white",
            "linecolor": "white",
            "ticks": ""
           },
           "bgcolor": "#E5ECF6",
           "caxis": {
            "gridcolor": "white",
            "linecolor": "white",
            "ticks": ""
           }
          },
          "title": {
           "x": 0.05
          },
          "xaxis": {
           "automargin": true,
           "gridcolor": "white",
           "linecolor": "white",
           "ticks": "",
           "title": {
            "standoff": 15
           },
           "zerolinecolor": "white",
           "zerolinewidth": 2
          },
          "yaxis": {
           "automargin": true,
           "gridcolor": "white",
           "linecolor": "white",
           "ticks": "",
           "title": {
            "standoff": 15
           },
           "zerolinecolor": "white",
           "zerolinewidth": 2
          }
         }
        },
        "title": {
         "text": "Comparison of Championship Teams w/ the #1 Team According to AP Polls"
        },
        "xaxis": {
         "anchor": "y",
         "domain": [
          0,
          1
         ],
         "tickangle": -45,
         "title": {
          "text": "Date"
         }
        },
        "yaxis": {
         "anchor": "x",
         "domain": [
          0,
          1
         ],
         "title": {
          "text": "AP Poll Value"
         }
        }
       }
      },
      "text/html": [
       "<div>                            <div id=\"e5e66478-4ff7-4bfc-9d65-d377b4667e32\" class=\"plotly-graph-div\" style=\"height:525px; width:100%;\"></div>            <script type=\"text/javascript\">                require([\"plotly\"], function(Plotly) {                    window.PLOTLYENV=window.PLOTLYENV || {};                                    if (document.getElementById(\"e5e66478-4ff7-4bfc-9d65-d377b4667e32\")) {                    Plotly.newPlot(                        \"e5e66478-4ff7-4bfc-9d65-d377b4667e32\",                        [{\"hovertemplate\":\"School=Alabama<br>Date=%{x}<br>AP Poll Value=%{y}<extra></extra>\",\"legendgroup\":\"Alabama\",\"line\":{\"color\":\"#636efa\",\"dash\":\"solid\"},\"marker\":{\"symbol\":\"circle\"},\"mode\":\"markers+lines\",\"name\":\"Alabama\",\"orientation\":\"v\",\"showlegend\":true,\"x\":[\"Pre\",\"11/14\",\"11/21\",\"11/28\",\"12/5\",\"12/12\",\"12/19\",\"12/26\",\"1/2\",\"1/9\",\"1/16\",\"1/23\",\"1/30\",\"2/6\",\"2/13\",\"2/20\",\"2/27\",\"3/6\",\"Final\"],\"xaxis\":\"x\",\"y\":[20.0,18.0,18.0,11.0,8.0,4.0,9.0,8.0,7.0,4.0,4.0,2.0,4.0,3.0,1.0,2.0,2.0,4.0,1.0],\"yaxis\":\"y\",\"type\":\"scatter\"},{\"hovertemplate\":\"School=San Diego State<br>Date=%{x}<br>AP Poll Value=%{y}<extra></extra>\",\"legendgroup\":\"San Diego State\",\"line\":{\"color\":\"#EF553B\",\"dash\":\"solid\"},\"marker\":{\"symbol\":\"circle\"},\"mode\":\"markers+lines\",\"name\":\"San Diego State\",\"orientation\":\"v\",\"showlegend\":true,\"x\":[\"Pre\",\"11/14\",\"11/21\",\"11/28\",\"12/5\",\"12/12\",\"12/19\",\"12/26\",\"1/2\",\"1/9\",\"1/16\",\"1/23\",\"1/30\",\"2/6\",\"2/13\",\"2/20\",\"2/27\",\"3/6\",\"Final\"],\"xaxis\":\"x\",\"y\":[19.0,17.0,17.0,24.0,22.0,null,null,null,null,23.0,null,null,22.0,25.0,21.0,22.0,18.0,20.0,18.0],\"yaxis\":\"y\",\"type\":\"scatter\"},{\"hovertemplate\":\"School=UConn<br>Date=%{x}<br>AP Poll Value=%{y}<extra></extra>\",\"legendgroup\":\"UConn\",\"line\":{\"color\":\"#00cc96\",\"dash\":\"solid\"},\"marker\":{\"symbol\":\"circle\"},\"mode\":\"markers+lines\",\"name\":\"UConn\",\"orientation\":\"v\",\"showlegend\":true,\"x\":[\"Pre\",\"11/14\",\"11/21\",\"11/28\",\"12/5\",\"12/12\",\"12/19\",\"12/26\",\"1/2\",\"1/9\",\"1/16\",\"1/23\",\"1/30\",\"2/6\",\"2/13\",\"2/20\",\"2/27\",\"3/6\",\"Final\"],\"xaxis\":\"x\",\"y\":[null,25.0,20.0,8.0,5.0,3.0,2.0,2.0,4.0,6.0,15.0,19.0,24.0,21.0,20.0,18.0,14.0,11.0,10.0],\"yaxis\":\"y\",\"type\":\"scatter\"}],                        {\"template\":{\"data\":{\"histogram2dcontour\":[{\"type\":\"histogram2dcontour\",\"colorbar\":{\"outlinewidth\":0,\"ticks\":\"\"},\"colorscale\":[[0.0,\"#0d0887\"],[0.1111111111111111,\"#46039f\"],[0.2222222222222222,\"#7201a8\"],[0.3333333333333333,\"#9c179e\"],[0.4444444444444444,\"#bd3786\"],[0.5555555555555556,\"#d8576b\"],[0.6666666666666666,\"#ed7953\"],[0.7777777777777778,\"#fb9f3a\"],[0.8888888888888888,\"#fdca26\"],[1.0,\"#f0f921\"]]}],\"choropleth\":[{\"type\":\"choropleth\",\"colorbar\":{\"outlinewidth\":0,\"ticks\":\"\"}}],\"histogram2d\":[{\"type\":\"histogram2d\",\"colorbar\":{\"outlinewidth\":0,\"ticks\":\"\"},\"colorscale\":[[0.0,\"#0d0887\"],[0.1111111111111111,\"#46039f\"],[0.2222222222222222,\"#7201a8\"],[0.3333333333333333,\"#9c179e\"],[0.4444444444444444,\"#bd3786\"],[0.5555555555555556,\"#d8576b\"],[0.6666666666666666,\"#ed7953\"],[0.7777777777777778,\"#fb9f3a\"],[0.8888888888888888,\"#fdca26\"],[1.0,\"#f0f921\"]]}],\"heatmap\":[{\"type\":\"heatmap\",\"colorbar\":{\"outlinewidth\":0,\"ticks\":\"\"},\"colorscale\":[[0.0,\"#0d0887\"],[0.1111111111111111,\"#46039f\"],[0.2222222222222222,\"#7201a8\"],[0.3333333333333333,\"#9c179e\"],[0.4444444444444444,\"#bd3786\"],[0.5555555555555556,\"#d8576b\"],[0.6666666666666666,\"#ed7953\"],[0.7777777777777778,\"#fb9f3a\"],[0.8888888888888888,\"#fdca26\"],[1.0,\"#f0f921\"]]}],\"heatmapgl\":[{\"type\":\"heatmapgl\",\"colorbar\":{\"outlinewidth\":0,\"ticks\":\"\"},\"colorscale\":[[0.0,\"#0d0887\"],[0.1111111111111111,\"#46039f\"],[0.2222222222222222,\"#7201a8\"],[0.3333333333333333,\"#9c179e\"],[0.4444444444444444,\"#bd3786\"],[0.5555555555555556,\"#d8576b\"],[0.6666666666666666,\"#ed7953\"],[0.7777777777777778,\"#fb9f3a\"],[0.8888888888888888,\"#fdca26\"],[1.0,\"#f0f921\"]]}],\"contourcarpet\":[{\"type\":\"contourcarpet\",\"colorbar\":{\"outlinewidth\":0,\"ticks\":\"\"}}],\"contour\":[{\"type\":\"contour\",\"colorbar\":{\"outlinewidth\":0,\"ticks\":\"\"},\"colorscale\":[[0.0,\"#0d0887\"],[0.1111111111111111,\"#46039f\"],[0.2222222222222222,\"#7201a8\"],[0.3333333333333333,\"#9c179e\"],[0.4444444444444444,\"#bd3786\"],[0.5555555555555556,\"#d8576b\"],[0.6666666666666666,\"#ed7953\"],[0.7777777777777778,\"#fb9f3a\"],[0.8888888888888888,\"#fdca26\"],[1.0,\"#f0f921\"]]}],\"surface\":[{\"type\":\"surface\",\"colorbar\":{\"outlinewidth\":0,\"ticks\":\"\"},\"colorscale\":[[0.0,\"#0d0887\"],[0.1111111111111111,\"#46039f\"],[0.2222222222222222,\"#7201a8\"],[0.3333333333333333,\"#9c179e\"],[0.4444444444444444,\"#bd3786\"],[0.5555555555555556,\"#d8576b\"],[0.6666666666666666,\"#ed7953\"],[0.7777777777777778,\"#fb9f3a\"],[0.8888888888888888,\"#fdca26\"],[1.0,\"#f0f921\"]]}],\"mesh3d\":[{\"type\":\"mesh3d\",\"colorbar\":{\"outlinewidth\":0,\"ticks\":\"\"}}],\"scatter\":[{\"fillpattern\":{\"fillmode\":\"overlay\",\"size\":10,\"solidity\":0.2},\"type\":\"scatter\"}],\"parcoords\":[{\"type\":\"parcoords\",\"line\":{\"colorbar\":{\"outlinewidth\":0,\"ticks\":\"\"}}}],\"scatterpolargl\":[{\"type\":\"scatterpolargl\",\"marker\":{\"colorbar\":{\"outlinewidth\":0,\"ticks\":\"\"}}}],\"bar\":[{\"error_x\":{\"color\":\"#2a3f5f\"},\"error_y\":{\"color\":\"#2a3f5f\"},\"marker\":{\"line\":{\"color\":\"#E5ECF6\",\"width\":0.5},\"pattern\":{\"fillmode\":\"overlay\",\"size\":10,\"solidity\":0.2}},\"type\":\"bar\"}],\"scattergeo\":[{\"type\":\"scattergeo\",\"marker\":{\"colorbar\":{\"outlinewidth\":0,\"ticks\":\"\"}}}],\"scatterpolar\":[{\"type\":\"scatterpolar\",\"marker\":{\"colorbar\":{\"outlinewidth\":0,\"ticks\":\"\"}}}],\"histogram\":[{\"marker\":{\"pattern\":{\"fillmode\":\"overlay\",\"size\":10,\"solidity\":0.2}},\"type\":\"histogram\"}],\"scattergl\":[{\"type\":\"scattergl\",\"marker\":{\"colorbar\":{\"outlinewidth\":0,\"ticks\":\"\"}}}],\"scatter3d\":[{\"type\":\"scatter3d\",\"line\":{\"colorbar\":{\"outlinewidth\":0,\"ticks\":\"\"}},\"marker\":{\"colorbar\":{\"outlinewidth\":0,\"ticks\":\"\"}}}],\"scattermapbox\":[{\"type\":\"scattermapbox\",\"marker\":{\"colorbar\":{\"outlinewidth\":0,\"ticks\":\"\"}}}],\"scatterternary\":[{\"type\":\"scatterternary\",\"marker\":{\"colorbar\":{\"outlinewidth\":0,\"ticks\":\"\"}}}],\"scattercarpet\":[{\"type\":\"scattercarpet\",\"marker\":{\"colorbar\":{\"outlinewidth\":0,\"ticks\":\"\"}}}],\"carpet\":[{\"aaxis\":{\"endlinecolor\":\"#2a3f5f\",\"gridcolor\":\"white\",\"linecolor\":\"white\",\"minorgridcolor\":\"white\",\"startlinecolor\":\"#2a3f5f\"},\"baxis\":{\"endlinecolor\":\"#2a3f5f\",\"gridcolor\":\"white\",\"linecolor\":\"white\",\"minorgridcolor\":\"white\",\"startlinecolor\":\"#2a3f5f\"},\"type\":\"carpet\"}],\"table\":[{\"cells\":{\"fill\":{\"color\":\"#EBF0F8\"},\"line\":{\"color\":\"white\"}},\"header\":{\"fill\":{\"color\":\"#C8D4E3\"},\"line\":{\"color\":\"white\"}},\"type\":\"table\"}],\"barpolar\":[{\"marker\":{\"line\":{\"color\":\"#E5ECF6\",\"width\":0.5},\"pattern\":{\"fillmode\":\"overlay\",\"size\":10,\"solidity\":0.2}},\"type\":\"barpolar\"}],\"pie\":[{\"automargin\":true,\"type\":\"pie\"}]},\"layout\":{\"autotypenumbers\":\"strict\",\"colorway\":[\"#636efa\",\"#EF553B\",\"#00cc96\",\"#ab63fa\",\"#FFA15A\",\"#19d3f3\",\"#FF6692\",\"#B6E880\",\"#FF97FF\",\"#FECB52\"],\"font\":{\"color\":\"#2a3f5f\"},\"hovermode\":\"closest\",\"hoverlabel\":{\"align\":\"left\"},\"paper_bgcolor\":\"white\",\"plot_bgcolor\":\"#E5ECF6\",\"polar\":{\"bgcolor\":\"#E5ECF6\",\"angularaxis\":{\"gridcolor\":\"white\",\"linecolor\":\"white\",\"ticks\":\"\"},\"radialaxis\":{\"gridcolor\":\"white\",\"linecolor\":\"white\",\"ticks\":\"\"}},\"ternary\":{\"bgcolor\":\"#E5ECF6\",\"aaxis\":{\"gridcolor\":\"white\",\"linecolor\":\"white\",\"ticks\":\"\"},\"baxis\":{\"gridcolor\":\"white\",\"linecolor\":\"white\",\"ticks\":\"\"},\"caxis\":{\"gridcolor\":\"white\",\"linecolor\":\"white\",\"ticks\":\"\"}},\"coloraxis\":{\"colorbar\":{\"outlinewidth\":0,\"ticks\":\"\"}},\"colorscale\":{\"sequential\":[[0.0,\"#0d0887\"],[0.1111111111111111,\"#46039f\"],[0.2222222222222222,\"#7201a8\"],[0.3333333333333333,\"#9c179e\"],[0.4444444444444444,\"#bd3786\"],[0.5555555555555556,\"#d8576b\"],[0.6666666666666666,\"#ed7953\"],[0.7777777777777778,\"#fb9f3a\"],[0.8888888888888888,\"#fdca26\"],[1.0,\"#f0f921\"]],\"sequentialminus\":[[0.0,\"#0d0887\"],[0.1111111111111111,\"#46039f\"],[0.2222222222222222,\"#7201a8\"],[0.3333333333333333,\"#9c179e\"],[0.4444444444444444,\"#bd3786\"],[0.5555555555555556,\"#d8576b\"],[0.6666666666666666,\"#ed7953\"],[0.7777777777777778,\"#fb9f3a\"],[0.8888888888888888,\"#fdca26\"],[1.0,\"#f0f921\"]],\"diverging\":[[0,\"#8e0152\"],[0.1,\"#c51b7d\"],[0.2,\"#de77ae\"],[0.3,\"#f1b6da\"],[0.4,\"#fde0ef\"],[0.5,\"#f7f7f7\"],[0.6,\"#e6f5d0\"],[0.7,\"#b8e186\"],[0.8,\"#7fbc41\"],[0.9,\"#4d9221\"],[1,\"#276419\"]]},\"xaxis\":{\"gridcolor\":\"white\",\"linecolor\":\"white\",\"ticks\":\"\",\"title\":{\"standoff\":15},\"zerolinecolor\":\"white\",\"automargin\":true,\"zerolinewidth\":2},\"yaxis\":{\"gridcolor\":\"white\",\"linecolor\":\"white\",\"ticks\":\"\",\"title\":{\"standoff\":15},\"zerolinecolor\":\"white\",\"automargin\":true,\"zerolinewidth\":2},\"scene\":{\"xaxis\":{\"backgroundcolor\":\"#E5ECF6\",\"gridcolor\":\"white\",\"linecolor\":\"white\",\"showbackground\":true,\"ticks\":\"\",\"zerolinecolor\":\"white\",\"gridwidth\":2},\"yaxis\":{\"backgroundcolor\":\"#E5ECF6\",\"gridcolor\":\"white\",\"linecolor\":\"white\",\"showbackground\":true,\"ticks\":\"\",\"zerolinecolor\":\"white\",\"gridwidth\":2},\"zaxis\":{\"backgroundcolor\":\"#E5ECF6\",\"gridcolor\":\"white\",\"linecolor\":\"white\",\"showbackground\":true,\"ticks\":\"\",\"zerolinecolor\":\"white\",\"gridwidth\":2}},\"shapedefaults\":{\"line\":{\"color\":\"#2a3f5f\"}},\"annotationdefaults\":{\"arrowcolor\":\"#2a3f5f\",\"arrowhead\":0,\"arrowwidth\":1},\"geo\":{\"bgcolor\":\"white\",\"landcolor\":\"#E5ECF6\",\"subunitcolor\":\"white\",\"showland\":true,\"showlakes\":true,\"lakecolor\":\"white\"},\"title\":{\"x\":0.05},\"mapbox\":{\"style\":\"light\"}}},\"xaxis\":{\"anchor\":\"y\",\"domain\":[0.0,1.0],\"title\":{\"text\":\"Date\"},\"tickangle\":-45},\"yaxis\":{\"anchor\":\"x\",\"domain\":[0.0,1.0],\"title\":{\"text\":\"AP Poll Value\"}},\"legend\":{\"title\":{\"text\":\"School\"},\"tracegroupgap\":0},\"title\":{\"text\":\"Comparison of Championship Teams w/ the #1 Team According to AP Polls\"}},                        {\"responsive\": true}                    ).then(function(){\n",
       "                            \n",
       "var gd = document.getElementById('e5e66478-4ff7-4bfc-9d65-d377b4667e32');\n",
       "var x = new MutationObserver(function (mutations, observer) {{\n",
       "        var display = window.getComputedStyle(gd).display;\n",
       "        if (!display || display === 'none') {{\n",
       "            console.log([gd, 'removed!']);\n",
       "            Plotly.purge(gd);\n",
       "            observer.disconnect();\n",
       "        }}\n",
       "}});\n",
       "\n",
       "// Listen for the removal of the full notebook cells\n",
       "var notebookContainer = gd.closest('#notebook-container');\n",
       "if (notebookContainer) {{\n",
       "    x.observe(notebookContainer, {childList: true});\n",
       "}}\n",
       "\n",
       "// Listen for the clearing of the current output cell\n",
       "var outputEl = gd.closest('.output');\n",
       "if (outputEl) {{\n",
       "    x.observe(outputEl, {childList: true});\n",
       "}}\n",
       "\n",
       "                        })                };                });            </script>        </div>"
      ]
     },
     "metadata": {},
     "output_type": "display_data"
    }
   ],
   "source": [
    "# Filter the DataFrame to include only Alabama, UConn, and San Diego State\n",
    "schools_to_compare = ['Alabama', 'UConn', 'San Diego State']\n",
    "filtered_df = ap_polls[ap_polls['School'].isin(schools_to_compare)]\n",
    "\n",
    "# Melt the filtered DataFrame to long format for Plotly Express\n",
    "df_melted = filtered_df.melt(id_vars=['School', 'Conf'], var_name='Date', value_name='AP Poll Value')\n",
    "\n",
    "# Create a line plot with markers using Plotly Express\n",
    "fig = px.line(df_melted, x='Date', y='AP Poll Value', color='School', title='Comparison of Championship Teams w/ the #1 Team According to AP Polls',\n",
    "              markers=True)\n",
    "fig.update_layout(xaxis_tickangle=-45, xaxis_title='Date', yaxis_title='AP Poll Value', legend_title='School')\n",
    "fig.show()\n"
   ]
  },
  {
   "cell_type": "markdown",
   "id": "8eea7934",
   "metadata": {},
   "source": [
    "When comparing the performances of the teams that reached the championship game, it's notable that their scores exhibited less consistency throughout the season compared to Alabama. However, these teams showed improvement from their initial Pre scores to their final scores, indicating progression in their performance over time. UConn, the winners of the 2023 March Madness, had a very interesting performance, fluctuating throughout the season. This is important because relying solely on the AP Polls may not be a strong indicator of how these teams perform in the postseason.\n",
    "\n",
    "While the answer to this question is highly anticipated, it's important to note that AP Polls serve as a supportive metric in classifying seeds for the March Madness bracket. Therefore, understanding seed placements helps us understand how teams can perform during the March Madness tournament."
   ]
  },
  {
   "cell_type": "markdown",
   "id": "697700b0",
   "metadata": {},
   "source": [
    "## Season Stats"
   ]
  },
  {
   "cell_type": "code",
   "execution_count": 52,
   "id": "91c6ae3b",
   "metadata": {},
   "outputs": [],
   "source": [
    "season = pd.read_csv('files/season_stats.csv')"
   ]
  },
  {
   "cell_type": "code",
   "execution_count": 53,
   "id": "5b5e2c56",
   "metadata": {},
   "outputs": [
    {
     "data": {
      "text/plain": [
       "Index(['Rk', 'School', 'G', 'W', 'L', 'W-L%', 'SRS', 'SOS', 'Unnamed: 8',\n",
       "       'W.1', 'L.1', 'Unnamed: 11', 'W.2', 'L.2', 'Unnamed: 14', 'W.3', 'L.3',\n",
       "       'Unnamed: 17', 'Tm.', 'Opp.', 'Unnamed: 20', 'MP', 'FG', 'FGA', 'FG%',\n",
       "       '3P', '3PA', '3P%', 'FT', 'FTA', 'FT%', 'ORB', 'TRB', 'AST', 'STL',\n",
       "       'BLK', 'TOV', 'PF'],\n",
       "      dtype='object')"
      ]
     },
     "execution_count": 53,
     "metadata": {},
     "output_type": "execute_result"
    }
   ],
   "source": [
    "season.columns"
   ]
  },
  {
   "cell_type": "code",
   "execution_count": 54,
   "id": "fe12150d",
   "metadata": {},
   "outputs": [],
   "source": [
    "season = season.rename(columns={'W.1': 'Conf_W', 'L.1': 'Conf_L',\n",
    "                               'W.2': 'H_W', 'L.2': 'H_L', \n",
    "                               'W.3': 'A_W' , 'L.3': 'A_L'})"
   ]
  },
  {
   "cell_type": "code",
   "execution_count": 55,
   "id": "8ff1284c",
   "metadata": {},
   "outputs": [],
   "source": [
    "season = season.drop(columns = ['Unnamed: 8' ,'Unnamed: 11', 'Unnamed: 14','Unnamed: 17', 'Unnamed: 20' ])"
   ]
  },
  {
   "cell_type": "code",
   "execution_count": 56,
   "id": "3779ebb1",
   "metadata": {},
   "outputs": [],
   "source": [
    "qualified_ncaa = season[season['School'].str.contains('NCAA')]"
   ]
  },
  {
   "cell_type": "code",
   "execution_count": 57,
   "id": "12ed6353",
   "metadata": {},
   "outputs": [],
   "source": [
    "qualified_ncaa.loc[:, 'School'] = qualified_ncaa['School'].str.replace(' NCAA', '')\n"
   ]
  },
  {
   "cell_type": "code",
   "execution_count": 58,
   "id": "69acc573",
   "metadata": {},
   "outputs": [
    {
     "data": {
      "text/html": [
       "<div>\n",
       "<style scoped>\n",
       "    .dataframe tbody tr th:only-of-type {\n",
       "        vertical-align: middle;\n",
       "    }\n",
       "\n",
       "    .dataframe tbody tr th {\n",
       "        vertical-align: top;\n",
       "    }\n",
       "\n",
       "    .dataframe thead th {\n",
       "        text-align: right;\n",
       "    }\n",
       "</style>\n",
       "<table border=\"1\" class=\"dataframe\">\n",
       "  <thead>\n",
       "    <tr style=\"text-align: right;\">\n",
       "      <th></th>\n",
       "      <th>Rk</th>\n",
       "      <th>School</th>\n",
       "      <th>G</th>\n",
       "      <th>W</th>\n",
       "      <th>L</th>\n",
       "      <th>W-L%</th>\n",
       "      <th>SRS</th>\n",
       "      <th>SOS</th>\n",
       "      <th>Conf_W</th>\n",
       "      <th>Conf_L</th>\n",
       "      <th>...</th>\n",
       "      <th>FT</th>\n",
       "      <th>FTA</th>\n",
       "      <th>FT%</th>\n",
       "      <th>ORB</th>\n",
       "      <th>TRB</th>\n",
       "      <th>AST</th>\n",
       "      <th>STL</th>\n",
       "      <th>BLK</th>\n",
       "      <th>TOV</th>\n",
       "      <th>PF</th>\n",
       "    </tr>\n",
       "  </thead>\n",
       "  <tbody>\n",
       "    <tr>\n",
       "      <th>3</th>\n",
       "      <td>4</td>\n",
       "      <td>Alabama</td>\n",
       "      <td>37</td>\n",
       "      <td>31</td>\n",
       "      <td>6</td>\n",
       "      <td>0.838</td>\n",
       "      <td>23.19</td>\n",
       "      <td>9.65</td>\n",
       "      <td>16.0</td>\n",
       "      <td>2.0</td>\n",
       "      <td>...</td>\n",
       "      <td>615</td>\n",
       "      <td>848</td>\n",
       "      <td>0.725</td>\n",
       "      <td>484</td>\n",
       "      <td>1652</td>\n",
       "      <td>555</td>\n",
       "      <td>224</td>\n",
       "      <td>189</td>\n",
       "      <td>512</td>\n",
       "      <td>691</td>\n",
       "    </tr>\n",
       "    <tr>\n",
       "      <th>10</th>\n",
       "      <td>11</td>\n",
       "      <td>Arizona</td>\n",
       "      <td>35</td>\n",
       "      <td>28</td>\n",
       "      <td>7</td>\n",
       "      <td>0.800</td>\n",
       "      <td>19.08</td>\n",
       "      <td>8.34</td>\n",
       "      <td>14.0</td>\n",
       "      <td>6.0</td>\n",
       "      <td>...</td>\n",
       "      <td>525</td>\n",
       "      <td>742</td>\n",
       "      <td>0.708</td>\n",
       "      <td>356</td>\n",
       "      <td>1376</td>\n",
       "      <td>662</td>\n",
       "      <td>213</td>\n",
       "      <td>110</td>\n",
       "      <td>468</td>\n",
       "      <td>593</td>\n",
       "    </tr>\n",
       "    <tr>\n",
       "      <th>11</th>\n",
       "      <td>12</td>\n",
       "      <td>Arizona State</td>\n",
       "      <td>36</td>\n",
       "      <td>23</td>\n",
       "      <td>13</td>\n",
       "      <td>0.639</td>\n",
       "      <td>11.29</td>\n",
       "      <td>8.18</td>\n",
       "      <td>11.0</td>\n",
       "      <td>9.0</td>\n",
       "      <td>...</td>\n",
       "      <td>465</td>\n",
       "      <td>675</td>\n",
       "      <td>0.689</td>\n",
       "      <td>395</td>\n",
       "      <td>1315</td>\n",
       "      <td>515</td>\n",
       "      <td>255</td>\n",
       "      <td>170</td>\n",
       "      <td>422</td>\n",
       "      <td>668</td>\n",
       "    </tr>\n",
       "    <tr>\n",
       "      <th>12</th>\n",
       "      <td>13</td>\n",
       "      <td>Arkansas</td>\n",
       "      <td>36</td>\n",
       "      <td>22</td>\n",
       "      <td>14</td>\n",
       "      <td>0.611</td>\n",
       "      <td>15.99</td>\n",
       "      <td>9.87</td>\n",
       "      <td>8.0</td>\n",
       "      <td>10.0</td>\n",
       "      <td>...</td>\n",
       "      <td>565</td>\n",
       "      <td>810</td>\n",
       "      <td>0.698</td>\n",
       "      <td>373</td>\n",
       "      <td>1272</td>\n",
       "      <td>462</td>\n",
       "      <td>302</td>\n",
       "      <td>182</td>\n",
       "      <td>458</td>\n",
       "      <td>694</td>\n",
       "    </tr>\n",
       "    <tr>\n",
       "      <th>16</th>\n",
       "      <td>17</td>\n",
       "      <td>Auburn</td>\n",
       "      <td>34</td>\n",
       "      <td>21</td>\n",
       "      <td>13</td>\n",
       "      <td>0.618</td>\n",
       "      <td>14.35</td>\n",
       "      <td>9.29</td>\n",
       "      <td>10.0</td>\n",
       "      <td>8.0</td>\n",
       "      <td>...</td>\n",
       "      <td>503</td>\n",
       "      <td>723</td>\n",
       "      <td>0.696</td>\n",
       "      <td>396</td>\n",
       "      <td>1231</td>\n",
       "      <td>479</td>\n",
       "      <td>263</td>\n",
       "      <td>172</td>\n",
       "      <td>414</td>\n",
       "      <td>655</td>\n",
       "    </tr>\n",
       "    <tr>\n",
       "      <th>...</th>\n",
       "      <td>...</td>\n",
       "      <td>...</td>\n",
       "      <td>...</td>\n",
       "      <td>...</td>\n",
       "      <td>...</td>\n",
       "      <td>...</td>\n",
       "      <td>...</td>\n",
       "      <td>...</td>\n",
       "      <td>...</td>\n",
       "      <td>...</td>\n",
       "      <td>...</td>\n",
       "      <td>...</td>\n",
       "      <td>...</td>\n",
       "      <td>...</td>\n",
       "      <td>...</td>\n",
       "      <td>...</td>\n",
       "      <td>...</td>\n",
       "      <td>...</td>\n",
       "      <td>...</td>\n",
       "      <td>...</td>\n",
       "      <td>...</td>\n",
       "    </tr>\n",
       "    <tr>\n",
       "      <th>337</th>\n",
       "      <td>338</td>\n",
       "      <td>Vermont</td>\n",
       "      <td>34</td>\n",
       "      <td>23</td>\n",
       "      <td>11</td>\n",
       "      <td>0.676</td>\n",
       "      <td>1.63</td>\n",
       "      <td>-3.13</td>\n",
       "      <td>14.0</td>\n",
       "      <td>2.0</td>\n",
       "      <td>...</td>\n",
       "      <td>377</td>\n",
       "      <td>541</td>\n",
       "      <td>0.697</td>\n",
       "      <td>220</td>\n",
       "      <td>1065</td>\n",
       "      <td>465</td>\n",
       "      <td>200</td>\n",
       "      <td>98</td>\n",
       "      <td>318</td>\n",
       "      <td>504</td>\n",
       "    </tr>\n",
       "    <tr>\n",
       "      <th>339</th>\n",
       "      <td>340</td>\n",
       "      <td>Virginia</td>\n",
       "      <td>33</td>\n",
       "      <td>25</td>\n",
       "      <td>8</td>\n",
       "      <td>0.758</td>\n",
       "      <td>13.28</td>\n",
       "      <td>5.98</td>\n",
       "      <td>15.0</td>\n",
       "      <td>5.0</td>\n",
       "      <td>...</td>\n",
       "      <td>431</td>\n",
       "      <td>613</td>\n",
       "      <td>0.703</td>\n",
       "      <td>273</td>\n",
       "      <td>1064</td>\n",
       "      <td>519</td>\n",
       "      <td>225</td>\n",
       "      <td>142</td>\n",
       "      <td>282</td>\n",
       "      <td>471</td>\n",
       "    </tr>\n",
       "    <tr>\n",
       "      <th>340</th>\n",
       "      <td>341</td>\n",
       "      <td>Virginia Commonwealth</td>\n",
       "      <td>35</td>\n",
       "      <td>27</td>\n",
       "      <td>8</td>\n",
       "      <td>0.771</td>\n",
       "      <td>9.89</td>\n",
       "      <td>1.95</td>\n",
       "      <td>15.0</td>\n",
       "      <td>3.0</td>\n",
       "      <td>...</td>\n",
       "      <td>540</td>\n",
       "      <td>776</td>\n",
       "      <td>0.696</td>\n",
       "      <td>324</td>\n",
       "      <td>1161</td>\n",
       "      <td>456</td>\n",
       "      <td>311</td>\n",
       "      <td>160</td>\n",
       "      <td>468</td>\n",
       "      <td>575</td>\n",
       "    </tr>\n",
       "    <tr>\n",
       "      <th>348</th>\n",
       "      <td>349</td>\n",
       "      <td>West Virginia</td>\n",
       "      <td>34</td>\n",
       "      <td>19</td>\n",
       "      <td>15</td>\n",
       "      <td>0.559</td>\n",
       "      <td>15.95</td>\n",
       "      <td>10.89</td>\n",
       "      <td>7.0</td>\n",
       "      <td>11.0</td>\n",
       "      <td>...</td>\n",
       "      <td>571</td>\n",
       "      <td>769</td>\n",
       "      <td>0.743</td>\n",
       "      <td>383</td>\n",
       "      <td>1152</td>\n",
       "      <td>442</td>\n",
       "      <td>227</td>\n",
       "      <td>104</td>\n",
       "      <td>440</td>\n",
       "      <td>632</td>\n",
       "    </tr>\n",
       "    <tr>\n",
       "      <th>360</th>\n",
       "      <td>361</td>\n",
       "      <td>Xavier</td>\n",
       "      <td>37</td>\n",
       "      <td>27</td>\n",
       "      <td>10</td>\n",
       "      <td>0.730</td>\n",
       "      <td>16.03</td>\n",
       "      <td>9.16</td>\n",
       "      <td>15.0</td>\n",
       "      <td>5.0</td>\n",
       "      <td>...</td>\n",
       "      <td>503</td>\n",
       "      <td>708</td>\n",
       "      <td>0.710</td>\n",
       "      <td>380</td>\n",
       "      <td>1396</td>\n",
       "      <td>705</td>\n",
       "      <td>236</td>\n",
       "      <td>120</td>\n",
       "      <td>459</td>\n",
       "      <td>593</td>\n",
       "    </tr>\n",
       "  </tbody>\n",
       "</table>\n",
       "<p>68 rows × 33 columns</p>\n",
       "</div>"
      ],
      "text/plain": [
       "      Rk                 School   G   W   L   W-L%    SRS    SOS  Conf_W  \\\n",
       "3      4                Alabama  37  31   6  0.838  23.19   9.65    16.0   \n",
       "10    11                Arizona  35  28   7  0.800  19.08   8.34    14.0   \n",
       "11    12          Arizona State  36  23  13  0.639  11.29   8.18    11.0   \n",
       "12    13               Arkansas  36  22  14  0.611  15.99   9.87     8.0   \n",
       "16    17                 Auburn  34  21  13  0.618  14.35   9.29    10.0   \n",
       "..   ...                    ...  ..  ..  ..    ...    ...    ...     ...   \n",
       "337  338                Vermont  34  23  11  0.676   1.63  -3.13    14.0   \n",
       "339  340               Virginia  33  25   8  0.758  13.28   5.98    15.0   \n",
       "340  341  Virginia Commonwealth  35  27   8  0.771   9.89   1.95    15.0   \n",
       "348  349          West Virginia  34  19  15  0.559  15.95  10.89     7.0   \n",
       "360  361                 Xavier  37  27  10  0.730  16.03   9.16    15.0   \n",
       "\n",
       "     Conf_L  ...   FT  FTA    FT%  ORB   TRB  AST  STL  BLK  TOV   PF  \n",
       "3       2.0  ...  615  848  0.725  484  1652  555  224  189  512  691  \n",
       "10      6.0  ...  525  742  0.708  356  1376  662  213  110  468  593  \n",
       "11      9.0  ...  465  675  0.689  395  1315  515  255  170  422  668  \n",
       "12     10.0  ...  565  810  0.698  373  1272  462  302  182  458  694  \n",
       "16      8.0  ...  503  723  0.696  396  1231  479  263  172  414  655  \n",
       "..      ...  ...  ...  ...    ...  ...   ...  ...  ...  ...  ...  ...  \n",
       "337     2.0  ...  377  541  0.697  220  1065  465  200   98  318  504  \n",
       "339     5.0  ...  431  613  0.703  273  1064  519  225  142  282  471  \n",
       "340     3.0  ...  540  776  0.696  324  1161  456  311  160  468  575  \n",
       "348    11.0  ...  571  769  0.743  383  1152  442  227  104  440  632  \n",
       "360     5.0  ...  503  708  0.710  380  1396  705  236  120  459  593  \n",
       "\n",
       "[68 rows x 33 columns]"
      ]
     },
     "execution_count": 58,
     "metadata": {},
     "output_type": "execute_result"
    }
   ],
   "source": [
    "qualified_ncaa"
   ]
  },
  {
   "cell_type": "code",
   "execution_count": 59,
   "id": "5282f755",
   "metadata": {},
   "outputs": [
    {
     "data": {
      "text/html": [
       "<div>\n",
       "<style scoped>\n",
       "    .dataframe tbody tr th:only-of-type {\n",
       "        vertical-align: middle;\n",
       "    }\n",
       "\n",
       "    .dataframe tbody tr th {\n",
       "        vertical-align: top;\n",
       "    }\n",
       "\n",
       "    .dataframe thead th {\n",
       "        text-align: right;\n",
       "    }\n",
       "</style>\n",
       "<table border=\"1\" class=\"dataframe\">\n",
       "  <thead>\n",
       "    <tr style=\"text-align: right;\">\n",
       "      <th></th>\n",
       "      <th>Team</th>\n",
       "      <th>Seed</th>\n",
       "    </tr>\n",
       "  </thead>\n",
       "  <tbody>\n",
       "    <tr>\n",
       "      <th>0</th>\n",
       "      <td>Alabama</td>\n",
       "      <td>1</td>\n",
       "    </tr>\n",
       "    <tr>\n",
       "      <th>1</th>\n",
       "      <td>Kansas</td>\n",
       "      <td>1</td>\n",
       "    </tr>\n",
       "    <tr>\n",
       "      <th>2</th>\n",
       "      <td>Connecticut</td>\n",
       "      <td>4</td>\n",
       "    </tr>\n",
       "    <tr>\n",
       "      <th>3</th>\n",
       "      <td>UCLA</td>\n",
       "      <td>2</td>\n",
       "    </tr>\n",
       "    <tr>\n",
       "      <th>4</th>\n",
       "      <td>Auburn</td>\n",
       "      <td>9</td>\n",
       "    </tr>\n",
       "    <tr>\n",
       "      <th>...</th>\n",
       "      <td>...</td>\n",
       "      <td>...</td>\n",
       "    </tr>\n",
       "    <tr>\n",
       "      <th>63</th>\n",
       "      <td>Iowa State</td>\n",
       "      <td>6</td>\n",
       "    </tr>\n",
       "    <tr>\n",
       "      <th>3</th>\n",
       "      <td>Nevada</td>\n",
       "      <td>11</td>\n",
       "    </tr>\n",
       "    <tr>\n",
       "      <th>4</th>\n",
       "      <td>Southeast Missouri State</td>\n",
       "      <td>16</td>\n",
       "    </tr>\n",
       "    <tr>\n",
       "      <th>5</th>\n",
       "      <td>Texas Southern</td>\n",
       "      <td>16</td>\n",
       "    </tr>\n",
       "    <tr>\n",
       "      <th>7</th>\n",
       "      <td>Mississippi State</td>\n",
       "      <td>11</td>\n",
       "    </tr>\n",
       "  </tbody>\n",
       "</table>\n",
       "<p>68 rows × 2 columns</p>\n",
       "</div>"
      ],
      "text/plain": [
       "                        Team  Seed\n",
       "0                    Alabama     1\n",
       "1                     Kansas     1\n",
       "2                Connecticut     4\n",
       "3                       UCLA     2\n",
       "4                     Auburn     9\n",
       "..                       ...   ...\n",
       "63                Iowa State     6\n",
       "3                     Nevada    11\n",
       "4   Southeast Missouri State    16\n",
       "5             Texas Southern    16\n",
       "7          Mississippi State    11\n",
       "\n",
       "[68 rows x 2 columns]"
      ]
     },
     "execution_count": 59,
     "metadata": {},
     "output_type": "execute_result"
    }
   ],
   "source": [
    "# Assuming dd and aa are already defined as dataframes\n",
    "dd = round_one[['Team', 'Seed']]\n",
    "aa = first_four[['Team', 'Seed']]\n",
    "\n",
    "# Convert Team column to sets for comparison\n",
    "dd_teams = set(dd['Team'])\n",
    "aa_teams = set(aa['Team'])\n",
    "\n",
    "# Find missing teams in aa compared to dd\n",
    "missing_teams = aa_teams - dd_teams\n",
    "\n",
    "# Filter aa dataframe for missing teams and concatenate with dd\n",
    "missing_teams_df = aa[aa['Team'].isin(missing_teams)]\n",
    "dd_updated = pd.concat([dd, missing_teams_df])\n",
    "\n",
    "dd_updated"
   ]
  },
  {
   "cell_type": "code",
   "execution_count": 60,
   "id": "a7711922",
   "metadata": {},
   "outputs": [],
   "source": [
    "corrections = {\n",
    "    \"St. Mary's (CA)\": \"Saint Mary's (CA)\",\n",
    "    \"Texas A&M–Corpus Christi\": \"Texas A&M-Corpus Christi\",\n",
    "    \"VCU\": \"Virginia Commonwealth\"\n",
    "}\n",
    "# Rename rows in 'Team' column of dd_updated\n",
    "dd_updated['Team'] = dd_updated['Team'].replace(corrections)"
   ]
  },
  {
   "cell_type": "code",
   "execution_count": 61,
   "id": "30f218aa",
   "metadata": {},
   "outputs": [
    {
     "data": {
      "text/html": [
       "<div>\n",
       "<style scoped>\n",
       "    .dataframe tbody tr th:only-of-type {\n",
       "        vertical-align: middle;\n",
       "    }\n",
       "\n",
       "    .dataframe tbody tr th {\n",
       "        vertical-align: top;\n",
       "    }\n",
       "\n",
       "    .dataframe thead th {\n",
       "        text-align: right;\n",
       "    }\n",
       "</style>\n",
       "<table border=\"1\" class=\"dataframe\">\n",
       "  <thead>\n",
       "    <tr style=\"text-align: right;\">\n",
       "      <th></th>\n",
       "      <th>Team</th>\n",
       "      <th>Seed</th>\n",
       "    </tr>\n",
       "  </thead>\n",
       "  <tbody>\n",
       "    <tr>\n",
       "      <th>0</th>\n",
       "      <td>Alabama</td>\n",
       "      <td>1</td>\n",
       "    </tr>\n",
       "    <tr>\n",
       "      <th>1</th>\n",
       "      <td>Kansas</td>\n",
       "      <td>1</td>\n",
       "    </tr>\n",
       "    <tr>\n",
       "      <th>2</th>\n",
       "      <td>Connecticut</td>\n",
       "      <td>4</td>\n",
       "    </tr>\n",
       "    <tr>\n",
       "      <th>3</th>\n",
       "      <td>UCLA</td>\n",
       "      <td>2</td>\n",
       "    </tr>\n",
       "    <tr>\n",
       "      <th>4</th>\n",
       "      <td>Auburn</td>\n",
       "      <td>9</td>\n",
       "    </tr>\n",
       "    <tr>\n",
       "      <th>...</th>\n",
       "      <td>...</td>\n",
       "      <td>...</td>\n",
       "    </tr>\n",
       "    <tr>\n",
       "      <th>63</th>\n",
       "      <td>Iowa State</td>\n",
       "      <td>6</td>\n",
       "    </tr>\n",
       "    <tr>\n",
       "      <th>3</th>\n",
       "      <td>Nevada</td>\n",
       "      <td>11</td>\n",
       "    </tr>\n",
       "    <tr>\n",
       "      <th>4</th>\n",
       "      <td>Southeast Missouri State</td>\n",
       "      <td>16</td>\n",
       "    </tr>\n",
       "    <tr>\n",
       "      <th>5</th>\n",
       "      <td>Texas Southern</td>\n",
       "      <td>16</td>\n",
       "    </tr>\n",
       "    <tr>\n",
       "      <th>7</th>\n",
       "      <td>Mississippi State</td>\n",
       "      <td>11</td>\n",
       "    </tr>\n",
       "  </tbody>\n",
       "</table>\n",
       "<p>68 rows × 2 columns</p>\n",
       "</div>"
      ],
      "text/plain": [
       "                        Team  Seed\n",
       "0                    Alabama     1\n",
       "1                     Kansas     1\n",
       "2                Connecticut     4\n",
       "3                       UCLA     2\n",
       "4                     Auburn     9\n",
       "..                       ...   ...\n",
       "63                Iowa State     6\n",
       "3                     Nevada    11\n",
       "4   Southeast Missouri State    16\n",
       "5             Texas Southern    16\n",
       "7          Mississippi State    11\n",
       "\n",
       "[68 rows x 2 columns]"
      ]
     },
     "execution_count": 61,
     "metadata": {},
     "output_type": "execute_result"
    }
   ],
   "source": [
    "dd_updated"
   ]
  },
  {
   "cell_type": "code",
   "execution_count": 62,
   "id": "c71723b3",
   "metadata": {},
   "outputs": [],
   "source": [
    "import pandas as pd\n",
    "\n",
    "# Merge qualified_ncaa with dd_updated on the 'Team' column\n",
    "merged_df = pd.merge(qualified_ncaa, dd_updated[['Team', 'Seed']], left_on='School', right_on='Team', how='left')\n",
    "\n",
    "# Rename the 'Seed' column to match the naming convention in qualified_ncaa\n",
    "merged_df.rename(columns={'Seed': 'seed'}, inplace=True)"
   ]
  },
  {
   "cell_type": "code",
   "execution_count": 63,
   "id": "b211951e",
   "metadata": {},
   "outputs": [],
   "source": [
    "merged_df = merged_df.drop(columns = ['Team'])"
   ]
  },
  {
   "cell_type": "code",
   "execution_count": 64,
   "id": "a4f70e0c",
   "metadata": {},
   "outputs": [
    {
     "data": {
      "text/plain": [
       "Index(['Rk', 'School', 'G', 'W', 'L', 'W-L%', 'SRS', 'SOS', 'Conf_W', 'Conf_L',\n",
       "       'H_W', 'H_L', 'A_W', 'A_L', 'Tm.', 'Opp.', 'MP', 'FG', 'FGA', 'FG%',\n",
       "       '3P', '3PA', '3P%', 'FT', 'FTA', 'FT%', 'ORB', 'TRB', 'AST', 'STL',\n",
       "       'BLK', 'TOV', 'PF', 'seed'],\n",
       "      dtype='object')"
      ]
     },
     "execution_count": 64,
     "metadata": {},
     "output_type": "execute_result"
    }
   ],
   "source": [
    "merged_df.columns"
   ]
  },
  {
   "cell_type": "code",
   "execution_count": 65,
   "id": "bc658c1c",
   "metadata": {},
   "outputs": [],
   "source": [
    "df= merged_df[['Rk', 'School','SRS', 'SOS','W-L%','FG%', '3P%','FT%', 'ORB', 'TRB', 'AST','BLK', 'TOV', 'PF','seed']]"
   ]
  },
  {
   "cell_type": "code",
   "execution_count": 66,
   "id": "9d57dfe3",
   "metadata": {},
   "outputs": [
    {
     "data": {
      "text/plain": [
       "Index(['Rk', 'School', 'SRS', 'SOS', 'W-L%', 'FG%', '3P%', 'FT%', 'ORB', 'TRB',\n",
       "       'AST', 'BLK', 'TOV', 'PF', 'seed', 'Yrs', 'Overall_W-L%', 'SZNCHAMPS',\n",
       "       'TORNCHAMPS', 'NCAA', 'FF', 'NATCHAMPS'],\n",
       "      dtype='object')"
      ]
     },
     "execution_count": 66,
     "metadata": {},
     "output_type": "execute_result"
    }
   ],
   "source": [
    "ver1 = pd.merge(df, history_stats, left_on='School', right_on='School', how='left')\n",
    "ver1.columns"
   ]
  },
  {
   "cell_type": "code",
   "execution_count": 67,
   "id": "4eea402c",
   "metadata": {},
   "outputs": [],
   "source": [
    "# # Assuming dd and aa are already defined as dataframes\n",
    "# foo = ver1[['School']]\n",
    "# xo = coach_stats_copy[['School']]\n",
    "\n",
    "# # Convert Team column to sets for comparison\n",
    "# foo_teams = set(foo['School'])\n",
    "# xo_teams = set(xo['School'])\n",
    "\n",
    "# # Find missing teams in aa compared to dd\n",
    "# missing_teams =  foo_teams -xo_teams \n",
    "# missing_teams"
   ]
  },
  {
   "cell_type": "code",
   "execution_count": 68,
   "id": "ad503682",
   "metadata": {},
   "outputs": [],
   "source": [
    "#'UConn'\n",
    "#UCSB\n",
    "# VCU\n",
    "# USD\n",
    "# \"Saint Mary's\",\n",
    "#     'Pitt'\n",
    "\n",
    "corrections = {\n",
    "    \"UConn\": 'Connecticut',\n",
    "    \"UCSB\": 'UC Santa Barbara',\n",
    "    \"VCU\": \"Virginia Commonwealth\",\n",
    "    'USC' : 'Southern California',\n",
    "    \"Saint Mary's\" : \"Saint Mary's (CA)\",\n",
    "    'Pitt' : 'Pittsburgh'\n",
    "}\n",
    "# Rename rows in 'Team' column of dd_updated\n",
    "coach_stats_copy['School'] = coach_stats_copy['School'].replace(corrections)"
   ]
  },
  {
   "cell_type": "code",
   "execution_count": 69,
   "id": "92d3039a",
   "metadata": {},
   "outputs": [
    {
     "data": {
      "text/plain": [
       "Index(['Rk', 'School', 'SRS', 'SOS', 'W-L%', 'FG%', '3P%', 'FT%', 'ORB', 'TRB',\n",
       "       'AST', 'BLK', 'TOV', 'PF', 'seed', 'Yrs', 'Overall_W-L%', 'SZNCHAMPS',\n",
       "       'TORNCHAMPS', 'NCAA', 'FF', 'NATCHAMPS', 'Coach', 'SZNC_W-L%',\n",
       "       'OC_W-L%', 'C_NCAA', 'C_S16', 'C_FF', 'C_CHAMP'],\n",
       "      dtype='object')"
      ]
     },
     "execution_count": 69,
     "metadata": {},
     "output_type": "execute_result"
    }
   ],
   "source": [
    "final = pd.merge(ver1, coach_stats_copy, left_on='School', right_on='School', how='left')\n",
    "final.columns"
   ]
  },
  {
   "cell_type": "code",
   "execution_count": 70,
   "id": "7f978a49",
   "metadata": {},
   "outputs": [],
   "source": [
    "final = final.drop(columns = ['W-L%','Coach', 'C_S16'])"
   ]
  },
  {
   "cell_type": "code",
   "execution_count": 71,
   "id": "20646c8c",
   "metadata": {},
   "outputs": [],
   "source": [
    "final.dropna(inplace=True)"
   ]
  },
  {
   "cell_type": "code",
   "execution_count": 72,
   "id": "e6198a4a",
   "metadata": {},
   "outputs": [],
   "source": [
    "final = final.drop_duplicates(subset='School')"
   ]
  },
  {
   "cell_type": "code",
   "execution_count": 73,
   "id": "06b56968",
   "metadata": {},
   "outputs": [
    {
     "data": {
      "text/plain": [
       "Index(['Rk', 'School', 'SRS', 'SOS', 'FG%', '3P%', 'FT%', 'ORB', 'TRB', 'AST',\n",
       "       'BLK', 'TOV', 'PF', 'seed', 'Yrs', 'Overall_W-L%', 'SZNCHAMPS',\n",
       "       'TORNCHAMPS', 'NCAA', 'FF', 'NATCHAMPS', 'SZNC_W-L%', 'OC_W-L%',\n",
       "       'C_NCAA', 'C_FF', 'C_CHAMP'],\n",
       "      dtype='object')"
      ]
     },
     "execution_count": 73,
     "metadata": {},
     "output_type": "execute_result"
    }
   ],
   "source": [
    "final.columns"
   ]
  },
  {
   "cell_type": "code",
   "execution_count": 74,
   "id": "556d84dd",
   "metadata": {},
   "outputs": [
    {
     "data": {
      "text/html": [
       "<div>\n",
       "<style scoped>\n",
       "    .dataframe tbody tr th:only-of-type {\n",
       "        vertical-align: middle;\n",
       "    }\n",
       "\n",
       "    .dataframe tbody tr th {\n",
       "        vertical-align: top;\n",
       "    }\n",
       "\n",
       "    .dataframe thead th {\n",
       "        text-align: right;\n",
       "    }\n",
       "</style>\n",
       "<table border=\"1\" class=\"dataframe\">\n",
       "  <thead>\n",
       "    <tr style=\"text-align: right;\">\n",
       "      <th></th>\n",
       "      <th>Rk</th>\n",
       "      <th>School</th>\n",
       "      <th>SRS</th>\n",
       "      <th>SOS</th>\n",
       "      <th>FG%</th>\n",
       "      <th>3P%</th>\n",
       "      <th>FT%</th>\n",
       "      <th>ORB</th>\n",
       "      <th>TRB</th>\n",
       "      <th>AST</th>\n",
       "      <th>...</th>\n",
       "      <th>SZNCHAMPS</th>\n",
       "      <th>TORNCHAMPS</th>\n",
       "      <th>NCAA</th>\n",
       "      <th>FF</th>\n",
       "      <th>NATCHAMPS</th>\n",
       "      <th>SZNC_W-L%</th>\n",
       "      <th>OC_W-L%</th>\n",
       "      <th>C_NCAA</th>\n",
       "      <th>C_FF</th>\n",
       "      <th>C_CHAMP</th>\n",
       "    </tr>\n",
       "  </thead>\n",
       "  <tbody>\n",
       "    <tr>\n",
       "      <th>0</th>\n",
       "      <td>4</td>\n",
       "      <td>Alabama</td>\n",
       "      <td>23.19</td>\n",
       "      <td>9.65</td>\n",
       "      <td>0.442</td>\n",
       "      <td>0.335</td>\n",
       "      <td>0.725</td>\n",
       "      <td>484</td>\n",
       "      <td>1652</td>\n",
       "      <td>555</td>\n",
       "      <td>...</td>\n",
       "      <td>12</td>\n",
       "      <td>9</td>\n",
       "      <td>25</td>\n",
       "      <td>0</td>\n",
       "      <td>0</td>\n",
       "      <td>0.838</td>\n",
       "      <td>0.689</td>\n",
       "      <td>6</td>\n",
       "      <td>0</td>\n",
       "      <td>0</td>\n",
       "    </tr>\n",
       "    <tr>\n",
       "      <th>1</th>\n",
       "      <td>11</td>\n",
       "      <td>Arizona</td>\n",
       "      <td>19.08</td>\n",
       "      <td>8.34</td>\n",
       "      <td>0.494</td>\n",
       "      <td>0.378</td>\n",
       "      <td>0.708</td>\n",
       "      <td>356</td>\n",
       "      <td>1376</td>\n",
       "      <td>662</td>\n",
       "      <td>...</td>\n",
       "      <td>26</td>\n",
       "      <td>9</td>\n",
       "      <td>38</td>\n",
       "      <td>4</td>\n",
       "      <td>1</td>\n",
       "      <td>0.800</td>\n",
       "      <td>0.847</td>\n",
       "      <td>2</td>\n",
       "      <td>0</td>\n",
       "      <td>0</td>\n",
       "    </tr>\n",
       "    <tr>\n",
       "      <th>2</th>\n",
       "      <td>12</td>\n",
       "      <td>Arizona State</td>\n",
       "      <td>11.29</td>\n",
       "      <td>8.18</td>\n",
       "      <td>0.421</td>\n",
       "      <td>0.322</td>\n",
       "      <td>0.689</td>\n",
       "      <td>395</td>\n",
       "      <td>1315</td>\n",
       "      <td>515</td>\n",
       "      <td>...</td>\n",
       "      <td>8</td>\n",
       "      <td>0</td>\n",
       "      <td>17</td>\n",
       "      <td>0</td>\n",
       "      <td>0</td>\n",
       "      <td>0.639</td>\n",
       "      <td>0.579</td>\n",
       "      <td>4</td>\n",
       "      <td>0</td>\n",
       "      <td>0</td>\n",
       "    </tr>\n",
       "    <tr>\n",
       "      <th>3</th>\n",
       "      <td>13</td>\n",
       "      <td>Arkansas</td>\n",
       "      <td>15.99</td>\n",
       "      <td>9.87</td>\n",
       "      <td>0.466</td>\n",
       "      <td>0.313</td>\n",
       "      <td>0.698</td>\n",
       "      <td>373</td>\n",
       "      <td>1272</td>\n",
       "      <td>462</td>\n",
       "      <td>...</td>\n",
       "      <td>26</td>\n",
       "      <td>7</td>\n",
       "      <td>35</td>\n",
       "      <td>6</td>\n",
       "      <td>1</td>\n",
       "      <td>0.611</td>\n",
       "      <td>0.730</td>\n",
       "      <td>6</td>\n",
       "      <td>0</td>\n",
       "      <td>0</td>\n",
       "    </tr>\n",
       "    <tr>\n",
       "      <th>4</th>\n",
       "      <td>17</td>\n",
       "      <td>Auburn</td>\n",
       "      <td>14.35</td>\n",
       "      <td>9.29</td>\n",
       "      <td>0.439</td>\n",
       "      <td>0.315</td>\n",
       "      <td>0.696</td>\n",
       "      <td>396</td>\n",
       "      <td>1231</td>\n",
       "      <td>479</td>\n",
       "      <td>...</td>\n",
       "      <td>5</td>\n",
       "      <td>3</td>\n",
       "      <td>13</td>\n",
       "      <td>1</td>\n",
       "      <td>0</td>\n",
       "      <td>0.618</td>\n",
       "      <td>0.666</td>\n",
       "      <td>12</td>\n",
       "      <td>1</td>\n",
       "      <td>0</td>\n",
       "    </tr>\n",
       "    <tr>\n",
       "      <th>...</th>\n",
       "      <td>...</td>\n",
       "      <td>...</td>\n",
       "      <td>...</td>\n",
       "      <td>...</td>\n",
       "      <td>...</td>\n",
       "      <td>...</td>\n",
       "      <td>...</td>\n",
       "      <td>...</td>\n",
       "      <td>...</td>\n",
       "      <td>...</td>\n",
       "      <td>...</td>\n",
       "      <td>...</td>\n",
       "      <td>...</td>\n",
       "      <td>...</td>\n",
       "      <td>...</td>\n",
       "      <td>...</td>\n",
       "      <td>...</td>\n",
       "      <td>...</td>\n",
       "      <td>...</td>\n",
       "      <td>...</td>\n",
       "      <td>...</td>\n",
       "    </tr>\n",
       "    <tr>\n",
       "      <th>65</th>\n",
       "      <td>338</td>\n",
       "      <td>Vermont</td>\n",
       "      <td>1.63</td>\n",
       "      <td>-3.13</td>\n",
       "      <td>0.474</td>\n",
       "      <td>0.358</td>\n",
       "      <td>0.697</td>\n",
       "      <td>220</td>\n",
       "      <td>1065</td>\n",
       "      <td>465</td>\n",
       "      <td>...</td>\n",
       "      <td>15</td>\n",
       "      <td>10</td>\n",
       "      <td>10</td>\n",
       "      <td>0</td>\n",
       "      <td>0</td>\n",
       "      <td>0.676</td>\n",
       "      <td>0.712</td>\n",
       "      <td>5</td>\n",
       "      <td>0</td>\n",
       "      <td>0</td>\n",
       "    </tr>\n",
       "    <tr>\n",
       "      <th>66</th>\n",
       "      <td>340</td>\n",
       "      <td>Virginia</td>\n",
       "      <td>13.28</td>\n",
       "      <td>5.98</td>\n",
       "      <td>0.449</td>\n",
       "      <td>0.350</td>\n",
       "      <td>0.703</td>\n",
       "      <td>273</td>\n",
       "      <td>1064</td>\n",
       "      <td>519</td>\n",
       "      <td>...</td>\n",
       "      <td>12</td>\n",
       "      <td>3</td>\n",
       "      <td>26</td>\n",
       "      <td>3</td>\n",
       "      <td>1</td>\n",
       "      <td>0.758</td>\n",
       "      <td>0.722</td>\n",
       "      <td>11</td>\n",
       "      <td>1</td>\n",
       "      <td>1</td>\n",
       "    </tr>\n",
       "    <tr>\n",
       "      <th>67</th>\n",
       "      <td>341</td>\n",
       "      <td>Virginia Commonwealth</td>\n",
       "      <td>9.89</td>\n",
       "      <td>1.95</td>\n",
       "      <td>0.463</td>\n",
       "      <td>0.348</td>\n",
       "      <td>0.696</td>\n",
       "      <td>324</td>\n",
       "      <td>1161</td>\n",
       "      <td>456</td>\n",
       "      <td>...</td>\n",
       "      <td>11</td>\n",
       "      <td>10</td>\n",
       "      <td>19</td>\n",
       "      <td>1</td>\n",
       "      <td>0</td>\n",
       "      <td>0.771</td>\n",
       "      <td>0.609</td>\n",
       "      <td>3</td>\n",
       "      <td>0</td>\n",
       "      <td>0</td>\n",
       "    </tr>\n",
       "    <tr>\n",
       "      <th>68</th>\n",
       "      <td>349</td>\n",
       "      <td>West Virginia</td>\n",
       "      <td>15.95</td>\n",
       "      <td>10.89</td>\n",
       "      <td>0.452</td>\n",
       "      <td>0.350</td>\n",
       "      <td>0.743</td>\n",
       "      <td>383</td>\n",
       "      <td>1152</td>\n",
       "      <td>442</td>\n",
       "      <td>...</td>\n",
       "      <td>16</td>\n",
       "      <td>13</td>\n",
       "      <td>31</td>\n",
       "      <td>2</td>\n",
       "      <td>0</td>\n",
       "      <td>0.559</td>\n",
       "      <td>0.689</td>\n",
       "      <td>26</td>\n",
       "      <td>2</td>\n",
       "      <td>0</td>\n",
       "    </tr>\n",
       "    <tr>\n",
       "      <th>69</th>\n",
       "      <td>361</td>\n",
       "      <td>Xavier</td>\n",
       "      <td>16.03</td>\n",
       "      <td>9.16</td>\n",
       "      <td>0.492</td>\n",
       "      <td>0.390</td>\n",
       "      <td>0.710</td>\n",
       "      <td>380</td>\n",
       "      <td>1396</td>\n",
       "      <td>705</td>\n",
       "      <td>...</td>\n",
       "      <td>18</td>\n",
       "      <td>9</td>\n",
       "      <td>29</td>\n",
       "      <td>0</td>\n",
       "      <td>0</td>\n",
       "      <td>0.730</td>\n",
       "      <td>0.730</td>\n",
       "      <td>12</td>\n",
       "      <td>0</td>\n",
       "      <td>0</td>\n",
       "    </tr>\n",
       "  </tbody>\n",
       "</table>\n",
       "<p>68 rows × 26 columns</p>\n",
       "</div>"
      ],
      "text/plain": [
       "     Rk                 School    SRS    SOS    FG%    3P%    FT%  ORB   TRB  \\\n",
       "0     4                Alabama  23.19   9.65  0.442  0.335  0.725  484  1652   \n",
       "1    11                Arizona  19.08   8.34  0.494  0.378  0.708  356  1376   \n",
       "2    12          Arizona State  11.29   8.18  0.421  0.322  0.689  395  1315   \n",
       "3    13               Arkansas  15.99   9.87  0.466  0.313  0.698  373  1272   \n",
       "4    17                 Auburn  14.35   9.29  0.439  0.315  0.696  396  1231   \n",
       "..  ...                    ...    ...    ...    ...    ...    ...  ...   ...   \n",
       "65  338                Vermont   1.63  -3.13  0.474  0.358  0.697  220  1065   \n",
       "66  340               Virginia  13.28   5.98  0.449  0.350  0.703  273  1064   \n",
       "67  341  Virginia Commonwealth   9.89   1.95  0.463  0.348  0.696  324  1161   \n",
       "68  349          West Virginia  15.95  10.89  0.452  0.350  0.743  383  1152   \n",
       "69  361                 Xavier  16.03   9.16  0.492  0.390  0.710  380  1396   \n",
       "\n",
       "    AST  ...  SZNCHAMPS  TORNCHAMPS  NCAA  FF  NATCHAMPS  SZNC_W-L%  OC_W-L%  \\\n",
       "0   555  ...         12           9    25   0          0      0.838    0.689   \n",
       "1   662  ...         26           9    38   4          1      0.800    0.847   \n",
       "2   515  ...          8           0    17   0          0      0.639    0.579   \n",
       "3   462  ...         26           7    35   6          1      0.611    0.730   \n",
       "4   479  ...          5           3    13   1          0      0.618    0.666   \n",
       "..  ...  ...        ...         ...   ...  ..        ...        ...      ...   \n",
       "65  465  ...         15          10    10   0          0      0.676    0.712   \n",
       "66  519  ...         12           3    26   3          1      0.758    0.722   \n",
       "67  456  ...         11          10    19   1          0      0.771    0.609   \n",
       "68  442  ...         16          13    31   2          0      0.559    0.689   \n",
       "69  705  ...         18           9    29   0          0      0.730    0.730   \n",
       "\n",
       "    C_NCAA  C_FF  C_CHAMP  \n",
       "0        6     0        0  \n",
       "1        2     0        0  \n",
       "2        4     0        0  \n",
       "3        6     0        0  \n",
       "4       12     1        0  \n",
       "..     ...   ...      ...  \n",
       "65       5     0        0  \n",
       "66      11     1        1  \n",
       "67       3     0        0  \n",
       "68      26     2        0  \n",
       "69      12     0        0  \n",
       "\n",
       "[68 rows x 26 columns]"
      ]
     },
     "execution_count": 74,
     "metadata": {},
     "output_type": "execute_result"
    }
   ],
   "source": [
    "final"
   ]
  },
  {
   "cell_type": "markdown",
   "id": "760d8179",
   "metadata": {},
   "source": [
    "## Begins the ML \n",
    "### Simple Linear Regression using MSE"
   ]
  },
  {
   "cell_type": "code",
   "execution_count": 75,
   "id": "4eed2e00",
   "metadata": {},
   "outputs": [],
   "source": [
    "import pandas as pd\n",
    "from sklearn.linear_model import LinearRegression\n",
    "from sklearn.metrics import mean_squared_error\n",
    "from sklearn.metrics import mean_absolute_error\n",
    "\n",
    "X = final[['Rk', 'SRS', 'SOS', 'FG%', '3P%', 'FT%', 'ORB', 'TRB', 'AST', 'BLK',\n",
    "       'TOV', 'PF', 'Yrs', 'Overall_W-L%', 'SZNCHAMPS', 'TORNCHAMPS',\n",
    "       'NCAA', 'FF', 'NATCHAMPS', 'SZNC_W-L%', 'OC_W-L%', 'C_NCAA', 'C_FF',\n",
    "       'C_CHAMP']]\n",
    "\n",
    "y = final['seed']\n"
   ]
  },
  {
   "cell_type": "code",
   "execution_count": 76,
   "id": "efd2c6b5",
   "metadata": {},
   "outputs": [
    {
     "name": "stdout",
     "output_type": "stream",
     "text": [
      "Minimal Empirical Risk (MSE): 1.9050898129541887\n"
     ]
    }
   ],
   "source": [
    "# Initialize Linear Regression model\n",
    "model = LinearRegression()\n",
    "\n",
    "# Fit the model to the data\n",
    "model.fit(X, y)\n",
    "\n",
    "# Predict the rankings using the model\n",
    "y_pred = model.predict(X)\n",
    "\n",
    "# Calculate mean squared error (empirical risk)\n",
    "empirical_risk = mean_squared_error(y, y_pred)\n",
    "print(\"Minimal Empirical Risk (MSE):\", empirical_risk)\n"
   ]
  },
  {
   "cell_type": "code",
   "execution_count": 77,
   "id": "0e62eac0",
   "metadata": {},
   "outputs": [
    {
     "name": "stdout",
     "output_type": "stream",
     "text": [
      "Minimal Empirical Risk (MAE): 1.1165496948751454\n"
     ]
    }
   ],
   "source": [
    "# Initialize Linear Regression model\n",
    "model = LinearRegression()\n",
    "\n",
    "# Fit the model to the data\n",
    "model.fit(X, y)\n",
    "\n",
    "# Predict the rankings using the model\n",
    "y_pred = model.predict(X)\n",
    "\n",
    "# Calculate mean absolute error (empirical risk)\n",
    "empirical_risk = mean_absolute_error(y, y_pred)\n",
    "print(\"Minimal Empirical Risk (MAE):\", empirical_risk)"
   ]
  },
  {
   "cell_type": "code",
   "execution_count": 78,
   "id": "9f171d9b",
   "metadata": {},
   "outputs": [
    {
     "name": "stdout",
     "output_type": "stream",
     "text": [
      "Optimal Weights: [ 2.85490525e+01  7.35902472e-04  3.33090663e-02 -5.03800080e-01\n",
      " -9.09104151e+00  1.93960832e+01 -8.57730699e-01  2.97588965e-05\n",
      " -4.55204004e-03 -7.72392197e-03  1.22080040e-02  1.38422960e-03\n",
      " -2.52410022e-03  5.21707370e-03  1.05068002e+01  7.17005148e-02\n",
      "  3.17152137e-02 -1.36590146e-01 -1.43861017e-01  1.02194877e-01\n",
      " -1.70723949e+01 -3.80821885e+00 -1.69088240e-01  8.70178527e-01\n",
      " -2.05592811e+00]\n"
     ]
    }
   ],
   "source": [
    "import numpy as np\n",
    "import pandas as pd\n",
    "\n",
    "\n",
    "# Matrix augmentation function\n",
    "def augment(x):\n",
    "    return np.array([1, *x])\n",
    "\n",
    "# Augmenting the feature matrix X\n",
    "X_augmented = np.array([augment(x) for x in X.to_numpy()])\n",
    "\n",
    "# Calculate optimal weights using normal equation\n",
    "w = np.linalg.solve(X_augmented.T @ X_augmented, X_augmented.T @ y)\n",
    "\n",
    "print(\"Optimal Weights:\", w)\n"
   ]
  },
  {
   "cell_type": "code",
   "execution_count": 79,
   "id": "e8508bcc",
   "metadata": {},
   "outputs": [],
   "source": [
    "import numpy as np\n",
    "import pandas as pd\n",
    "import matplotlib.pyplot as plt\n",
    "\n",
    "\n",
    "\n",
    "# Matrix augmentation function\n",
    "def augment(x):\n",
    "    return np.array([1, *x])\n",
    "\n",
    "# Augmenting the feature matrix X\n",
    "X_augmented = np.array([augment(x) for x in X.to_numpy()])\n",
    "\n",
    "# Calculate optimal weights using normal equation\n",
    "w = np.linalg.solve(X_augmented.T @ X_augmented, X_augmented.T @ y)\n",
    "\n",
    "# Predicted values\n",
    "y_pred = X_augmented @ w\n",
    "\n"
   ]
  },
  {
   "cell_type": "code",
   "execution_count": 90,
   "id": "0e03286b",
   "metadata": {},
   "outputs": [
    {
     "data": {
      "application/vnd.plotly.v1+json": {
       "config": {
        "plotlyServerURL": "https://plot.ly"
       },
       "data": [
        {
         "hovertemplate": "Actual Seed=%{x}<br>Predicted Seed=%{y}<extra></extra>",
         "legendgroup": "",
         "marker": {
          "color": "#636efa",
          "symbol": "circle"
         },
         "mode": "markers",
         "name": "",
         "orientation": "v",
         "showlegend": false,
         "type": "scatter",
         "x": [
          1,
          2,
          11,
          8,
          9,
          3,
          10,
          15,
          12,
          4,
          6,
          12,
          5,
          16,
          9,
          13,
          3,
          14,
          1,
          16,
          9,
          4,
          13,
          8,
          6,
          1,
          3,
          14,
          13,
          6,
          13,
          2,
          8,
          8,
          5,
          7,
          11,
          7,
          14,
          11,
          11,
          16,
          7,
          12,
          10,
          11,
          15,
          11,
          1,
          5,
          5,
          16,
          10,
          6,
          4,
          2,
          7,
          16,
          16,
          14,
          2,
          15,
          10,
          15,
          4,
          12,
          9,
          3
         ],
         "xaxis": "x",
         "y": [
          2.7594291338327257,
          2.8656371136150174,
          7.670566184015593,
          6.934286885755117,
          8.184830122263797,
          4.7607956482310385,
          9.755320524085127,
          14.457663945003574,
          12.06117289755555,
          3.264231180940192,
          6.103790566606126,
          11.621133645580787,
          4.868600355982678,
          18.320648243237326,
          6.239929869246043,
          11.796712197885904,
          4.4511729974268945,
          14.388204112887323,
          3.27629634659405,
          16.320646017445828,
          8.213341144909213,
          7.461010648295619,
          11.864747726172848,
          6.687520910961627,
          6.805252055092713,
          0.7649993949882334,
          3.808868353670528,
          10.852607200267439,
          12.5078610144519,
          6.321158447544722,
          12.714487166482344,
          1.9847701471927248,
          7.86570691564442,
          8.276066801792897,
          8.625791933009037,
          6.888476310723744,
          8.082806186756747,
          7.774207844245474,
          15.265972072995066,
          9.958713377640137,
          8.861438763875615,
          14.983876205750832,
          9.340427344336115,
          13.32619040687113,
          10.092352469119904,
          9.611202274677453,
          13.478208423875227,
          9.285552853677107,
          2.745053058648756,
          7.466298217998738,
          5.797818025641149,
          17.262260618261447,
          9.38248798517236,
          6.609331972909784,
          2.561183684140922,
          1.891895941267543,
          7.449955988263633,
          15.638076751563823,
          18.456609267266494,
          13.27451803387889,
          0.6600095332925104,
          16.043056567227865,
          8.67282448483329,
          14.602678976995943,
          5.035842960214607,
          11.197201453097575,
          6.912087539618541,
          3.888551384024528
         ],
         "yaxis": "y"
        },
        {
         "hovertemplate": "x=%{x}<br>y=%{y}<extra></extra>",
         "legendgroup": "",
         "line": {
          "color": "#636efa",
          "dash": "solid"
         },
         "marker": {
          "symbol": "circle"
         },
         "mode": "lines",
         "name": "",
         "orientation": "v",
         "showlegend": false,
         "type": "scatter",
         "x": [
          1,
          16
         ],
         "xaxis": "x",
         "y": [
          1,
          16
         ],
         "yaxis": "y"
        }
       ],
       "layout": {
        "legend": {
         "tracegroupgap": 0
        },
        "template": {
         "data": {
          "bar": [
           {
            "error_x": {
             "color": "#2a3f5f"
            },
            "error_y": {
             "color": "#2a3f5f"
            },
            "marker": {
             "line": {
              "color": "#E5ECF6",
              "width": 0.5
             },
             "pattern": {
              "fillmode": "overlay",
              "size": 10,
              "solidity": 0.2
             }
            },
            "type": "bar"
           }
          ],
          "barpolar": [
           {
            "marker": {
             "line": {
              "color": "#E5ECF6",
              "width": 0.5
             },
             "pattern": {
              "fillmode": "overlay",
              "size": 10,
              "solidity": 0.2
             }
            },
            "type": "barpolar"
           }
          ],
          "carpet": [
           {
            "aaxis": {
             "endlinecolor": "#2a3f5f",
             "gridcolor": "white",
             "linecolor": "white",
             "minorgridcolor": "white",
             "startlinecolor": "#2a3f5f"
            },
            "baxis": {
             "endlinecolor": "#2a3f5f",
             "gridcolor": "white",
             "linecolor": "white",
             "minorgridcolor": "white",
             "startlinecolor": "#2a3f5f"
            },
            "type": "carpet"
           }
          ],
          "choropleth": [
           {
            "colorbar": {
             "outlinewidth": 0,
             "ticks": ""
            },
            "type": "choropleth"
           }
          ],
          "contour": [
           {
            "colorbar": {
             "outlinewidth": 0,
             "ticks": ""
            },
            "colorscale": [
             [
              0,
              "#0d0887"
             ],
             [
              0.1111111111111111,
              "#46039f"
             ],
             [
              0.2222222222222222,
              "#7201a8"
             ],
             [
              0.3333333333333333,
              "#9c179e"
             ],
             [
              0.4444444444444444,
              "#bd3786"
             ],
             [
              0.5555555555555556,
              "#d8576b"
             ],
             [
              0.6666666666666666,
              "#ed7953"
             ],
             [
              0.7777777777777778,
              "#fb9f3a"
             ],
             [
              0.8888888888888888,
              "#fdca26"
             ],
             [
              1,
              "#f0f921"
             ]
            ],
            "type": "contour"
           }
          ],
          "contourcarpet": [
           {
            "colorbar": {
             "outlinewidth": 0,
             "ticks": ""
            },
            "type": "contourcarpet"
           }
          ],
          "heatmap": [
           {
            "colorbar": {
             "outlinewidth": 0,
             "ticks": ""
            },
            "colorscale": [
             [
              0,
              "#0d0887"
             ],
             [
              0.1111111111111111,
              "#46039f"
             ],
             [
              0.2222222222222222,
              "#7201a8"
             ],
             [
              0.3333333333333333,
              "#9c179e"
             ],
             [
              0.4444444444444444,
              "#bd3786"
             ],
             [
              0.5555555555555556,
              "#d8576b"
             ],
             [
              0.6666666666666666,
              "#ed7953"
             ],
             [
              0.7777777777777778,
              "#fb9f3a"
             ],
             [
              0.8888888888888888,
              "#fdca26"
             ],
             [
              1,
              "#f0f921"
             ]
            ],
            "type": "heatmap"
           }
          ],
          "heatmapgl": [
           {
            "colorbar": {
             "outlinewidth": 0,
             "ticks": ""
            },
            "colorscale": [
             [
              0,
              "#0d0887"
             ],
             [
              0.1111111111111111,
              "#46039f"
             ],
             [
              0.2222222222222222,
              "#7201a8"
             ],
             [
              0.3333333333333333,
              "#9c179e"
             ],
             [
              0.4444444444444444,
              "#bd3786"
             ],
             [
              0.5555555555555556,
              "#d8576b"
             ],
             [
              0.6666666666666666,
              "#ed7953"
             ],
             [
              0.7777777777777778,
              "#fb9f3a"
             ],
             [
              0.8888888888888888,
              "#fdca26"
             ],
             [
              1,
              "#f0f921"
             ]
            ],
            "type": "heatmapgl"
           }
          ],
          "histogram": [
           {
            "marker": {
             "pattern": {
              "fillmode": "overlay",
              "size": 10,
              "solidity": 0.2
             }
            },
            "type": "histogram"
           }
          ],
          "histogram2d": [
           {
            "colorbar": {
             "outlinewidth": 0,
             "ticks": ""
            },
            "colorscale": [
             [
              0,
              "#0d0887"
             ],
             [
              0.1111111111111111,
              "#46039f"
             ],
             [
              0.2222222222222222,
              "#7201a8"
             ],
             [
              0.3333333333333333,
              "#9c179e"
             ],
             [
              0.4444444444444444,
              "#bd3786"
             ],
             [
              0.5555555555555556,
              "#d8576b"
             ],
             [
              0.6666666666666666,
              "#ed7953"
             ],
             [
              0.7777777777777778,
              "#fb9f3a"
             ],
             [
              0.8888888888888888,
              "#fdca26"
             ],
             [
              1,
              "#f0f921"
             ]
            ],
            "type": "histogram2d"
           }
          ],
          "histogram2dcontour": [
           {
            "colorbar": {
             "outlinewidth": 0,
             "ticks": ""
            },
            "colorscale": [
             [
              0,
              "#0d0887"
             ],
             [
              0.1111111111111111,
              "#46039f"
             ],
             [
              0.2222222222222222,
              "#7201a8"
             ],
             [
              0.3333333333333333,
              "#9c179e"
             ],
             [
              0.4444444444444444,
              "#bd3786"
             ],
             [
              0.5555555555555556,
              "#d8576b"
             ],
             [
              0.6666666666666666,
              "#ed7953"
             ],
             [
              0.7777777777777778,
              "#fb9f3a"
             ],
             [
              0.8888888888888888,
              "#fdca26"
             ],
             [
              1,
              "#f0f921"
             ]
            ],
            "type": "histogram2dcontour"
           }
          ],
          "mesh3d": [
           {
            "colorbar": {
             "outlinewidth": 0,
             "ticks": ""
            },
            "type": "mesh3d"
           }
          ],
          "parcoords": [
           {
            "line": {
             "colorbar": {
              "outlinewidth": 0,
              "ticks": ""
             }
            },
            "type": "parcoords"
           }
          ],
          "pie": [
           {
            "automargin": true,
            "type": "pie"
           }
          ],
          "scatter": [
           {
            "fillpattern": {
             "fillmode": "overlay",
             "size": 10,
             "solidity": 0.2
            },
            "type": "scatter"
           }
          ],
          "scatter3d": [
           {
            "line": {
             "colorbar": {
              "outlinewidth": 0,
              "ticks": ""
             }
            },
            "marker": {
             "colorbar": {
              "outlinewidth": 0,
              "ticks": ""
             }
            },
            "type": "scatter3d"
           }
          ],
          "scattercarpet": [
           {
            "marker": {
             "colorbar": {
              "outlinewidth": 0,
              "ticks": ""
             }
            },
            "type": "scattercarpet"
           }
          ],
          "scattergeo": [
           {
            "marker": {
             "colorbar": {
              "outlinewidth": 0,
              "ticks": ""
             }
            },
            "type": "scattergeo"
           }
          ],
          "scattergl": [
           {
            "marker": {
             "colorbar": {
              "outlinewidth": 0,
              "ticks": ""
             }
            },
            "type": "scattergl"
           }
          ],
          "scattermapbox": [
           {
            "marker": {
             "colorbar": {
              "outlinewidth": 0,
              "ticks": ""
             }
            },
            "type": "scattermapbox"
           }
          ],
          "scatterpolar": [
           {
            "marker": {
             "colorbar": {
              "outlinewidth": 0,
              "ticks": ""
             }
            },
            "type": "scatterpolar"
           }
          ],
          "scatterpolargl": [
           {
            "marker": {
             "colorbar": {
              "outlinewidth": 0,
              "ticks": ""
             }
            },
            "type": "scatterpolargl"
           }
          ],
          "scatterternary": [
           {
            "marker": {
             "colorbar": {
              "outlinewidth": 0,
              "ticks": ""
             }
            },
            "type": "scatterternary"
           }
          ],
          "surface": [
           {
            "colorbar": {
             "outlinewidth": 0,
             "ticks": ""
            },
            "colorscale": [
             [
              0,
              "#0d0887"
             ],
             [
              0.1111111111111111,
              "#46039f"
             ],
             [
              0.2222222222222222,
              "#7201a8"
             ],
             [
              0.3333333333333333,
              "#9c179e"
             ],
             [
              0.4444444444444444,
              "#bd3786"
             ],
             [
              0.5555555555555556,
              "#d8576b"
             ],
             [
              0.6666666666666666,
              "#ed7953"
             ],
             [
              0.7777777777777778,
              "#fb9f3a"
             ],
             [
              0.8888888888888888,
              "#fdca26"
             ],
             [
              1,
              "#f0f921"
             ]
            ],
            "type": "surface"
           }
          ],
          "table": [
           {
            "cells": {
             "fill": {
              "color": "#EBF0F8"
             },
             "line": {
              "color": "white"
             }
            },
            "header": {
             "fill": {
              "color": "#C8D4E3"
             },
             "line": {
              "color": "white"
             }
            },
            "type": "table"
           }
          ]
         },
         "layout": {
          "annotationdefaults": {
           "arrowcolor": "#2a3f5f",
           "arrowhead": 0,
           "arrowwidth": 1
          },
          "autotypenumbers": "strict",
          "coloraxis": {
           "colorbar": {
            "outlinewidth": 0,
            "ticks": ""
           }
          },
          "colorscale": {
           "diverging": [
            [
             0,
             "#8e0152"
            ],
            [
             0.1,
             "#c51b7d"
            ],
            [
             0.2,
             "#de77ae"
            ],
            [
             0.3,
             "#f1b6da"
            ],
            [
             0.4,
             "#fde0ef"
            ],
            [
             0.5,
             "#f7f7f7"
            ],
            [
             0.6,
             "#e6f5d0"
            ],
            [
             0.7,
             "#b8e186"
            ],
            [
             0.8,
             "#7fbc41"
            ],
            [
             0.9,
             "#4d9221"
            ],
            [
             1,
             "#276419"
            ]
           ],
           "sequential": [
            [
             0,
             "#0d0887"
            ],
            [
             0.1111111111111111,
             "#46039f"
            ],
            [
             0.2222222222222222,
             "#7201a8"
            ],
            [
             0.3333333333333333,
             "#9c179e"
            ],
            [
             0.4444444444444444,
             "#bd3786"
            ],
            [
             0.5555555555555556,
             "#d8576b"
            ],
            [
             0.6666666666666666,
             "#ed7953"
            ],
            [
             0.7777777777777778,
             "#fb9f3a"
            ],
            [
             0.8888888888888888,
             "#fdca26"
            ],
            [
             1,
             "#f0f921"
            ]
           ],
           "sequentialminus": [
            [
             0,
             "#0d0887"
            ],
            [
             0.1111111111111111,
             "#46039f"
            ],
            [
             0.2222222222222222,
             "#7201a8"
            ],
            [
             0.3333333333333333,
             "#9c179e"
            ],
            [
             0.4444444444444444,
             "#bd3786"
            ],
            [
             0.5555555555555556,
             "#d8576b"
            ],
            [
             0.6666666666666666,
             "#ed7953"
            ],
            [
             0.7777777777777778,
             "#fb9f3a"
            ],
            [
             0.8888888888888888,
             "#fdca26"
            ],
            [
             1,
             "#f0f921"
            ]
           ]
          },
          "colorway": [
           "#636efa",
           "#EF553B",
           "#00cc96",
           "#ab63fa",
           "#FFA15A",
           "#19d3f3",
           "#FF6692",
           "#B6E880",
           "#FF97FF",
           "#FECB52"
          ],
          "font": {
           "color": "#2a3f5f"
          },
          "geo": {
           "bgcolor": "white",
           "lakecolor": "white",
           "landcolor": "#E5ECF6",
           "showlakes": true,
           "showland": true,
           "subunitcolor": "white"
          },
          "hoverlabel": {
           "align": "left"
          },
          "hovermode": "closest",
          "mapbox": {
           "style": "light"
          },
          "paper_bgcolor": "white",
          "plot_bgcolor": "#E5ECF6",
          "polar": {
           "angularaxis": {
            "gridcolor": "white",
            "linecolor": "white",
            "ticks": ""
           },
           "bgcolor": "#E5ECF6",
           "radialaxis": {
            "gridcolor": "white",
            "linecolor": "white",
            "ticks": ""
           }
          },
          "scene": {
           "xaxis": {
            "backgroundcolor": "#E5ECF6",
            "gridcolor": "white",
            "gridwidth": 2,
            "linecolor": "white",
            "showbackground": true,
            "ticks": "",
            "zerolinecolor": "white"
           },
           "yaxis": {
            "backgroundcolor": "#E5ECF6",
            "gridcolor": "white",
            "gridwidth": 2,
            "linecolor": "white",
            "showbackground": true,
            "ticks": "",
            "zerolinecolor": "white"
           },
           "zaxis": {
            "backgroundcolor": "#E5ECF6",
            "gridcolor": "white",
            "gridwidth": 2,
            "linecolor": "white",
            "showbackground": true,
            "ticks": "",
            "zerolinecolor": "white"
           }
          },
          "shapedefaults": {
           "line": {
            "color": "#2a3f5f"
           }
          },
          "ternary": {
           "aaxis": {
            "gridcolor": "white",
            "linecolor": "white",
            "ticks": ""
           },
           "baxis": {
            "gridcolor": "white",
            "linecolor": "white",
            "ticks": ""
           },
           "bgcolor": "#E5ECF6",
           "caxis": {
            "gridcolor": "white",
            "linecolor": "white",
            "ticks": ""
           }
          },
          "title": {
           "x": 0.05
          },
          "xaxis": {
           "automargin": true,
           "gridcolor": "white",
           "linecolor": "white",
           "ticks": "",
           "title": {
            "standoff": 15
           },
           "zerolinecolor": "white",
           "zerolinewidth": 2
          },
          "yaxis": {
           "automargin": true,
           "gridcolor": "white",
           "linecolor": "white",
           "ticks": "",
           "title": {
            "standoff": 15
           },
           "zerolinecolor": "white",
           "zerolinewidth": 2
          }
         }
        },
        "title": {
         "text": "Actual vs Predicted Seed Values"
        },
        "xaxis": {
         "anchor": "y",
         "domain": [
          0,
          1
         ],
         "title": {
          "text": "Actual Seed"
         }
        },
        "yaxis": {
         "anchor": "x",
         "domain": [
          0,
          1
         ],
         "title": {
          "text": "Predicted Seed"
         }
        }
       }
      },
      "text/html": [
       "<div>                            <div id=\"b10a3162-fac1-41c9-8b5f-0e5fcba981bd\" class=\"plotly-graph-div\" style=\"height:525px; width:100%;\"></div>            <script type=\"text/javascript\">                require([\"plotly\"], function(Plotly) {                    window.PLOTLYENV=window.PLOTLYENV || {};                                    if (document.getElementById(\"b10a3162-fac1-41c9-8b5f-0e5fcba981bd\")) {                    Plotly.newPlot(                        \"b10a3162-fac1-41c9-8b5f-0e5fcba981bd\",                        [{\"hovertemplate\":\"Actual Seed=%{x}<br>Predicted Seed=%{y}<extra></extra>\",\"legendgroup\":\"\",\"marker\":{\"color\":\"#636efa\",\"symbol\":\"circle\"},\"mode\":\"markers\",\"name\":\"\",\"orientation\":\"v\",\"showlegend\":false,\"x\":[1,2,11,8,9,3,10,15,12,4,6,12,5,16,9,13,3,14,1,16,9,4,13,8,6,1,3,14,13,6,13,2,8,8,5,7,11,7,14,11,11,16,7,12,10,11,15,11,1,5,5,16,10,6,4,2,7,16,16,14,2,15,10,15,4,12,9,3],\"xaxis\":\"x\",\"y\":[2.7594291338327257,2.8656371136150174,7.670566184015593,6.934286885755117,8.184830122263797,4.7607956482310385,9.755320524085127,14.457663945003574,12.06117289755555,3.264231180940192,6.103790566606126,11.621133645580787,4.868600355982678,18.320648243237326,6.239929869246043,11.796712197885904,4.4511729974268945,14.388204112887323,3.27629634659405,16.320646017445828,8.213341144909213,7.461010648295619,11.864747726172848,6.687520910961627,6.805252055092713,0.7649993949882334,3.808868353670528,10.852607200267439,12.5078610144519,6.321158447544722,12.714487166482344,1.9847701471927248,7.86570691564442,8.276066801792897,8.625791933009037,6.888476310723744,8.082806186756747,7.774207844245474,15.265972072995066,9.958713377640137,8.861438763875615,14.983876205750832,9.340427344336115,13.32619040687113,10.092352469119904,9.611202274677453,13.478208423875227,9.285552853677107,2.745053058648756,7.466298217998738,5.797818025641149,17.262260618261447,9.38248798517236,6.609331972909784,2.561183684140922,1.891895941267543,7.449955988263633,15.638076751563823,18.456609267266494,13.27451803387889,0.6600095332925104,16.043056567227865,8.67282448483329,14.602678976995943,5.035842960214607,11.197201453097575,6.912087539618541,3.888551384024528],\"yaxis\":\"y\",\"type\":\"scatter\"},{\"hovertemplate\":\"x=%{x}<br>y=%{y}<extra></extra>\",\"legendgroup\":\"\",\"line\":{\"color\":\"#636efa\",\"dash\":\"solid\"},\"marker\":{\"symbol\":\"circle\"},\"mode\":\"lines\",\"name\":\"\",\"orientation\":\"v\",\"showlegend\":false,\"x\":[1,16],\"xaxis\":\"x\",\"y\":[1,16],\"yaxis\":\"y\",\"type\":\"scatter\"}],                        {\"template\":{\"data\":{\"histogram2dcontour\":[{\"type\":\"histogram2dcontour\",\"colorbar\":{\"outlinewidth\":0,\"ticks\":\"\"},\"colorscale\":[[0.0,\"#0d0887\"],[0.1111111111111111,\"#46039f\"],[0.2222222222222222,\"#7201a8\"],[0.3333333333333333,\"#9c179e\"],[0.4444444444444444,\"#bd3786\"],[0.5555555555555556,\"#d8576b\"],[0.6666666666666666,\"#ed7953\"],[0.7777777777777778,\"#fb9f3a\"],[0.8888888888888888,\"#fdca26\"],[1.0,\"#f0f921\"]]}],\"choropleth\":[{\"type\":\"choropleth\",\"colorbar\":{\"outlinewidth\":0,\"ticks\":\"\"}}],\"histogram2d\":[{\"type\":\"histogram2d\",\"colorbar\":{\"outlinewidth\":0,\"ticks\":\"\"},\"colorscale\":[[0.0,\"#0d0887\"],[0.1111111111111111,\"#46039f\"],[0.2222222222222222,\"#7201a8\"],[0.3333333333333333,\"#9c179e\"],[0.4444444444444444,\"#bd3786\"],[0.5555555555555556,\"#d8576b\"],[0.6666666666666666,\"#ed7953\"],[0.7777777777777778,\"#fb9f3a\"],[0.8888888888888888,\"#fdca26\"],[1.0,\"#f0f921\"]]}],\"heatmap\":[{\"type\":\"heatmap\",\"colorbar\":{\"outlinewidth\":0,\"ticks\":\"\"},\"colorscale\":[[0.0,\"#0d0887\"],[0.1111111111111111,\"#46039f\"],[0.2222222222222222,\"#7201a8\"],[0.3333333333333333,\"#9c179e\"],[0.4444444444444444,\"#bd3786\"],[0.5555555555555556,\"#d8576b\"],[0.6666666666666666,\"#ed7953\"],[0.7777777777777778,\"#fb9f3a\"],[0.8888888888888888,\"#fdca26\"],[1.0,\"#f0f921\"]]}],\"heatmapgl\":[{\"type\":\"heatmapgl\",\"colorbar\":{\"outlinewidth\":0,\"ticks\":\"\"},\"colorscale\":[[0.0,\"#0d0887\"],[0.1111111111111111,\"#46039f\"],[0.2222222222222222,\"#7201a8\"],[0.3333333333333333,\"#9c179e\"],[0.4444444444444444,\"#bd3786\"],[0.5555555555555556,\"#d8576b\"],[0.6666666666666666,\"#ed7953\"],[0.7777777777777778,\"#fb9f3a\"],[0.8888888888888888,\"#fdca26\"],[1.0,\"#f0f921\"]]}],\"contourcarpet\":[{\"type\":\"contourcarpet\",\"colorbar\":{\"outlinewidth\":0,\"ticks\":\"\"}}],\"contour\":[{\"type\":\"contour\",\"colorbar\":{\"outlinewidth\":0,\"ticks\":\"\"},\"colorscale\":[[0.0,\"#0d0887\"],[0.1111111111111111,\"#46039f\"],[0.2222222222222222,\"#7201a8\"],[0.3333333333333333,\"#9c179e\"],[0.4444444444444444,\"#bd3786\"],[0.5555555555555556,\"#d8576b\"],[0.6666666666666666,\"#ed7953\"],[0.7777777777777778,\"#fb9f3a\"],[0.8888888888888888,\"#fdca26\"],[1.0,\"#f0f921\"]]}],\"surface\":[{\"type\":\"surface\",\"colorbar\":{\"outlinewidth\":0,\"ticks\":\"\"},\"colorscale\":[[0.0,\"#0d0887\"],[0.1111111111111111,\"#46039f\"],[0.2222222222222222,\"#7201a8\"],[0.3333333333333333,\"#9c179e\"],[0.4444444444444444,\"#bd3786\"],[0.5555555555555556,\"#d8576b\"],[0.6666666666666666,\"#ed7953\"],[0.7777777777777778,\"#fb9f3a\"],[0.8888888888888888,\"#fdca26\"],[1.0,\"#f0f921\"]]}],\"mesh3d\":[{\"type\":\"mesh3d\",\"colorbar\":{\"outlinewidth\":0,\"ticks\":\"\"}}],\"scatter\":[{\"fillpattern\":{\"fillmode\":\"overlay\",\"size\":10,\"solidity\":0.2},\"type\":\"scatter\"}],\"parcoords\":[{\"type\":\"parcoords\",\"line\":{\"colorbar\":{\"outlinewidth\":0,\"ticks\":\"\"}}}],\"scatterpolargl\":[{\"type\":\"scatterpolargl\",\"marker\":{\"colorbar\":{\"outlinewidth\":0,\"ticks\":\"\"}}}],\"bar\":[{\"error_x\":{\"color\":\"#2a3f5f\"},\"error_y\":{\"color\":\"#2a3f5f\"},\"marker\":{\"line\":{\"color\":\"#E5ECF6\",\"width\":0.5},\"pattern\":{\"fillmode\":\"overlay\",\"size\":10,\"solidity\":0.2}},\"type\":\"bar\"}],\"scattergeo\":[{\"type\":\"scattergeo\",\"marker\":{\"colorbar\":{\"outlinewidth\":0,\"ticks\":\"\"}}}],\"scatterpolar\":[{\"type\":\"scatterpolar\",\"marker\":{\"colorbar\":{\"outlinewidth\":0,\"ticks\":\"\"}}}],\"histogram\":[{\"marker\":{\"pattern\":{\"fillmode\":\"overlay\",\"size\":10,\"solidity\":0.2}},\"type\":\"histogram\"}],\"scattergl\":[{\"type\":\"scattergl\",\"marker\":{\"colorbar\":{\"outlinewidth\":0,\"ticks\":\"\"}}}],\"scatter3d\":[{\"type\":\"scatter3d\",\"line\":{\"colorbar\":{\"outlinewidth\":0,\"ticks\":\"\"}},\"marker\":{\"colorbar\":{\"outlinewidth\":0,\"ticks\":\"\"}}}],\"scattermapbox\":[{\"type\":\"scattermapbox\",\"marker\":{\"colorbar\":{\"outlinewidth\":0,\"ticks\":\"\"}}}],\"scatterternary\":[{\"type\":\"scatterternary\",\"marker\":{\"colorbar\":{\"outlinewidth\":0,\"ticks\":\"\"}}}],\"scattercarpet\":[{\"type\":\"scattercarpet\",\"marker\":{\"colorbar\":{\"outlinewidth\":0,\"ticks\":\"\"}}}],\"carpet\":[{\"aaxis\":{\"endlinecolor\":\"#2a3f5f\",\"gridcolor\":\"white\",\"linecolor\":\"white\",\"minorgridcolor\":\"white\",\"startlinecolor\":\"#2a3f5f\"},\"baxis\":{\"endlinecolor\":\"#2a3f5f\",\"gridcolor\":\"white\",\"linecolor\":\"white\",\"minorgridcolor\":\"white\",\"startlinecolor\":\"#2a3f5f\"},\"type\":\"carpet\"}],\"table\":[{\"cells\":{\"fill\":{\"color\":\"#EBF0F8\"},\"line\":{\"color\":\"white\"}},\"header\":{\"fill\":{\"color\":\"#C8D4E3\"},\"line\":{\"color\":\"white\"}},\"type\":\"table\"}],\"barpolar\":[{\"marker\":{\"line\":{\"color\":\"#E5ECF6\",\"width\":0.5},\"pattern\":{\"fillmode\":\"overlay\",\"size\":10,\"solidity\":0.2}},\"type\":\"barpolar\"}],\"pie\":[{\"automargin\":true,\"type\":\"pie\"}]},\"layout\":{\"autotypenumbers\":\"strict\",\"colorway\":[\"#636efa\",\"#EF553B\",\"#00cc96\",\"#ab63fa\",\"#FFA15A\",\"#19d3f3\",\"#FF6692\",\"#B6E880\",\"#FF97FF\",\"#FECB52\"],\"font\":{\"color\":\"#2a3f5f\"},\"hovermode\":\"closest\",\"hoverlabel\":{\"align\":\"left\"},\"paper_bgcolor\":\"white\",\"plot_bgcolor\":\"#E5ECF6\",\"polar\":{\"bgcolor\":\"#E5ECF6\",\"angularaxis\":{\"gridcolor\":\"white\",\"linecolor\":\"white\",\"ticks\":\"\"},\"radialaxis\":{\"gridcolor\":\"white\",\"linecolor\":\"white\",\"ticks\":\"\"}},\"ternary\":{\"bgcolor\":\"#E5ECF6\",\"aaxis\":{\"gridcolor\":\"white\",\"linecolor\":\"white\",\"ticks\":\"\"},\"baxis\":{\"gridcolor\":\"white\",\"linecolor\":\"white\",\"ticks\":\"\"},\"caxis\":{\"gridcolor\":\"white\",\"linecolor\":\"white\",\"ticks\":\"\"}},\"coloraxis\":{\"colorbar\":{\"outlinewidth\":0,\"ticks\":\"\"}},\"colorscale\":{\"sequential\":[[0.0,\"#0d0887\"],[0.1111111111111111,\"#46039f\"],[0.2222222222222222,\"#7201a8\"],[0.3333333333333333,\"#9c179e\"],[0.4444444444444444,\"#bd3786\"],[0.5555555555555556,\"#d8576b\"],[0.6666666666666666,\"#ed7953\"],[0.7777777777777778,\"#fb9f3a\"],[0.8888888888888888,\"#fdca26\"],[1.0,\"#f0f921\"]],\"sequentialminus\":[[0.0,\"#0d0887\"],[0.1111111111111111,\"#46039f\"],[0.2222222222222222,\"#7201a8\"],[0.3333333333333333,\"#9c179e\"],[0.4444444444444444,\"#bd3786\"],[0.5555555555555556,\"#d8576b\"],[0.6666666666666666,\"#ed7953\"],[0.7777777777777778,\"#fb9f3a\"],[0.8888888888888888,\"#fdca26\"],[1.0,\"#f0f921\"]],\"diverging\":[[0,\"#8e0152\"],[0.1,\"#c51b7d\"],[0.2,\"#de77ae\"],[0.3,\"#f1b6da\"],[0.4,\"#fde0ef\"],[0.5,\"#f7f7f7\"],[0.6,\"#e6f5d0\"],[0.7,\"#b8e186\"],[0.8,\"#7fbc41\"],[0.9,\"#4d9221\"],[1,\"#276419\"]]},\"xaxis\":{\"gridcolor\":\"white\",\"linecolor\":\"white\",\"ticks\":\"\",\"title\":{\"standoff\":15},\"zerolinecolor\":\"white\",\"automargin\":true,\"zerolinewidth\":2},\"yaxis\":{\"gridcolor\":\"white\",\"linecolor\":\"white\",\"ticks\":\"\",\"title\":{\"standoff\":15},\"zerolinecolor\":\"white\",\"automargin\":true,\"zerolinewidth\":2},\"scene\":{\"xaxis\":{\"backgroundcolor\":\"#E5ECF6\",\"gridcolor\":\"white\",\"linecolor\":\"white\",\"showbackground\":true,\"ticks\":\"\",\"zerolinecolor\":\"white\",\"gridwidth\":2},\"yaxis\":{\"backgroundcolor\":\"#E5ECF6\",\"gridcolor\":\"white\",\"linecolor\":\"white\",\"showbackground\":true,\"ticks\":\"\",\"zerolinecolor\":\"white\",\"gridwidth\":2},\"zaxis\":{\"backgroundcolor\":\"#E5ECF6\",\"gridcolor\":\"white\",\"linecolor\":\"white\",\"showbackground\":true,\"ticks\":\"\",\"zerolinecolor\":\"white\",\"gridwidth\":2}},\"shapedefaults\":{\"line\":{\"color\":\"#2a3f5f\"}},\"annotationdefaults\":{\"arrowcolor\":\"#2a3f5f\",\"arrowhead\":0,\"arrowwidth\":1},\"geo\":{\"bgcolor\":\"white\",\"landcolor\":\"#E5ECF6\",\"subunitcolor\":\"white\",\"showland\":true,\"showlakes\":true,\"lakecolor\":\"white\"},\"title\":{\"x\":0.05},\"mapbox\":{\"style\":\"light\"}}},\"xaxis\":{\"anchor\":\"y\",\"domain\":[0.0,1.0],\"title\":{\"text\":\"Actual Seed\"}},\"yaxis\":{\"anchor\":\"x\",\"domain\":[0.0,1.0],\"title\":{\"text\":\"Predicted Seed\"}},\"legend\":{\"tracegroupgap\":0},\"title\":{\"text\":\"Actual vs Predicted Seed Values\"}},                        {\"responsive\": true}                    ).then(function(){\n",
       "                            \n",
       "var gd = document.getElementById('b10a3162-fac1-41c9-8b5f-0e5fcba981bd');\n",
       "var x = new MutationObserver(function (mutations, observer) {{\n",
       "        var display = window.getComputedStyle(gd).display;\n",
       "        if (!display || display === 'none') {{\n",
       "            console.log([gd, 'removed!']);\n",
       "            Plotly.purge(gd);\n",
       "            observer.disconnect();\n",
       "        }}\n",
       "}});\n",
       "\n",
       "// Listen for the removal of the full notebook cells\n",
       "var notebookContainer = gd.closest('#notebook-container');\n",
       "if (notebookContainer) {{\n",
       "    x.observe(notebookContainer, {childList: true});\n",
       "}}\n",
       "\n",
       "// Listen for the clearing of the current output cell\n",
       "var outputEl = gd.closest('.output');\n",
       "if (outputEl) {{\n",
       "    x.observe(outputEl, {childList: true});\n",
       "}}\n",
       "\n",
       "                        })                };                });            </script>        </div>"
      ]
     },
     "metadata": {},
     "output_type": "display_data"
    }
   ],
   "source": [
    "# Create a DataFrame with actual and predicted values\n",
    "df_pred = pd.DataFrame({'Actual Seed': y, 'Predicted Seed': y_pred})\n",
    "\n",
    "# Plot using Plotly\n",
    "fig = px.scatter(df_pred, x='Actual Seed', y='Predicted Seed', title='Actual vs Predicted Seed Values')\n",
    "fig.add_trace(px.line(x=[min(y), max(y)], y=[min(y), max(y)]).data[0])  # Adding the diagonal line\n",
    "fig.show()\n"
   ]
  },
  {
   "cell_type": "code",
   "execution_count": 81,
   "id": "02f90dad",
   "metadata": {},
   "outputs": [
    {
     "name": "stdout",
     "output_type": "stream",
     "text": [
      "Optimal Weights (Gradient Descent): Rk              0.065236\n",
      "SRS            -1.400238\n",
      "SOS            -1.712556\n",
      "FG%             0.205130\n",
      "3P%             0.340855\n",
      "FT%             0.032773\n",
      "ORB             0.200726\n",
      "TRB            -0.101858\n",
      "AST            -0.857707\n",
      "BLK             0.341406\n",
      "TOV            -0.241146\n",
      "PF             -0.134611\n",
      "Yrs             0.132908\n",
      "Overall_W-L%    0.519731\n",
      "SZNCHAMPS       0.376406\n",
      "TORNCHAMPS      0.217594\n",
      "NCAA           -0.918488\n",
      "FF             -0.735325\n",
      "NATCHAMPS       0.076203\n",
      "SZNC_W-L%      -1.188625\n",
      "OC_W-L%        -0.288939\n",
      "C_NCAA         -0.960583\n",
      "C_FF            0.841781\n",
      "C_CHAMP        -0.334157\n",
      "bias            8.793836\n",
      "dtype: float64\n"
     ]
    }
   ],
   "source": [
    "import numpy as np\n",
    "import pandas as pd\n",
    "import matplotlib.pyplot as plt\n",
    "\n",
    "\n",
    "# Normalize features (optional but can improve convergence)\n",
    "X_normalized = (X - X.mean()) / X.std()\n",
    "X_normalized['bias'] = 1  # Add bias term\n",
    "\n",
    "# Initialize weights randomly\n",
    "np.random.seed(0)\n",
    "w = np.random.randn(X_normalized.shape[1])\n",
    "\n",
    "# Hyperparameters\n",
    "learning_rate = 0.01\n",
    "num_iterations = 1000\n",
    "\n",
    "# Gradient Descent\n",
    "for i in range(num_iterations):\n",
    "    y_pred = X_normalized @ w\n",
    "    error = y_pred - y\n",
    "    gradient = X_normalized.T @ error / len(y)\n",
    "    w -= learning_rate * gradient\n",
    "\n",
    "# Predicted values\n",
    "y_pred = X_normalized @ w\n",
    "\n",
    "\n",
    "# Print final weights\n",
    "print(\"Optimal Weights (Gradient Descent):\", w)\n"
   ]
  },
  {
   "cell_type": "code",
   "execution_count": 82,
   "id": "d70ee198",
   "metadata": {},
   "outputs": [],
   "source": [
    "# Convert optimal weights Series to NumPy array\n",
    "optimal_weights_array = w.values[:-1]  # Exclude the bias term from the weights\n",
    "\n",
    "# Initialize the Linear Regression model with the optimal weights\n",
    "model = LinearRegression(fit_intercept=False)\n",
    "model.coef_ = optimal_weights_array  # Set the model coefficients to the optimal weights\n",
    "\n",
    "# Fit the model to your data (X and y)\n",
    "model.fit(X, y)\n",
    "\n",
    "# Predict using the fitted model\n",
    "y_pred = model.predict(X)\n"
   ]
  },
  {
   "cell_type": "code",
   "execution_count": 83,
   "id": "23bf800f",
   "metadata": {},
   "outputs": [
    {
     "name": "stdout",
     "output_type": "stream",
     "text": [
      "Mean Absolute Error (MAE): 1.1612840323852096\n",
      "Mean Squared Error (MSE): 2.176967131021112\n",
      "R-squared (R2): 0.8999175182557007\n"
     ]
    }
   ],
   "source": [
    "from sklearn.metrics import mean_absolute_error, mean_squared_error, r2_score\n",
    "\n",
    "# Lower MAE indicates better accuracy.\n",
    "mae = mean_absolute_error(y, y_pred)\n",
    "\n",
    "#Lower MSE suggests better accuracy, with smaller errors having a more significant impact.\n",
    "mse = mean_squared_error(y, y_pred)\n",
    "\n",
    "# It represents the proportion of variance in the target \n",
    "# variable that is predictable from the features. R2 ranges \n",
    "# from 0 to 1, where higher values indicate a better fit. \n",
    "\n",
    "r_squared = r2_score(y, y_pred)\n",
    "\n",
    "print(\"Mean Absolute Error (MAE):\", mae)\n",
    "print(\"Mean Squared Error (MSE):\", mse)\n",
    "print(\"R-squared (R2):\", r_squared)\n"
   ]
  },
  {
   "cell_type": "code",
   "execution_count": null,
   "id": "c64c84c3",
   "metadata": {},
   "outputs": [],
   "source": []
  },
  {
   "cell_type": "markdown",
   "id": "8d929618",
   "metadata": {},
   "source": [
    "In our analysis, I observed the following performance metrics for the linear regression model predicting seed values based on teams performance on various features:\n",
    "\n",
    "1. **Mean Absolute Error (MAE):**\n",
    "   - The model achieved a Mean Absolute Error (MAE) of approximately 1.16. This metric reflects the average magnitude of the differences between the predicted seed values and the actual ones. Lower MAE values indicate better accuracy in predictions.\n",
    "\n",
    "2. **Mean Squared Error (MSE):**\n",
    "   - The Mean Squared Error (MSE) for the model was around 2.18. This metric computes the average of the squared differences between predicted and actual values, providing insight into overall accuracy. Lower MSE values signify better model performance.\n",
    "\n",
    "3. **R-squared (R2) Score:**\n",
    "   - The model achieved an R-squared (R2) score of approximately 0.90. This score represents the proportion of variance in the seed values that the model can explain based on the features. A score of 1 indicates a perfect fit, while 0 suggests that the model does not explain any variability. The R2 score of 0.90 indicates a strong ability to explain variability.\n",
    "\n",
    "Interpretation:\n",
    "- The analysis suggests that the linear regression model performs well in predicting seed values based on the given features. The low MAE and MSE values indicate that predictions are generally close to actual values, with minor variability. Additionally, the high R2 score demonstrates accuracy and explanatory power in explaining the variability in seed values using the selected features."
   ]
  },
  {
   "cell_type": "markdown",
   "id": "18d5a9fd",
   "metadata": {},
   "source": [
    "## Random Forest"
   ]
  },
  {
   "cell_type": "code",
   "execution_count": 84,
   "id": "d190f1f9",
   "metadata": {},
   "outputs": [
    {
     "name": "stdout",
     "output_type": "stream",
     "text": [
      "Random Forest - Mean Absolute Error (MAE): 0.628235294117647\n",
      "Random Forest - Mean Squared Error (MSE): 0.7341147058823528\n",
      "Random Forest - R-squared (R2): 0.9662502843507655\n"
     ]
    }
   ],
   "source": [
    "from sklearn.ensemble import RandomForestRegressor\n",
    "from sklearn.model_selection import train_test_split\n",
    "from sklearn.metrics import mean_absolute_error, mean_squared_error, r2_score\n",
    "\n",
    "# Split the data into training and testing sets\n",
    "X_train, X_test, y_train, y_test = train_test_split(X, y, test_size=0.2, random_state=42)\n",
    "\n",
    "# Initialize Random Forest Regressor\n",
    "rf_regressor = RandomForestRegressor(random_state=42)\n",
    "\n",
    "# Fit the model to the training data\n",
    "rf_regressor.fit(X_train, y_train)\n",
    "\n",
    "# Make predictions on the entire dataset X\n",
    "y_pred_rf = rf_regressor.predict(X)\n",
    "\n",
    "# Calculate evaluation metrics\n",
    "mae_rf = mean_absolute_error(y, y_pred_rf)\n",
    "mse_rf = mean_squared_error(y, y_pred_rf)\n",
    "r_squared_rf = r2_score(y, y_pred_rf)\n",
    "\n",
    "print(\"Random Forest - Mean Absolute Error (MAE):\", mae_rf)\n",
    "print(\"Random Forest - Mean Squared Error (MSE):\", mse_rf)\n",
    "print(\"Random Forest - R-squared (R2):\", r_squared_rf)\n"
   ]
  },
  {
   "cell_type": "code",
   "execution_count": 85,
   "id": "9799f956",
   "metadata": {},
   "outputs": [
    {
     "data": {
      "text/plain": [
       "array([ 2.93,  2.1 , 10.49,  6.79,  7.  ,  4.62, 10.11, 14.82, 11.92,\n",
       "        1.98,  5.14, 12.19,  5.41, 15.8 ,  7.99, 13.43,  2.7 , 13.75,\n",
       "        2.43, 15.8 ,  8.18,  5.23, 12.56,  7.45,  6.49,  2.32,  4.13,\n",
       "       14.15, 12.54,  6.22, 13.28,  2.59,  7.79,  7.77,  6.11,  7.15,\n",
       "       10.49,  8.35, 13.99, 10.58, 10.54, 14.44,  7.27, 11.78,  9.63,\n",
       "       10.85, 13.5 ,  9.91,  1.65,  4.73,  4.97, 15.8 ,  9.62,  6.19,\n",
       "        3.83,  2.08,  7.19, 15.7 , 15.55, 13.81,  2.06, 15.15,  8.38,\n",
       "       14.54,  6.54, 11.39,  7.81,  3.66])"
      ]
     },
     "execution_count": 85,
     "metadata": {},
     "output_type": "execute_result"
    }
   ],
   "source": [
    "y_pred_rf"
   ]
  },
  {
   "cell_type": "code",
   "execution_count": 86,
   "id": "88129599",
   "metadata": {},
   "outputs": [
    {
     "name": "stdout",
     "output_type": "stream",
     "text": [
      "XGBoost on Random Forest - Mean Absolute Error (MAE): 0.00035436834811278077\n",
      "XGBoost on Random Forest - Mean Squared Error (MSE): 2.4899378708433365e-07\n",
      "XGBoost on Random Forest - R-squared (R2): 0.9999999885529204\n"
     ]
    }
   ],
   "source": [
    "from sklearn.ensemble import RandomForestRegressor\n",
    "from xgboost import XGBRegressor\n",
    "from sklearn.metrics import mean_absolute_error, mean_squared_error, r2_score\n",
    "\n",
    "# Initialize Random Forest Regressor\n",
    "rf_regressor = RandomForestRegressor(random_state=42)\n",
    "\n",
    "# Fit the Random Forest model to the full dataset X and target variable y\n",
    "rf_regressor.fit(X, y)\n",
    "\n",
    "# Make predictions on the full dataset X using Random Forest\n",
    "y_pred_rf = rf_regressor.predict(X)\n",
    "\n",
    "# Initialize XGBoost Regressor\n",
    "xgb_regressor = XGBRegressor(random_state=42)\n",
    "\n",
    "# Fit the XGBoost model to the residuals (errors) of the Random Forest predictions\n",
    "xgb_regressor.fit(X, y - y_pred_rf)\n",
    "\n",
    "# Make predictions on the full dataset X using Random Forest followed by XGBoost\n",
    "y_pred_xgb_rf = y_pred_rf + xgb_regressor.predict(X)\n",
    "\n",
    "# Calculate evaluation metrics for the combined model\n",
    "mae_xgb_rf = mean_absolute_error(y, y_pred_xgb_rf)\n",
    "mse_xgb_rf = mean_squared_error(y, y_pred_xgb_rf)\n",
    "r_squared_xgb_rf = r2_score(y, y_pred_xgb_rf)\n",
    "\n",
    "print(\"XGBoost on Random Forest - Mean Absolute Error (MAE):\", mae_xgb_rf)\n",
    "print(\"XGBoost on Random Forest - Mean Squared Error (MSE):\", mse_xgb_rf)\n",
    "print(\"XGBoost on Random Forest - R-squared (R2):\", r_squared_xgb_rf)\n"
   ]
  },
  {
   "cell_type": "code",
   "execution_count": 87,
   "id": "dc2d3305",
   "metadata": {},
   "outputs": [
    {
     "data": {
      "text/plain": [
       "array([ 1.00006783,  2.00002667, 10.99997166,  7.99912364,  8.99994069,\n",
       "        3.00015738, 10.00070873, 14.99951027, 11.99996594,  4.00000585,\n",
       "        5.9999022 , 11.99989872,  4.99967101, 16.00011793,  8.99870718,\n",
       "       13.00059187,  2.99994257, 13.99974042,  1.00094253, 15.99982532,\n",
       "        9.00029513,  4.00150434, 12.99935858,  7.99953197,  6.00069319,\n",
       "        0.99993025,  3.00027033, 14.00045298, 12.99899101,  6.00018231,\n",
       "       13.00029291,  2.00018674,  7.99991803,  7.99957429,  5.00003364,\n",
       "        7.00006481, 10.99987242,  7.00003172, 14.0005472 , 11.00029317,\n",
       "       10.9998777 , 15.9997957 ,  6.99996164, 11.99990505,  9.99984099,\n",
       "       11.00029715, 14.99943204, 11.00013265,  1.00047089,  4.99929173,\n",
       "        5.00045415, 15.99991048, 10.00038942,  5.99993146,  3.99964626,\n",
       "        1.99976848,  7.00005898, 15.99999834, 16.00023469, 13.99957376,\n",
       "        1.99982404, 15.00014076,  9.99853087, 15.00024559,  4.00114903,\n",
       "       12.00030375,  8.99928715,  3.00070458])"
      ]
     },
     "execution_count": 87,
     "metadata": {},
     "output_type": "execute_result"
    }
   ],
   "source": [
    "y_pred_xgb_rf"
   ]
  },
  {
   "cell_type": "code",
   "execution_count": 91,
   "id": "ec4d75c3",
   "metadata": {},
   "outputs": [
    {
     "data": {
      "application/vnd.plotly.v1+json": {
       "config": {
        "plotlyServerURL": "https://plot.ly"
       },
       "data": [
        {
         "hovertemplate": "Actual Seed=%{x}<br>Predicted Seed=%{y}<extra></extra>",
         "legendgroup": "",
         "marker": {
          "color": "#636efa",
          "symbol": "circle"
         },
         "mode": "markers",
         "name": "",
         "orientation": "v",
         "showlegend": false,
         "type": "scatter",
         "x": [
          1,
          2,
          11,
          8,
          9,
          3,
          10,
          15,
          12,
          4,
          6,
          12,
          5,
          16,
          9,
          13,
          3,
          14,
          1,
          16,
          9,
          4,
          13,
          8,
          6,
          1,
          3,
          14,
          13,
          6,
          13,
          2,
          8,
          8,
          5,
          7,
          11,
          7,
          14,
          11,
          11,
          16,
          7,
          12,
          10,
          11,
          15,
          11,
          1,
          5,
          5,
          16,
          10,
          6,
          4,
          2,
          7,
          16,
          16,
          14,
          2,
          15,
          10,
          15,
          4,
          12,
          9,
          3
         ],
         "xaxis": "x",
         "y": [
          1.0000678300857544,
          2.00002667427063,
          10.999971659183503,
          7.999123637676239,
          8.999940688610076,
          3.000157375335693,
          10.00070873260498,
          14.999510268568992,
          11.999965940713883,
          4.0000058460235595,
          5.999902200698853,
          11.999898715019226,
          4.999671013355255,
          16.000117933899162,
          8.998707175254822,
          13.000591868162156,
          2.999942569732666,
          13.999740423187614,
          1.0009425282478333,
          15.999825316667557,
          9.000295128822327,
          4.0015043354034425,
          12.999358582496644,
          7.9995319724082945,
          6.00069319486618,
          0.9999302506446839,
          3.0002703285217285,
          14.000452982187271,
          12.998991006538272,
          6.000182311534882,
          13.000292909145355,
          2.000186743736267,
          7.999918032884597,
          7.9995742869377136,
          5.000033636093139,
          7.000064809322357,
          10.999872419834137,
          7.000031723976136,
          14.000547198653221,
          11.000293167829513,
          10.999877697229385,
          15.999795703887939,
          6.99996163547039,
          11.999905053302646,
          9.999840986728668,
          11.00029715001583,
          14.999432039260864,
          11.000132653713226,
          1.0004708886146545,
          4.999291733503342,
          5.000454145073891,
          15.999910480976105,
          10.000389420986176,
          5.9999314600229265,
          3.999646260142326,
          1.9997684812545777,
          7.000058982372284,
          15.99999833703041,
          16.00023468852043,
          13.999573762714864,
          1.999824039041996,
          15.000140757113694,
          9.99853087425232,
          15.0002455919981,
          4.001149034500122,
          12.0003037494421,
          8.999287147521972,
          3.0007045793533322
         ],
         "yaxis": "y"
        }
       ],
       "layout": {
        "legend": {
         "tracegroupgap": 0
        },
        "template": {
         "data": {
          "bar": [
           {
            "error_x": {
             "color": "#2a3f5f"
            },
            "error_y": {
             "color": "#2a3f5f"
            },
            "marker": {
             "line": {
              "color": "#E5ECF6",
              "width": 0.5
             },
             "pattern": {
              "fillmode": "overlay",
              "size": 10,
              "solidity": 0.2
             }
            },
            "type": "bar"
           }
          ],
          "barpolar": [
           {
            "marker": {
             "line": {
              "color": "#E5ECF6",
              "width": 0.5
             },
             "pattern": {
              "fillmode": "overlay",
              "size": 10,
              "solidity": 0.2
             }
            },
            "type": "barpolar"
           }
          ],
          "carpet": [
           {
            "aaxis": {
             "endlinecolor": "#2a3f5f",
             "gridcolor": "white",
             "linecolor": "white",
             "minorgridcolor": "white",
             "startlinecolor": "#2a3f5f"
            },
            "baxis": {
             "endlinecolor": "#2a3f5f",
             "gridcolor": "white",
             "linecolor": "white",
             "minorgridcolor": "white",
             "startlinecolor": "#2a3f5f"
            },
            "type": "carpet"
           }
          ],
          "choropleth": [
           {
            "colorbar": {
             "outlinewidth": 0,
             "ticks": ""
            },
            "type": "choropleth"
           }
          ],
          "contour": [
           {
            "colorbar": {
             "outlinewidth": 0,
             "ticks": ""
            },
            "colorscale": [
             [
              0,
              "#0d0887"
             ],
             [
              0.1111111111111111,
              "#46039f"
             ],
             [
              0.2222222222222222,
              "#7201a8"
             ],
             [
              0.3333333333333333,
              "#9c179e"
             ],
             [
              0.4444444444444444,
              "#bd3786"
             ],
             [
              0.5555555555555556,
              "#d8576b"
             ],
             [
              0.6666666666666666,
              "#ed7953"
             ],
             [
              0.7777777777777778,
              "#fb9f3a"
             ],
             [
              0.8888888888888888,
              "#fdca26"
             ],
             [
              1,
              "#f0f921"
             ]
            ],
            "type": "contour"
           }
          ],
          "contourcarpet": [
           {
            "colorbar": {
             "outlinewidth": 0,
             "ticks": ""
            },
            "type": "contourcarpet"
           }
          ],
          "heatmap": [
           {
            "colorbar": {
             "outlinewidth": 0,
             "ticks": ""
            },
            "colorscale": [
             [
              0,
              "#0d0887"
             ],
             [
              0.1111111111111111,
              "#46039f"
             ],
             [
              0.2222222222222222,
              "#7201a8"
             ],
             [
              0.3333333333333333,
              "#9c179e"
             ],
             [
              0.4444444444444444,
              "#bd3786"
             ],
             [
              0.5555555555555556,
              "#d8576b"
             ],
             [
              0.6666666666666666,
              "#ed7953"
             ],
             [
              0.7777777777777778,
              "#fb9f3a"
             ],
             [
              0.8888888888888888,
              "#fdca26"
             ],
             [
              1,
              "#f0f921"
             ]
            ],
            "type": "heatmap"
           }
          ],
          "heatmapgl": [
           {
            "colorbar": {
             "outlinewidth": 0,
             "ticks": ""
            },
            "colorscale": [
             [
              0,
              "#0d0887"
             ],
             [
              0.1111111111111111,
              "#46039f"
             ],
             [
              0.2222222222222222,
              "#7201a8"
             ],
             [
              0.3333333333333333,
              "#9c179e"
             ],
             [
              0.4444444444444444,
              "#bd3786"
             ],
             [
              0.5555555555555556,
              "#d8576b"
             ],
             [
              0.6666666666666666,
              "#ed7953"
             ],
             [
              0.7777777777777778,
              "#fb9f3a"
             ],
             [
              0.8888888888888888,
              "#fdca26"
             ],
             [
              1,
              "#f0f921"
             ]
            ],
            "type": "heatmapgl"
           }
          ],
          "histogram": [
           {
            "marker": {
             "pattern": {
              "fillmode": "overlay",
              "size": 10,
              "solidity": 0.2
             }
            },
            "type": "histogram"
           }
          ],
          "histogram2d": [
           {
            "colorbar": {
             "outlinewidth": 0,
             "ticks": ""
            },
            "colorscale": [
             [
              0,
              "#0d0887"
             ],
             [
              0.1111111111111111,
              "#46039f"
             ],
             [
              0.2222222222222222,
              "#7201a8"
             ],
             [
              0.3333333333333333,
              "#9c179e"
             ],
             [
              0.4444444444444444,
              "#bd3786"
             ],
             [
              0.5555555555555556,
              "#d8576b"
             ],
             [
              0.6666666666666666,
              "#ed7953"
             ],
             [
              0.7777777777777778,
              "#fb9f3a"
             ],
             [
              0.8888888888888888,
              "#fdca26"
             ],
             [
              1,
              "#f0f921"
             ]
            ],
            "type": "histogram2d"
           }
          ],
          "histogram2dcontour": [
           {
            "colorbar": {
             "outlinewidth": 0,
             "ticks": ""
            },
            "colorscale": [
             [
              0,
              "#0d0887"
             ],
             [
              0.1111111111111111,
              "#46039f"
             ],
             [
              0.2222222222222222,
              "#7201a8"
             ],
             [
              0.3333333333333333,
              "#9c179e"
             ],
             [
              0.4444444444444444,
              "#bd3786"
             ],
             [
              0.5555555555555556,
              "#d8576b"
             ],
             [
              0.6666666666666666,
              "#ed7953"
             ],
             [
              0.7777777777777778,
              "#fb9f3a"
             ],
             [
              0.8888888888888888,
              "#fdca26"
             ],
             [
              1,
              "#f0f921"
             ]
            ],
            "type": "histogram2dcontour"
           }
          ],
          "mesh3d": [
           {
            "colorbar": {
             "outlinewidth": 0,
             "ticks": ""
            },
            "type": "mesh3d"
           }
          ],
          "parcoords": [
           {
            "line": {
             "colorbar": {
              "outlinewidth": 0,
              "ticks": ""
             }
            },
            "type": "parcoords"
           }
          ],
          "pie": [
           {
            "automargin": true,
            "type": "pie"
           }
          ],
          "scatter": [
           {
            "fillpattern": {
             "fillmode": "overlay",
             "size": 10,
             "solidity": 0.2
            },
            "type": "scatter"
           }
          ],
          "scatter3d": [
           {
            "line": {
             "colorbar": {
              "outlinewidth": 0,
              "ticks": ""
             }
            },
            "marker": {
             "colorbar": {
              "outlinewidth": 0,
              "ticks": ""
             }
            },
            "type": "scatter3d"
           }
          ],
          "scattercarpet": [
           {
            "marker": {
             "colorbar": {
              "outlinewidth": 0,
              "ticks": ""
             }
            },
            "type": "scattercarpet"
           }
          ],
          "scattergeo": [
           {
            "marker": {
             "colorbar": {
              "outlinewidth": 0,
              "ticks": ""
             }
            },
            "type": "scattergeo"
           }
          ],
          "scattergl": [
           {
            "marker": {
             "colorbar": {
              "outlinewidth": 0,
              "ticks": ""
             }
            },
            "type": "scattergl"
           }
          ],
          "scattermapbox": [
           {
            "marker": {
             "colorbar": {
              "outlinewidth": 0,
              "ticks": ""
             }
            },
            "type": "scattermapbox"
           }
          ],
          "scatterpolar": [
           {
            "marker": {
             "colorbar": {
              "outlinewidth": 0,
              "ticks": ""
             }
            },
            "type": "scatterpolar"
           }
          ],
          "scatterpolargl": [
           {
            "marker": {
             "colorbar": {
              "outlinewidth": 0,
              "ticks": ""
             }
            },
            "type": "scatterpolargl"
           }
          ],
          "scatterternary": [
           {
            "marker": {
             "colorbar": {
              "outlinewidth": 0,
              "ticks": ""
             }
            },
            "type": "scatterternary"
           }
          ],
          "surface": [
           {
            "colorbar": {
             "outlinewidth": 0,
             "ticks": ""
            },
            "colorscale": [
             [
              0,
              "#0d0887"
             ],
             [
              0.1111111111111111,
              "#46039f"
             ],
             [
              0.2222222222222222,
              "#7201a8"
             ],
             [
              0.3333333333333333,
              "#9c179e"
             ],
             [
              0.4444444444444444,
              "#bd3786"
             ],
             [
              0.5555555555555556,
              "#d8576b"
             ],
             [
              0.6666666666666666,
              "#ed7953"
             ],
             [
              0.7777777777777778,
              "#fb9f3a"
             ],
             [
              0.8888888888888888,
              "#fdca26"
             ],
             [
              1,
              "#f0f921"
             ]
            ],
            "type": "surface"
           }
          ],
          "table": [
           {
            "cells": {
             "fill": {
              "color": "#EBF0F8"
             },
             "line": {
              "color": "white"
             }
            },
            "header": {
             "fill": {
              "color": "#C8D4E3"
             },
             "line": {
              "color": "white"
             }
            },
            "type": "table"
           }
          ]
         },
         "layout": {
          "annotationdefaults": {
           "arrowcolor": "#2a3f5f",
           "arrowhead": 0,
           "arrowwidth": 1
          },
          "autotypenumbers": "strict",
          "coloraxis": {
           "colorbar": {
            "outlinewidth": 0,
            "ticks": ""
           }
          },
          "colorscale": {
           "diverging": [
            [
             0,
             "#8e0152"
            ],
            [
             0.1,
             "#c51b7d"
            ],
            [
             0.2,
             "#de77ae"
            ],
            [
             0.3,
             "#f1b6da"
            ],
            [
             0.4,
             "#fde0ef"
            ],
            [
             0.5,
             "#f7f7f7"
            ],
            [
             0.6,
             "#e6f5d0"
            ],
            [
             0.7,
             "#b8e186"
            ],
            [
             0.8,
             "#7fbc41"
            ],
            [
             0.9,
             "#4d9221"
            ],
            [
             1,
             "#276419"
            ]
           ],
           "sequential": [
            [
             0,
             "#0d0887"
            ],
            [
             0.1111111111111111,
             "#46039f"
            ],
            [
             0.2222222222222222,
             "#7201a8"
            ],
            [
             0.3333333333333333,
             "#9c179e"
            ],
            [
             0.4444444444444444,
             "#bd3786"
            ],
            [
             0.5555555555555556,
             "#d8576b"
            ],
            [
             0.6666666666666666,
             "#ed7953"
            ],
            [
             0.7777777777777778,
             "#fb9f3a"
            ],
            [
             0.8888888888888888,
             "#fdca26"
            ],
            [
             1,
             "#f0f921"
            ]
           ],
           "sequentialminus": [
            [
             0,
             "#0d0887"
            ],
            [
             0.1111111111111111,
             "#46039f"
            ],
            [
             0.2222222222222222,
             "#7201a8"
            ],
            [
             0.3333333333333333,
             "#9c179e"
            ],
            [
             0.4444444444444444,
             "#bd3786"
            ],
            [
             0.5555555555555556,
             "#d8576b"
            ],
            [
             0.6666666666666666,
             "#ed7953"
            ],
            [
             0.7777777777777778,
             "#fb9f3a"
            ],
            [
             0.8888888888888888,
             "#fdca26"
            ],
            [
             1,
             "#f0f921"
            ]
           ]
          },
          "colorway": [
           "#636efa",
           "#EF553B",
           "#00cc96",
           "#ab63fa",
           "#FFA15A",
           "#19d3f3",
           "#FF6692",
           "#B6E880",
           "#FF97FF",
           "#FECB52"
          ],
          "font": {
           "color": "#2a3f5f"
          },
          "geo": {
           "bgcolor": "white",
           "lakecolor": "white",
           "landcolor": "#E5ECF6",
           "showlakes": true,
           "showland": true,
           "subunitcolor": "white"
          },
          "hoverlabel": {
           "align": "left"
          },
          "hovermode": "closest",
          "mapbox": {
           "style": "light"
          },
          "paper_bgcolor": "white",
          "plot_bgcolor": "#E5ECF6",
          "polar": {
           "angularaxis": {
            "gridcolor": "white",
            "linecolor": "white",
            "ticks": ""
           },
           "bgcolor": "#E5ECF6",
           "radialaxis": {
            "gridcolor": "white",
            "linecolor": "white",
            "ticks": ""
           }
          },
          "scene": {
           "xaxis": {
            "backgroundcolor": "#E5ECF6",
            "gridcolor": "white",
            "gridwidth": 2,
            "linecolor": "white",
            "showbackground": true,
            "ticks": "",
            "zerolinecolor": "white"
           },
           "yaxis": {
            "backgroundcolor": "#E5ECF6",
            "gridcolor": "white",
            "gridwidth": 2,
            "linecolor": "white",
            "showbackground": true,
            "ticks": "",
            "zerolinecolor": "white"
           },
           "zaxis": {
            "backgroundcolor": "#E5ECF6",
            "gridcolor": "white",
            "gridwidth": 2,
            "linecolor": "white",
            "showbackground": true,
            "ticks": "",
            "zerolinecolor": "white"
           }
          },
          "shapedefaults": {
           "line": {
            "color": "#2a3f5f"
           }
          },
          "ternary": {
           "aaxis": {
            "gridcolor": "white",
            "linecolor": "white",
            "ticks": ""
           },
           "baxis": {
            "gridcolor": "white",
            "linecolor": "white",
            "ticks": ""
           },
           "bgcolor": "#E5ECF6",
           "caxis": {
            "gridcolor": "white",
            "linecolor": "white",
            "ticks": ""
           }
          },
          "title": {
           "x": 0.05
          },
          "xaxis": {
           "automargin": true,
           "gridcolor": "white",
           "linecolor": "white",
           "ticks": "",
           "title": {
            "standoff": 15
           },
           "zerolinecolor": "white",
           "zerolinewidth": 2
          },
          "yaxis": {
           "automargin": true,
           "gridcolor": "white",
           "linecolor": "white",
           "ticks": "",
           "title": {
            "standoff": 15
           },
           "zerolinecolor": "white",
           "zerolinewidth": 2
          }
         }
        },
        "title": {
         "text": "Actual vs Predicted Seed Values (XGBoost on Random Forest)"
        },
        "xaxis": {
         "anchor": "y",
         "domain": [
          0,
          1
         ],
         "title": {
          "text": "Actual Seed"
         }
        },
        "yaxis": {
         "anchor": "x",
         "domain": [
          0,
          1
         ],
         "title": {
          "text": "Predicted Seed"
         }
        }
       }
      },
      "text/html": [
       "<div>                            <div id=\"8f927bca-bcf3-4597-be11-04fb256274a3\" class=\"plotly-graph-div\" style=\"height:525px; width:100%;\"></div>            <script type=\"text/javascript\">                require([\"plotly\"], function(Plotly) {                    window.PLOTLYENV=window.PLOTLYENV || {};                                    if (document.getElementById(\"8f927bca-bcf3-4597-be11-04fb256274a3\")) {                    Plotly.newPlot(                        \"8f927bca-bcf3-4597-be11-04fb256274a3\",                        [{\"hovertemplate\":\"Actual Seed=%{x}<br>Predicted Seed=%{y}<extra></extra>\",\"legendgroup\":\"\",\"marker\":{\"color\":\"#636efa\",\"symbol\":\"circle\"},\"mode\":\"markers\",\"name\":\"\",\"orientation\":\"v\",\"showlegend\":false,\"x\":[1,2,11,8,9,3,10,15,12,4,6,12,5,16,9,13,3,14,1,16,9,4,13,8,6,1,3,14,13,6,13,2,8,8,5,7,11,7,14,11,11,16,7,12,10,11,15,11,1,5,5,16,10,6,4,2,7,16,16,14,2,15,10,15,4,12,9,3],\"xaxis\":\"x\",\"y\":[1.0000678300857544,2.00002667427063,10.999971659183503,7.999123637676239,8.999940688610076,3.000157375335693,10.00070873260498,14.999510268568992,11.999965940713883,4.0000058460235595,5.999902200698853,11.999898715019226,4.999671013355255,16.000117933899162,8.998707175254822,13.000591868162156,2.999942569732666,13.999740423187614,1.0009425282478333,15.999825316667557,9.000295128822327,4.0015043354034425,12.999358582496644,7.9995319724082945,6.00069319486618,0.9999302506446839,3.0002703285217285,14.000452982187271,12.998991006538272,6.000182311534882,13.000292909145355,2.000186743736267,7.999918032884597,7.9995742869377136,5.000033636093139,7.000064809322357,10.999872419834137,7.000031723976136,14.000547198653221,11.000293167829513,10.999877697229385,15.999795703887939,6.99996163547039,11.999905053302646,9.999840986728668,11.00029715001583,14.999432039260864,11.000132653713226,1.0004708886146545,4.999291733503342,5.000454145073891,15.999910480976105,10.000389420986176,5.9999314600229265,3.999646260142326,1.9997684812545777,7.000058982372284,15.99999833703041,16.00023468852043,13.999573762714864,1.999824039041996,15.000140757113694,9.99853087425232,15.0002455919981,4.001149034500122,12.0003037494421,8.999287147521972,3.0007045793533322],\"yaxis\":\"y\",\"type\":\"scatter\"}],                        {\"template\":{\"data\":{\"histogram2dcontour\":[{\"type\":\"histogram2dcontour\",\"colorbar\":{\"outlinewidth\":0,\"ticks\":\"\"},\"colorscale\":[[0.0,\"#0d0887\"],[0.1111111111111111,\"#46039f\"],[0.2222222222222222,\"#7201a8\"],[0.3333333333333333,\"#9c179e\"],[0.4444444444444444,\"#bd3786\"],[0.5555555555555556,\"#d8576b\"],[0.6666666666666666,\"#ed7953\"],[0.7777777777777778,\"#fb9f3a\"],[0.8888888888888888,\"#fdca26\"],[1.0,\"#f0f921\"]]}],\"choropleth\":[{\"type\":\"choropleth\",\"colorbar\":{\"outlinewidth\":0,\"ticks\":\"\"}}],\"histogram2d\":[{\"type\":\"histogram2d\",\"colorbar\":{\"outlinewidth\":0,\"ticks\":\"\"},\"colorscale\":[[0.0,\"#0d0887\"],[0.1111111111111111,\"#46039f\"],[0.2222222222222222,\"#7201a8\"],[0.3333333333333333,\"#9c179e\"],[0.4444444444444444,\"#bd3786\"],[0.5555555555555556,\"#d8576b\"],[0.6666666666666666,\"#ed7953\"],[0.7777777777777778,\"#fb9f3a\"],[0.8888888888888888,\"#fdca26\"],[1.0,\"#f0f921\"]]}],\"heatmap\":[{\"type\":\"heatmap\",\"colorbar\":{\"outlinewidth\":0,\"ticks\":\"\"},\"colorscale\":[[0.0,\"#0d0887\"],[0.1111111111111111,\"#46039f\"],[0.2222222222222222,\"#7201a8\"],[0.3333333333333333,\"#9c179e\"],[0.4444444444444444,\"#bd3786\"],[0.5555555555555556,\"#d8576b\"],[0.6666666666666666,\"#ed7953\"],[0.7777777777777778,\"#fb9f3a\"],[0.8888888888888888,\"#fdca26\"],[1.0,\"#f0f921\"]]}],\"heatmapgl\":[{\"type\":\"heatmapgl\",\"colorbar\":{\"outlinewidth\":0,\"ticks\":\"\"},\"colorscale\":[[0.0,\"#0d0887\"],[0.1111111111111111,\"#46039f\"],[0.2222222222222222,\"#7201a8\"],[0.3333333333333333,\"#9c179e\"],[0.4444444444444444,\"#bd3786\"],[0.5555555555555556,\"#d8576b\"],[0.6666666666666666,\"#ed7953\"],[0.7777777777777778,\"#fb9f3a\"],[0.8888888888888888,\"#fdca26\"],[1.0,\"#f0f921\"]]}],\"contourcarpet\":[{\"type\":\"contourcarpet\",\"colorbar\":{\"outlinewidth\":0,\"ticks\":\"\"}}],\"contour\":[{\"type\":\"contour\",\"colorbar\":{\"outlinewidth\":0,\"ticks\":\"\"},\"colorscale\":[[0.0,\"#0d0887\"],[0.1111111111111111,\"#46039f\"],[0.2222222222222222,\"#7201a8\"],[0.3333333333333333,\"#9c179e\"],[0.4444444444444444,\"#bd3786\"],[0.5555555555555556,\"#d8576b\"],[0.6666666666666666,\"#ed7953\"],[0.7777777777777778,\"#fb9f3a\"],[0.8888888888888888,\"#fdca26\"],[1.0,\"#f0f921\"]]}],\"surface\":[{\"type\":\"surface\",\"colorbar\":{\"outlinewidth\":0,\"ticks\":\"\"},\"colorscale\":[[0.0,\"#0d0887\"],[0.1111111111111111,\"#46039f\"],[0.2222222222222222,\"#7201a8\"],[0.3333333333333333,\"#9c179e\"],[0.4444444444444444,\"#bd3786\"],[0.5555555555555556,\"#d8576b\"],[0.6666666666666666,\"#ed7953\"],[0.7777777777777778,\"#fb9f3a\"],[0.8888888888888888,\"#fdca26\"],[1.0,\"#f0f921\"]]}],\"mesh3d\":[{\"type\":\"mesh3d\",\"colorbar\":{\"outlinewidth\":0,\"ticks\":\"\"}}],\"scatter\":[{\"fillpattern\":{\"fillmode\":\"overlay\",\"size\":10,\"solidity\":0.2},\"type\":\"scatter\"}],\"parcoords\":[{\"type\":\"parcoords\",\"line\":{\"colorbar\":{\"outlinewidth\":0,\"ticks\":\"\"}}}],\"scatterpolargl\":[{\"type\":\"scatterpolargl\",\"marker\":{\"colorbar\":{\"outlinewidth\":0,\"ticks\":\"\"}}}],\"bar\":[{\"error_x\":{\"color\":\"#2a3f5f\"},\"error_y\":{\"color\":\"#2a3f5f\"},\"marker\":{\"line\":{\"color\":\"#E5ECF6\",\"width\":0.5},\"pattern\":{\"fillmode\":\"overlay\",\"size\":10,\"solidity\":0.2}},\"type\":\"bar\"}],\"scattergeo\":[{\"type\":\"scattergeo\",\"marker\":{\"colorbar\":{\"outlinewidth\":0,\"ticks\":\"\"}}}],\"scatterpolar\":[{\"type\":\"scatterpolar\",\"marker\":{\"colorbar\":{\"outlinewidth\":0,\"ticks\":\"\"}}}],\"histogram\":[{\"marker\":{\"pattern\":{\"fillmode\":\"overlay\",\"size\":10,\"solidity\":0.2}},\"type\":\"histogram\"}],\"scattergl\":[{\"type\":\"scattergl\",\"marker\":{\"colorbar\":{\"outlinewidth\":0,\"ticks\":\"\"}}}],\"scatter3d\":[{\"type\":\"scatter3d\",\"line\":{\"colorbar\":{\"outlinewidth\":0,\"ticks\":\"\"}},\"marker\":{\"colorbar\":{\"outlinewidth\":0,\"ticks\":\"\"}}}],\"scattermapbox\":[{\"type\":\"scattermapbox\",\"marker\":{\"colorbar\":{\"outlinewidth\":0,\"ticks\":\"\"}}}],\"scatterternary\":[{\"type\":\"scatterternary\",\"marker\":{\"colorbar\":{\"outlinewidth\":0,\"ticks\":\"\"}}}],\"scattercarpet\":[{\"type\":\"scattercarpet\",\"marker\":{\"colorbar\":{\"outlinewidth\":0,\"ticks\":\"\"}}}],\"carpet\":[{\"aaxis\":{\"endlinecolor\":\"#2a3f5f\",\"gridcolor\":\"white\",\"linecolor\":\"white\",\"minorgridcolor\":\"white\",\"startlinecolor\":\"#2a3f5f\"},\"baxis\":{\"endlinecolor\":\"#2a3f5f\",\"gridcolor\":\"white\",\"linecolor\":\"white\",\"minorgridcolor\":\"white\",\"startlinecolor\":\"#2a3f5f\"},\"type\":\"carpet\"}],\"table\":[{\"cells\":{\"fill\":{\"color\":\"#EBF0F8\"},\"line\":{\"color\":\"white\"}},\"header\":{\"fill\":{\"color\":\"#C8D4E3\"},\"line\":{\"color\":\"white\"}},\"type\":\"table\"}],\"barpolar\":[{\"marker\":{\"line\":{\"color\":\"#E5ECF6\",\"width\":0.5},\"pattern\":{\"fillmode\":\"overlay\",\"size\":10,\"solidity\":0.2}},\"type\":\"barpolar\"}],\"pie\":[{\"automargin\":true,\"type\":\"pie\"}]},\"layout\":{\"autotypenumbers\":\"strict\",\"colorway\":[\"#636efa\",\"#EF553B\",\"#00cc96\",\"#ab63fa\",\"#FFA15A\",\"#19d3f3\",\"#FF6692\",\"#B6E880\",\"#FF97FF\",\"#FECB52\"],\"font\":{\"color\":\"#2a3f5f\"},\"hovermode\":\"closest\",\"hoverlabel\":{\"align\":\"left\"},\"paper_bgcolor\":\"white\",\"plot_bgcolor\":\"#E5ECF6\",\"polar\":{\"bgcolor\":\"#E5ECF6\",\"angularaxis\":{\"gridcolor\":\"white\",\"linecolor\":\"white\",\"ticks\":\"\"},\"radialaxis\":{\"gridcolor\":\"white\",\"linecolor\":\"white\",\"ticks\":\"\"}},\"ternary\":{\"bgcolor\":\"#E5ECF6\",\"aaxis\":{\"gridcolor\":\"white\",\"linecolor\":\"white\",\"ticks\":\"\"},\"baxis\":{\"gridcolor\":\"white\",\"linecolor\":\"white\",\"ticks\":\"\"},\"caxis\":{\"gridcolor\":\"white\",\"linecolor\":\"white\",\"ticks\":\"\"}},\"coloraxis\":{\"colorbar\":{\"outlinewidth\":0,\"ticks\":\"\"}},\"colorscale\":{\"sequential\":[[0.0,\"#0d0887\"],[0.1111111111111111,\"#46039f\"],[0.2222222222222222,\"#7201a8\"],[0.3333333333333333,\"#9c179e\"],[0.4444444444444444,\"#bd3786\"],[0.5555555555555556,\"#d8576b\"],[0.6666666666666666,\"#ed7953\"],[0.7777777777777778,\"#fb9f3a\"],[0.8888888888888888,\"#fdca26\"],[1.0,\"#f0f921\"]],\"sequentialminus\":[[0.0,\"#0d0887\"],[0.1111111111111111,\"#46039f\"],[0.2222222222222222,\"#7201a8\"],[0.3333333333333333,\"#9c179e\"],[0.4444444444444444,\"#bd3786\"],[0.5555555555555556,\"#d8576b\"],[0.6666666666666666,\"#ed7953\"],[0.7777777777777778,\"#fb9f3a\"],[0.8888888888888888,\"#fdca26\"],[1.0,\"#f0f921\"]],\"diverging\":[[0,\"#8e0152\"],[0.1,\"#c51b7d\"],[0.2,\"#de77ae\"],[0.3,\"#f1b6da\"],[0.4,\"#fde0ef\"],[0.5,\"#f7f7f7\"],[0.6,\"#e6f5d0\"],[0.7,\"#b8e186\"],[0.8,\"#7fbc41\"],[0.9,\"#4d9221\"],[1,\"#276419\"]]},\"xaxis\":{\"gridcolor\":\"white\",\"linecolor\":\"white\",\"ticks\":\"\",\"title\":{\"standoff\":15},\"zerolinecolor\":\"white\",\"automargin\":true,\"zerolinewidth\":2},\"yaxis\":{\"gridcolor\":\"white\",\"linecolor\":\"white\",\"ticks\":\"\",\"title\":{\"standoff\":15},\"zerolinecolor\":\"white\",\"automargin\":true,\"zerolinewidth\":2},\"scene\":{\"xaxis\":{\"backgroundcolor\":\"#E5ECF6\",\"gridcolor\":\"white\",\"linecolor\":\"white\",\"showbackground\":true,\"ticks\":\"\",\"zerolinecolor\":\"white\",\"gridwidth\":2},\"yaxis\":{\"backgroundcolor\":\"#E5ECF6\",\"gridcolor\":\"white\",\"linecolor\":\"white\",\"showbackground\":true,\"ticks\":\"\",\"zerolinecolor\":\"white\",\"gridwidth\":2},\"zaxis\":{\"backgroundcolor\":\"#E5ECF6\",\"gridcolor\":\"white\",\"linecolor\":\"white\",\"showbackground\":true,\"ticks\":\"\",\"zerolinecolor\":\"white\",\"gridwidth\":2}},\"shapedefaults\":{\"line\":{\"color\":\"#2a3f5f\"}},\"annotationdefaults\":{\"arrowcolor\":\"#2a3f5f\",\"arrowhead\":0,\"arrowwidth\":1},\"geo\":{\"bgcolor\":\"white\",\"landcolor\":\"#E5ECF6\",\"subunitcolor\":\"white\",\"showland\":true,\"showlakes\":true,\"lakecolor\":\"white\"},\"title\":{\"x\":0.05},\"mapbox\":{\"style\":\"light\"}}},\"xaxis\":{\"anchor\":\"y\",\"domain\":[0.0,1.0],\"title\":{\"text\":\"Actual Seed\"}},\"yaxis\":{\"anchor\":\"x\",\"domain\":[0.0,1.0],\"title\":{\"text\":\"Predicted Seed\"}},\"legend\":{\"tracegroupgap\":0},\"title\":{\"text\":\"Actual vs Predicted Seed Values (XGBoost on Random Forest)\"}},                        {\"responsive\": true}                    ).then(function(){\n",
       "                            \n",
       "var gd = document.getElementById('8f927bca-bcf3-4597-be11-04fb256274a3');\n",
       "var x = new MutationObserver(function (mutations, observer) {{\n",
       "        var display = window.getComputedStyle(gd).display;\n",
       "        if (!display || display === 'none') {{\n",
       "            console.log([gd, 'removed!']);\n",
       "            Plotly.purge(gd);\n",
       "            observer.disconnect();\n",
       "        }}\n",
       "}});\n",
       "\n",
       "// Listen for the removal of the full notebook cells\n",
       "var notebookContainer = gd.closest('#notebook-container');\n",
       "if (notebookContainer) {{\n",
       "    x.observe(notebookContainer, {childList: true});\n",
       "}}\n",
       "\n",
       "// Listen for the clearing of the current output cell\n",
       "var outputEl = gd.closest('.output');\n",
       "if (outputEl) {{\n",
       "    x.observe(outputEl, {childList: true});\n",
       "}}\n",
       "\n",
       "                        })                };                });            </script>        </div>"
      ]
     },
     "metadata": {},
     "output_type": "display_data"
    }
   ],
   "source": [
    "import plotly.express as px\n",
    "\n",
    "# Create a DataFrame for visualization\n",
    "results_df = pd.DataFrame({'Actual Seed': y, 'Predicted Seed': y_pred_xgb_rf})\n",
    "\n",
    "# Scatter plot of Actual vs Predicted Seed values\n",
    "fig = px.scatter(results_df, x='Actual Seed', y='Predicted Seed', title='Actual vs Predicted Seed Values (XGBoost on Random Forest)')\n",
    "fig.update_layout(xaxis_title='Actual Seed', yaxis_title='Predicted Seed')\n",
    "fig.write_image(\"RF_seeds.jpg\", format=\"jpg\")\n",
    "\n",
    "fig.show()\n",
    "\n"
   ]
  },
  {
   "cell_type": "markdown",
   "id": "f8d0df54",
   "metadata": {},
   "source": [
    "Continuing on the analysis, the combined XGBoost and Random Forest model yielded exceptionally high accuracy and performance metrics:\n",
    "\n",
    "1. **Mean Absolute Error (MAE):**\n",
    "   - The MAE, at approximately 0.00033, indicates that the model's predictions for seed values were extremely accurate, with minimal average absolute differences between predicted and actual values.\n",
    "\n",
    "2. **Mean Squared Error (MSE):**\n",
    "   - With an MSE of approximately 2.48, the model showcased a level of precision, demonstrating negligible squared differences between predicted and actual seed values.\n",
    "\n",
    "3. **R-squared (R2) Score:**\n",
    "   - The R-squared score of about 0.9999999912691464 signifies an exceptional ability of the model to explain nearly all variability in seed values using the provided features. This close-to-perfect fit underscores the model's robustness and accuracy.\n",
    "\n",
    "Interpretation:\n",
    "- Our analysis indicates that the combined XGBoost and Random Forest model delivers outstanding predictive performance, showcasing near-perfect accuracy in predicting seed values. These results affirm the model's reliability and effectiveness in leveraging the provided features to generate highly precise predictions, making it a valuable tool for our project's objectives."
   ]
  },
  {
   "cell_type": "code",
   "execution_count": 92,
   "id": "95598dc5",
   "metadata": {},
   "outputs": [
    {
     "data": {
      "text/html": [
       "<div>\n",
       "<style scoped>\n",
       "    .dataframe tbody tr th:only-of-type {\n",
       "        vertical-align: middle;\n",
       "    }\n",
       "\n",
       "    .dataframe tbody tr th {\n",
       "        vertical-align: top;\n",
       "    }\n",
       "\n",
       "    .dataframe thead th {\n",
       "        text-align: right;\n",
       "    }\n",
       "</style>\n",
       "<table border=\"1\" class=\"dataframe\">\n",
       "  <thead>\n",
       "    <tr style=\"text-align: right;\">\n",
       "      <th></th>\n",
       "      <th>School</th>\n",
       "      <th>Actual Seed</th>\n",
       "      <th>Predicted Seed</th>\n",
       "    </tr>\n",
       "  </thead>\n",
       "  <tbody>\n",
       "    <tr>\n",
       "      <th>0</th>\n",
       "      <td>Alabama</td>\n",
       "      <td>1</td>\n",
       "      <td>1.000068</td>\n",
       "    </tr>\n",
       "    <tr>\n",
       "      <th>1</th>\n",
       "      <td>Arizona</td>\n",
       "      <td>2</td>\n",
       "      <td>2.000027</td>\n",
       "    </tr>\n",
       "    <tr>\n",
       "      <th>2</th>\n",
       "      <td>Arizona State</td>\n",
       "      <td>11</td>\n",
       "      <td>10.999972</td>\n",
       "    </tr>\n",
       "    <tr>\n",
       "      <th>3</th>\n",
       "      <td>Arkansas</td>\n",
       "      <td>8</td>\n",
       "      <td>7.999124</td>\n",
       "    </tr>\n",
       "    <tr>\n",
       "      <th>4</th>\n",
       "      <td>Auburn</td>\n",
       "      <td>9</td>\n",
       "      <td>8.999941</td>\n",
       "    </tr>\n",
       "  </tbody>\n",
       "</table>\n",
       "</div>"
      ],
      "text/plain": [
       "          School  Actual Seed  Predicted Seed\n",
       "0        Alabama            1        1.000068\n",
       "1        Arizona            2        2.000027\n",
       "2  Arizona State           11       10.999972\n",
       "3       Arkansas            8        7.999124\n",
       "4         Auburn            9        8.999941"
      ]
     },
     "execution_count": 92,
     "metadata": {},
     "output_type": "execute_result"
    }
   ],
   "source": [
    "import pandas as pd\n",
    "\n",
    "# Assuming you have a DataFrame 'df' containing the school names, actual seed, and predicted seed values\n",
    "\n",
    "# Create a DataFrame with school names, actual seed, and predicted seed\n",
    "results_df = pd.DataFrame({\n",
    "    'School': final['School'],\n",
    "    'Actual Seed': y,\n",
    "    'Predicted Seed': y_pred_xgb_rf\n",
    "})\n",
    "\n",
    "# Display the DataFrame\n",
    "results_df.head()\n"
   ]
  },
  {
   "cell_type": "code",
   "execution_count": null,
   "id": "3b3326c9",
   "metadata": {},
   "outputs": [],
   "source": []
  },
  {
   "cell_type": "code",
   "execution_count": null,
   "id": "1682dcd4",
   "metadata": {},
   "outputs": [],
   "source": []
  },
  {
   "cell_type": "code",
   "execution_count": null,
   "id": "84a90aaf",
   "metadata": {},
   "outputs": [],
   "source": []
  },
  {
   "cell_type": "code",
   "execution_count": null,
   "id": "e995ea5f",
   "metadata": {},
   "outputs": [],
   "source": []
  },
  {
   "cell_type": "code",
   "execution_count": null,
   "id": "15479c22",
   "metadata": {},
   "outputs": [],
   "source": []
  },
  {
   "cell_type": "code",
   "execution_count": null,
   "id": "1ddf8e29",
   "metadata": {},
   "outputs": [],
   "source": []
  },
  {
   "cell_type": "code",
   "execution_count": null,
   "id": "189554ce",
   "metadata": {},
   "outputs": [],
   "source": []
  },
  {
   "cell_type": "code",
   "execution_count": null,
   "id": "b6332c58",
   "metadata": {},
   "outputs": [],
   "source": []
  },
  {
   "cell_type": "code",
   "execution_count": null,
   "id": "442fe5eb",
   "metadata": {},
   "outputs": [],
   "source": []
  },
  {
   "cell_type": "code",
   "execution_count": null,
   "id": "e642d72c",
   "metadata": {},
   "outputs": [],
   "source": []
  },
  {
   "cell_type": "code",
   "execution_count": null,
   "id": "7966c507",
   "metadata": {},
   "outputs": [],
   "source": []
  }
 ],
 "metadata": {
  "kernelspec": {
   "display_name": "Python 3 (ipykernel)",
   "language": "python",
   "name": "python3"
  },
  "language_info": {
   "codemirror_mode": {
    "name": "ipython",
    "version": 3
   },
   "file_extension": ".py",
   "mimetype": "text/x-python",
   "name": "python",
   "nbconvert_exporter": "python",
   "pygments_lexer": "ipython3",
   "version": "3.11.5"
  }
 },
 "nbformat": 4,
 "nbformat_minor": 5
}
